{
 "cells": [
  {
   "cell_type": "code",
   "execution_count": 1,
   "metadata": {},
   "outputs": [],
   "source": [
    "%load_ext autoreload\n",
    "%autoreload 2"
   ]
  },
  {
   "cell_type": "code",
   "execution_count": 2,
   "metadata": {},
   "outputs": [
    {
     "name": "stderr",
     "output_type": "stream",
     "text": [
      "DEBUG:rdflib:RDFLib Version: 4.2.2\n"
     ]
    }
   ],
   "source": [
    "import yaml\n",
    "import os\n",
    "import urlparse\n",
    "import requests\n",
    "import json\n",
    "\n",
    "from synorchestrator.trs_client.client import TRSClient\n",
    "from synorchestrator.wes_client.client import WESClient\n",
    "from synorchestrator.util import build_wes_request"
   ]
  },
  {
   "cell_type": "markdown",
   "metadata": {},
   "source": [
    "## Set up TRS and WES clients"
   ]
  },
  {
   "cell_type": "markdown",
   "metadata": {},
   "source": [
    "Load options and paramters for TRS and WES servers from local configs."
   ]
  },
  {
   "cell_type": "code",
   "execution_count": 3,
   "metadata": {},
   "outputs": [],
   "source": [
    "with open('../toolregistries.config', 'rb') as f:\n",
    "    trs_config = yaml.load(f)\n",
    "    \n",
    "with open('../workflowservices.config', 'rb') as f:\n",
    "    wes_config = yaml.load(f)"
   ]
  },
  {
   "cell_type": "code",
   "execution_count": 4,
   "metadata": {},
   "outputs": [],
   "source": [
    "tclient = TRSClient(**trs_config['dockstore'])\n",
    "wclient = WESClient(**wes_config['arvados-wes'])"
   ]
  },
  {
   "cell_type": "markdown",
   "metadata": {},
   "source": [
    "## Working with TRS"
   ]
  },
  {
   "cell_type": "markdown",
   "metadata": {},
   "source": [
    "### Get checker workflow information"
   ]
  },
  {
   "cell_type": "code",
   "execution_count": 5,
   "metadata": {},
   "outputs": [],
   "source": [
    "workflow_id = 'github.com/dockstore-testing/md5sum-checker'"
   ]
  },
  {
   "cell_type": "markdown",
   "metadata": {},
   "source": [
    "#### Get checker for specified workflow"
   ]
  },
  {
   "cell_type": "code",
   "execution_count": 6,
   "metadata": {},
   "outputs": [
    {
     "name": "stderr",
     "output_type": "stream",
     "text": [
      "DEBUG:root:retrieving workflow entry from tools/%23workflow%2Fgithub.com%2Fdockstore-testing%2Fmd5sum-checker\n",
      "DEBUG:urllib3.connectionpool:Starting new HTTPS connection (1): dockstore.org\n",
      "DEBUG:urllib3.connectionpool:https://dockstore.org:8443 \"GET /api/ga4gh/v2/tools/%23workflow%2Fgithub.com%2Fdockstore-testing%2Fmd5sum-checker HTTP/1.1\" 200 418\n",
      "DEBUG:synorchestrator.trs_client.client:found checker workflow: github.com/dockstore-testing/md5sum-checker/_cwl_checker\n",
      "DEBUG:root:retrieving workflow entry from tools/%23workflow%2Fgithub.com%2Fdockstore-testing%2Fmd5sum-checker%2F_cwl_checker\n",
      "DEBUG:urllib3.connectionpool:Starting new HTTPS connection (1): dockstore.org\n",
      "DEBUG:urllib3.connectionpool:https://dockstore.org:8443 \"GET /api/ga4gh/v2/tools/%23workflow%2Fgithub.com%2Fdockstore-testing%2Fmd5sum-checker%2F_cwl_checker HTTP/1.1\" 200 496\n"
     ]
    },
    {
     "data": {
      "text/plain": [
       "u'#workflow/github.com/dockstore-testing/md5sum-checker/_cwl_checker'"
      ]
     },
     "execution_count": 6,
     "metadata": {},
     "output_type": "execute_result"
    }
   ],
   "source": [
    "checker_workflow = tclient.get_workflow_checker(workflow_id)\n",
    "checker_workflow['id']"
   ]
  },
  {
   "cell_type": "markdown",
   "metadata": {},
   "source": [
    "#### Get checker descriptor for specified version and workflow type"
   ]
  },
  {
   "cell_type": "code",
   "execution_count": 7,
   "metadata": {},
   "outputs": [
    {
     "name": "stderr",
     "output_type": "stream",
     "text": [
      "DEBUG:synorchestrator.trs_client.client:getting descriptor from tools/%23workflow%2Fgithub.com%2Fdockstore-testing%2Fmd5sum-checker%2F_cwl_checker/versions/develop/CWL/descriptor\n",
      "DEBUG:urllib3.connectionpool:Starting new HTTPS connection (1): dockstore.org\n",
      "DEBUG:urllib3.connectionpool:https://dockstore.org:8443 \"GET /api/ga4gh/v2/tools/%23workflow%2Fgithub.com%2Fdockstore-testing%2Fmd5sum-checker%2F_cwl_checker/versions/develop/CWL/descriptor HTTP/1.1\" 200 541\n"
     ]
    },
    {
     "data": {
      "text/plain": [
       "{u'descriptor': u'cwlVersion: v1.0\\nclass: Workflow\\n\\nrequirements:\\n  - class: SubworkflowFeatureRequirement\\n\\n#dct:creator:\\n#  \\'@id\\': http://orcid.org/0000-0002-7681-6415\\n#  foaf:name: Brian O\\'Connor\\n#  foaf:mbox: mailto:briandoconnor@gmail.com\\n\\n#dct:contributor:\\n#  foaf:name: Denis Yuen\\n#  foaf:mbox: mailto:denis.yuen@oicr.on.ca\\n\\ninputs:\\n  input_file: File\\n  expected_md5: string\\n\\noutputs:\\n  workflow_output_file:\\n    type: File\\n    outputSource: checker/results_file\\n\\nsteps:\\n  md5sum:\\n    run: md5sum/md5sum-workflow.cwl\\n    in:\\n      input_file: input_file\\n    out: [output_file]\\n  checker:\\n    run: checker/md5sum-checker.cwl\\n    in:\\n      input_file: md5sum/output_file\\n      expected_md5: expected_md5\\n    out: [results_file]\\n\\ndoc: |\\n  This demonstrates how to wrap a \"real\" tool with a checker workflow that runs both the tool and a tool that performs verification of results\\n',\n",
       " u'type': u'CWL',\n",
       " u'url': u'https://raw.githubusercontent.com/dockstore-testing/md5sum-checker/develop/checker-workflow-wrapping-workflow.cwl'}"
      ]
     },
     "execution_count": 7,
     "metadata": {},
     "output_type": "execute_result"
    }
   ],
   "source": [
    "checker_descriptor = tclient.get_workflow_descriptor(checker_workflow['id'], 'develop', 'CWL')\n",
    "checker_descriptor"
   ]
  },
  {
   "cell_type": "markdown",
   "metadata": {},
   "source": [
    "#### Get checker test params for specified version and workflow type"
   ]
  },
  {
   "cell_type": "code",
   "execution_count": 8,
   "metadata": {},
   "outputs": [
    {
     "name": "stderr",
     "output_type": "stream",
     "text": [
      "DEBUG:urllib3.connectionpool:Starting new HTTPS connection (1): dockstore.org\n",
      "DEBUG:urllib3.connectionpool:https://dockstore.org:8443 \"GET /api/ga4gh/v2/tools/%23workflow%2Fgithub.com%2Fdockstore-testing%2Fmd5sum-checker%2F_cwl_checker/versions/develop/CWL/tests HTTP/1.1\" 200 206\n",
      "DEBUG:synorchestrator.trs_client.client:getting descriptor from tools/%23workflow%2Fgithub.com%2Fdockstore-testing%2Fmd5sum-checker%2F_cwl_checker/versions/develop/CWL/descriptor\n",
      "DEBUG:urllib3.connectionpool:Starting new HTTPS connection (1): dockstore.org\n",
      "DEBUG:urllib3.connectionpool:https://dockstore.org:8443 \"GET /api/ga4gh/v2/tools/%23workflow%2Fgithub.com%2Fdockstore-testing%2Fmd5sum-checker%2F_cwl_checker/versions/develop/CWL/descriptor HTTP/1.1\" 200 541\n"
     ]
    },
    {
     "data": {
      "text/plain": [
       "[{u'test': u'{\\n  \"input_file\": {\\n        \"class\": \"File\",\\n        \"path\": \"md5sum.input\"\\n    },\\n    \"expected_md5\": \"00579a00e3e7fa0674428ac7049423e2\"\\n}\\n',\n",
       "  u'url': u'https://raw.githubusercontent.com/dockstore-testing/md5sum-checker/develop/checker-input-cwl.json'}]"
      ]
     },
     "execution_count": 8,
     "metadata": {},
     "output_type": "execute_result"
    }
   ],
   "source": [
    "checker_tests = tclient.get_workflow_tests(checker_workflow['id'], 'develop', 'CWL')\n",
    "checker_tests"
   ]
  },
  {
   "cell_type": "markdown",
   "metadata": {},
   "source": [
    "## Prepare workflow run request"
   ]
  },
  {
   "cell_type": "markdown",
   "metadata": {},
   "source": [
    "### Build request"
   ]
  },
  {
   "cell_type": "code",
   "execution_count": 10,
   "metadata": {},
   "outputs": [
    {
     "name": "stderr",
     "output_type": "stream",
     "text": [
      "DEBUG:cachecontrol.controller:Looking up \"https://raw.githubusercontent.com/dockstore-testing/md5sum-checker/develop/checker-input-cwl.json\" in the cache\n",
      "DEBUG:cachecontrol.controller:Current age based on date: 376\n",
      "DEBUG:cachecontrol.controller:Freshness lifetime from max-age: 300\n",
      "DEBUG:urllib3.connectionpool:Starting new HTTPS connection (1): raw.githubusercontent.com\n",
      "DEBUG:urllib3.connectionpool:https://raw.githubusercontent.com:443 \"GET /dockstore-testing/md5sum-checker/develop/checker-input-cwl.json HTTP/1.1\" 304 0\n",
      "DEBUG:urllib3.connectionpool:https://raw.githubusercontent.com:443 \"HEAD /dockstore-testing/md5sum-checker/develop/md5sum.input HTTP/1.1\" 200 0\n"
     ]
    },
    {
     "data": {
      "text/plain": [
       "{'workflow_params': ordereddict([('input_file', ordereddict([('class', 'File'), ('location', u'https://raw.githubusercontent.com/dockstore-testing/md5sum-checker/develop/md5sum.input')])), ('expected_md5', '00579a00e3e7fa0674428ac7049423e2')]),\n",
       " 'workflow_type': 'CWL',\n",
       " 'workflow_type_version': 'v1.0',\n",
       " 'workflow_url': u'https://raw.githubusercontent.com/dockstore-testing/md5sum-checker/develop/checker-workflow-wrapping-workflow.cwl'}"
      ]
     },
     "execution_count": 10,
     "metadata": {},
     "output_type": "execute_result"
    }
   ],
   "source": [
    "workflow_request = build_wes_request(\n",
    "    checker_descriptor['url'], checker_tests[0]['url']\n",
    ")\n",
    "workflow_request"
   ]
  },
  {
   "cell_type": "markdown",
   "metadata": {},
   "source": [
    "## Working with WES"
   ]
  },
  {
   "cell_type": "markdown",
   "metadata": {},
   "source": [
    "### Verify WES connection is working"
   ]
  },
  {
   "cell_type": "code",
   "execution_count": 11,
   "metadata": {},
   "outputs": [
    {
     "name": "stderr",
     "output_type": "stream",
     "text": [
      "DEBUG:urllib3.connectionpool:Starting new HTTPS connection (1): wes.qr1hi.arvadosapi.com\n",
      "DEBUG:urllib3.connectionpool:https://wes.qr1hi.arvadosapi.com:443 \"GET /ga4gh/wes/v1/service-info HTTP/1.1\" 200 325\n"
     ]
    },
    {
     "data": {
      "text/plain": [
       "{u'engine_versions': u'cwl-runner',\n",
       " u'key_values': {},\n",
       " u'supported_filesystem_protocols': [u'file', u'http', u'https', u'keep'],\n",
       " u'supported_wes_versions': u'0.2.1',\n",
       " u'system_state_counts': {},\n",
       " u'workflow_type_versions': {u'CWL': {u'workflow_type_version': [u'v1.0']}}}"
      ]
     },
     "execution_count": 11,
     "metadata": {},
     "output_type": "execute_result"
    }
   ],
   "source": [
    "wclient.get_service_info()"
   ]
  },
  {
   "cell_type": "markdown",
   "metadata": {},
   "source": [
    "### Run a checker workflow"
   ]
  },
  {
   "cell_type": "markdown",
   "metadata": {},
   "source": [
    "#### Submit new workflow run"
   ]
  },
  {
   "cell_type": "code",
   "execution_count": 12,
   "metadata": {},
   "outputs": [
    {
     "name": "stderr",
     "output_type": "stream",
     "text": [
      "DEBUG:urllib3.connectionpool:Starting new HTTPS connection (1): wes.qr1hi.arvadosapi.com\n",
      "DEBUG:urllib3.connectionpool:https://wes.qr1hi.arvadosapi.com:443 \"POST /ga4gh/wes/v1/workflows HTTP/1.1\" 200 51\n"
     ]
    },
    {
     "data": {
      "text/plain": [
       "{u'workflow_id': u'qr1hi-xvhdp-dgj0pct9ifm4aiq'}"
      ]
     },
     "execution_count": 12,
     "metadata": {},
     "output_type": "execute_result"
    }
   ],
   "source": [
    "r = wclient.run_workflow(workflow_request)\n",
    "r"
   ]
  },
  {
   "cell_type": "markdown",
   "metadata": {},
   "source": [
    "#### Monitor workflow run status"
   ]
  },
  {
   "cell_type": "code",
   "execution_count": 13,
   "metadata": {},
   "outputs": [
    {
     "name": "stderr",
     "output_type": "stream",
     "text": [
      "DEBUG:urllib3.connectionpool:Starting new HTTPS connection (1): wes.qr1hi.arvadosapi.com\n",
      "DEBUG:urllib3.connectionpool:https://wes.qr1hi.arvadosapi.com:443 \"GET /ga4gh/wes/v1/workflows/qr1hi-xvhdp-dgj0pct9ifm4aiq/status HTTP/1.1\" 200 74\n"
     ]
    }
   ],
   "source": [
    "r = wclient.get_workflow_run_status(r['workflow_id'])\n",
    "while r['state'] in ('QUEUED', 'INITIALIZING', 'RUNNING'):\n",
    "    time.sleep(1)\n",
    "    r = wclient.get_workflow_run_status(r['workflow_id'])"
   ]
  },
  {
   "cell_type": "markdown",
   "metadata": {},
   "source": [
    "#### Check workflow run details"
   ]
  },
  {
   "cell_type": "code",
   "execution_count": 14,
   "metadata": {},
   "outputs": [
    {
     "name": "stderr",
     "output_type": "stream",
     "text": [
      "DEBUG:urllib3.connectionpool:Starting new HTTPS connection (1): wes.qr1hi.arvadosapi.com\n",
      "DEBUG:urllib3.connectionpool:https://wes.qr1hi.arvadosapi.com:443 \"GET /ga4gh/wes/v1/workflows/qr1hi-xvhdp-dgj0pct9ifm4aiq HTTP/1.1\" 200 2384\n"
     ]
    },
    {
     "data": {
      "text/plain": [
       "{u'outputs': {u'workflow_output_file': {u'basename': u'results.json',\n",
       "   u'class': u'File',\n",
       "   u'location': u'https://download.qr1hi.arvadosapi.com/c=51a1c8291787268318b8e84da2371019+117/_/results.json',\n",
       "   u'size': 57}},\n",
       " u'request': {},\n",
       " u'state': u'COMPLETE',\n",
       " u'task_logs': [],\n",
       " u'workflow_id': u'qr1hi-xvhdp-dgj0pct9ifm4aiq',\n",
       " u'workflow_log': {u'cmd': [u''],\n",
       "  u'endTime': u'',\n",
       "  u'exit_code': 0,\n",
       "  u'startTime': u'',\n",
       "  u'stderr': u'2018-05-15T15:20:10.578578670Z cwltool INFO: /usr/local/bin/arvados-cwl-runner 1.1.4.20180511203654, arvados-python-client 1.1.4.20180510153813, cwltool 1.0.20180508202931\\n2018-05-15T15:20:10.580624270Z cwltool INFO: Resolved \\'/var/lib/cwl/workflow.json#main\\' to \\'file:///var/lib/cwl/workflow.json#main\\'\\n2018-05-15T15:20:12.682419170Z cwltool INFO: [workflow workflow.json#main] start\\n2018-05-15T15:20:12.683911770Z cwltool INFO: [step md5sum] start\\n2018-05-15T15:20:12.686741870Z cwltool INFO: [workflow md5sum] start\\n2018-05-15T15:20:12.688149770Z cwltool INFO: [step md5sum_2] start\\n2018-05-15T15:20:13.108565970Z arvados.cwl-runner INFO: [container md5sum] qr1hi-xvhdp-zj8mlm13o4nh7xc state is Committed\\n2018-05-15T15:23:00.712849970Z arvados.cwl-runner INFO: [container md5sum] qr1hi-xvhdp-zj8mlm13o4nh7xc is Final\\n2018-05-15T15:23:00.801120370Z cwltool INFO: [step md5sum_2] completed success\\n2018-05-15T15:23:00.801542770Z cwltool INFO: [workflow md5sum] completed success\\n2018-05-15T15:23:00.801883970Z cwltool INFO: [step md5sum] completed success\\n2018-05-15T15:23:00.830393670Z cwltool INFO: [step checker] start\\n2018-05-15T15:23:01.318480870Z arvados.cwl-runner INFO: [container checker] qr1hi-xvhdp-nqxmuxfmt3bnkgc state is Committed\\n2018-05-15T15:25:24.714873772Z arvados.cwl-runner INFO: [container checker] qr1hi-xvhdp-nqxmuxfmt3bnkgc is Final\\n2018-05-15T15:25:24.800488347Z cwltool INFO: [step checker] completed success\\n2018-05-15T15:25:24.800839462Z cwltool INFO: [workflow workflow.json#main] completed success\\n2018-05-15T15:25:24.801163077Z arvados.cwl-runner INFO: Overall process status is success\\n2018-05-15T15:25:25.173130677Z arvados.cwl-runner INFO: Final output collection 51a1c8291787268318b8e84da2371019+117 \"Output of main\" (qr1hi-4zz18-ge29wxxuzdyj9jp)\\n2018-05-15T15:25:25.619757569Z cwltool INFO: Final process status is success\\n',\n",
       "  u'stdout': u''}}"
      ]
     },
     "execution_count": 14,
     "metadata": {},
     "output_type": "execute_result"
    }
   ],
   "source": [
    "wclient.get_workflow_run(r['workflow_id'])"
   ]
  },
  {
   "cell_type": "code",
   "execution_count": null,
   "metadata": {},
   "outputs": [],
   "source": []
  }
 ],
 "metadata": {
  "kernelspec": {
   "display_name": "Python 2",
   "language": "python",
   "name": "python2"
  },
  "language_info": {
   "codemirror_mode": {
    "name": "ipython",
    "version": 2
   },
   "file_extension": ".py",
   "mimetype": "text/x-python",
   "name": "python",
   "nbconvert_exporter": "python",
   "pygments_lexer": "ipython2",
   "version": "2.7.15"
  }
 },
 "nbformat": 4,
 "nbformat_minor": 2
}
