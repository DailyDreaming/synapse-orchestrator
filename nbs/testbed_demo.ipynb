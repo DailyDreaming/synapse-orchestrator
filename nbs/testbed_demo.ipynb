{
 "cells": [
  {
   "cell_type": "code",
   "execution_count": 2,
   "metadata": {},
   "outputs": [],
   "source": [
    "%load_ext autoreload\n",
    "%autoreload 2"
   ]
  },
  {
   "cell_type": "code",
   "execution_count": 20,
   "metadata": {},
   "outputs": [],
   "source": [
    "import yaml\n",
    "import os\n",
    "import urlparse\n",
    "import requests\n",
    "import json\n",
    "import time\n",
    "\n",
    "from synorchestrator.trs_client.client import TRSClient\n",
    "from synorchestrator.wes_client.client import WESClient\n",
    "from synorchestrator.util import build_wes_request\n",
    "from synorchestrator.util import params_url2object"
   ]
  },
  {
   "cell_type": "markdown",
   "metadata": {},
   "source": [
    "## Set up TRS and WES clients"
   ]
  },
  {
   "cell_type": "markdown",
   "metadata": {},
   "source": [
    "Load options and paramters for TRS and WES servers from local configs."
   ]
  },
  {
   "cell_type": "code",
   "execution_count": 4,
   "metadata": {},
   "outputs": [],
   "source": [
    "with open('../toolregistries.config', 'rb') as f:\n",
    "    trs_config = yaml.load(f)\n",
    "    \n",
    "with open('../workflowservices.config', 'rb') as f:\n",
    "    wes_config = yaml.load(f)\n",
    "\n",
    "with open('../evals.config', 'rb') as f:\n",
    "    eval_config = yaml.load(f)"
   ]
  },
  {
   "cell_type": "code",
   "execution_count": 5,
   "metadata": {},
   "outputs": [],
   "source": [
    "tclient = TRSClient(**trs_config['dockstore'])\n",
    "arvclient = WESClient(**wes_config['arvados-wes'])\n",
    "cromclient = WESClient(**wes_config['hca-cromwell'])"
   ]
  },
  {
   "cell_type": "markdown",
   "metadata": {},
   "source": [
    "## Tool test\n",
    "\n",
    "Using this section to do some lightweight testing with standalone WDL/CWL *tools* (before getting into workflows)."
   ]
  },
  {
   "cell_type": "markdown",
   "metadata": {},
   "source": [
    "### WDL\n",
    "\n",
    "Testing with the WDL version of `quay.io/briandoconnor/dockstore-tool-md5sum`; fetch the descriptor file content from Dockstore."
   ]
  },
  {
   "cell_type": "code",
   "execution_count": 10,
   "metadata": {},
   "outputs": [
    {
     "name": "stderr",
     "output_type": "stream",
     "text": [
      "DEBUG:urllib3.connectionpool:Starting new HTTPS connection (1): dockstore.org\n",
      "DEBUG:urllib3.connectionpool:https://dockstore.org:8443 \"GET /api/ga4gh/v2/tools/quay.io%2Fbriandoconnor%2Fdockstore-tool-md5sum/versions/master/plain-WDL/descriptor/%2FDockstore.wdl HTTP/1.1\" 200 211\n"
     ]
    },
    {
     "data": {
      "text/plain": [
       "'task md5 {\\n  File inputFile\\n\\n  command {\\n    /bin/my_md5sum ${inputFile}\\n  }\\n\\n output {\\n    File value = \"md5sum.txt\"\\n }\\n\\n runtime {\\n   docker: \"quay.io/briandoconnor/dockstore-tool-md5sum:1.0.4\"\\n   cpu: 1\\n   memory: \"512 MB\"\\n }\\n}\\n\\nworkflow ga4ghMd5 {\\n File inputFile\\n call md5 { input: inputFile=inputFile }\\n}\\n'"
      ]
     },
     "execution_count": 10,
     "metadata": {},
     "output_type": "execute_result"
    }
   ],
   "source": [
    "wdl_tool_url = 'https://dockstore.org:8443/api/ga4gh/v2/tools/quay.io%2Fbriandoconnor%2Fdockstore-tool-md5sum/versions/master/plain-WDL/descriptor/%2FDockstore.wdl'\n",
    "wdl_tool_descriptor = requests.get(wdl_tool_url)\n",
    "wdl_tool_descriptor.content"
   ]
  },
  {
   "cell_type": "markdown",
   "metadata": {},
   "source": [
    "#### Submitting with `workflow_descriptor`\n",
    "\n",
    "Retrieve the test parameters content from the JSON file in GitHub and format as an object for the WES request. Provide the contents of WDL descriptor file as string/blob in request."
   ]
  },
  {
   "cell_type": "code",
   "execution_count": 11,
   "metadata": {},
   "outputs": [
    {
     "name": "stderr",
     "output_type": "stream",
     "text": [
      "DEBUG:cachecontrol.controller:Looking up \"https://raw.githubusercontent.com/briandoconnor/dockstore-tool-md5sum/master/test.wdl.json\" in the cache\n",
      "DEBUG:cachecontrol.controller:Current age based on date: 50786\n",
      "DEBUG:cachecontrol.controller:Freshness lifetime from max-age: 300\n",
      "DEBUG:urllib3.connectionpool:Starting new HTTPS connection (1): raw.githubusercontent.com\n",
      "DEBUG:urllib3.connectionpool:https://raw.githubusercontent.com:443 \"GET /briandoconnor/dockstore-tool-md5sum/master/test.wdl.json HTTP/1.1\" 304 0\n",
      "DEBUG:urllib3.connectionpool:https://raw.githubusercontent.com:443 \"HEAD /briandoconnor/dockstore-tool-md5sum/master/md5sum.input HTTP/1.1\" 200 0\n"
     ]
    },
    {
     "data": {
      "text/plain": [
       "{'workflow_descriptor': 'task md5 {\\n  File inputFile\\n\\n  command {\\n    /bin/my_md5sum ${inputFile}\\n  }\\n\\n output {\\n    File value = \"md5sum.txt\"\\n }\\n\\n runtime {\\n   docker: \"quay.io/briandoconnor/dockstore-tool-md5sum:1.0.4\"\\n   cpu: 1\\n   memory: \"512 MB\"\\n }\\n}\\n\\nworkflow ga4ghMd5 {\\n File inputFile\\n call md5 { input: inputFile=inputFile }\\n}\\n',\n",
       " 'workflow_params': ordereddict([('ga4ghMd5.inputFile', 'https://raw.githubusercontent.com/briandoconnor/dockstore-tool-md5sum/master/md5sum.input')]),\n",
       " 'workflow_type': 'WDL',\n",
       " 'workflow_type_version': 'v1.0'}"
      ]
     },
     "execution_count": 11,
     "metadata": {},
     "output_type": "execute_result"
    }
   ],
   "source": [
    "wdl_tool_test_url = 'https://raw.githubusercontent.com/briandoconnor/dockstore-tool-md5sum/master/test.wdl.json'\n",
    "tool_request = build_wes_request(\n",
    "    workflow_descriptor=wdl_tool_descriptor.content, \n",
    "    workflow_params=wdl_tool_test_url,\n",
    "    workflow_type='WDL'\n",
    "    \n",
    ")\n",
    "tool_request"
   ]
  },
  {
   "cell_type": "markdown",
   "metadata": {},
   "source": [
    "Update the file input path in `workflow_params` to use GS URL."
   ]
  },
  {
   "cell_type": "code",
   "execution_count": 327,
   "metadata": {},
   "outputs": [
    {
     "data": {
      "text/plain": [
       "{'workflow_descriptor': 'task md5 {\\n  File inputFile\\n\\n  command {\\n    /bin/my_md5sum ${inputFile}\\n  }\\n\\n output {\\n    File value = \"md5sum.txt\"\\n }\\n\\n runtime {\\n   docker: \"quay.io/briandoconnor/dockstore-tool-md5sum:1.0.4\"\\n   cpu: 1\\n   memory: \"512 MB\"\\n }\\n}\\n\\nworkflow ga4ghMd5 {\\n File inputFile\\n call md5 { input: inputFile=inputFile }\\n}\\n',\n",
       " 'workflow_params': ordereddict([('ga4ghMd5.inputFile', 'gs://dockstore-tool-md5sum-data/md5sum.input.txt')]),\n",
       " 'workflow_type': 'WDL',\n",
       " 'workflow_type_version': 'v1.0'}"
      ]
     },
     "execution_count": 327,
     "metadata": {},
     "output_type": "execute_result"
    }
   ],
   "source": [
    "tool_request['workflow_params']['ga4ghMd5.inputFile'] = 'gs://dockstore-tool-md5sum-data/md5sum.input.txt'\n",
    "tool_request"
   ]
  },
  {
   "cell_type": "markdown",
   "metadata": {},
   "source": [
    "Submit the tool run."
   ]
  },
  {
   "cell_type": "code",
   "execution_count": 328,
   "metadata": {},
   "outputs": [
    {
     "name": "stderr",
     "output_type": "stream",
     "text": [
      "DEBUG:urllib3.connectionpool:Starting new HTTPS connection (1): g0n2qjnu94.execute-api.us-east-1.amazonaws.com\n",
      "DEBUG:urllib3.connectionpool:https://g0n2qjnu94.execute-api.us-east-1.amazonaws.com:443 \"POST /test//workflows HTTP/1.1\" 200 55\n"
     ]
    },
    {
     "data": {
      "text/plain": [
       "{u'workflow_id': u'0711d724-afbe-4867-ab4b-e415468b2be5'}"
      ]
     },
     "execution_count": 328,
     "metadata": {},
     "output_type": "execute_result"
    }
   ],
   "source": [
    "cromclient.run_workflow(tool_request)"
   ]
  },
  {
   "cell_type": "code",
   "execution_count": 334,
   "metadata": {},
   "outputs": [
    {
     "name": "stderr",
     "output_type": "stream",
     "text": [
      "DEBUG:urllib3.connectionpool:Starting new HTTPS connection (1): g0n2qjnu94.execute-api.us-east-1.amazonaws.com\n",
      "DEBUG:urllib3.connectionpool:https://g0n2qjnu94.execute-api.us-east-1.amazonaws.com:443 \"GET /test//workflows/0711d724-afbe-4867-ab4b-e415468b2be5 HTTP/1.1\" 200 962\n"
     ]
    },
    {
     "data": {
      "text/plain": [
       "{u'end_time': u'2018-05-24T02:18:17.323Z',\n",
       " u'outputs': {u'ga4ghMd5.md5.value': u'gs://broad-dsde-mint-dev-cromwell-execution/cromwell-executions/ga4ghMd5/0711d724-afbe-4867-ab4b-e415468b2be5/call-md5/md5sum.txt'},\n",
       " u'request': {u'workflow_descriptor': u'task md5 {\\n  File inputFile\\n\\n  command {\\n    /bin/my_md5sum ${inputFile}\\n  }\\n\\n output {\\n    File value = \"md5sum.txt\"\\n }\\n\\n runtime {\\n   docker: \"quay.io/briandoconnor/dockstore-tool-md5sum:1.0.4\"\\n   cpu: 1\\n   memory: \"512 MB\"\\n }\\n}\\n\\nworkflow ga4ghMd5 {\\n File inputFile\\n call md5 { input: inputFile=inputFile }\\n}\\n',\n",
       "  u'workflow_params': {u'ga4ghMd5.inputFile': u'gs://dockstore-tool-md5sum-data/md5sum.input.txt'},\n",
       "  u'workflow_type': u'WDL'},\n",
       " u'start_time': u'2018-05-24T02:16:19.746Z',\n",
       " u'state': u'COMPLETE',\n",
       " u'task_logs': [],\n",
       " u'workflow_id': u'0711d724-afbe-4867-ab4b-e415468b2be5',\n",
       " u'workflow_log': {u'cmd': [u''],\n",
       "  u'end_time': u'',\n",
       "  u'exit_code': 0,\n",
       "  u'name': u'',\n",
       "  u'start_time': u'',\n",
       "  u'stderr': u'',\n",
       "  u'stdout': u''}}"
      ]
     },
     "execution_count": 334,
     "metadata": {},
     "output_type": "execute_result"
    }
   ],
   "source": [
    "cromclient.get_workflow_run('0711d724-afbe-4867-ab4b-e415468b2be5')"
   ]
  },
  {
   "cell_type": "markdown",
   "metadata": {},
   "source": [
    "#### Submitting with `workflow_url`\n",
    "\n",
    "Attempt to run the tool by providing URL path for the WDL descriptor file in WES request."
   ]
  },
  {
   "cell_type": "code",
   "execution_count": 339,
   "metadata": {},
   "outputs": [
    {
     "name": "stderr",
     "output_type": "stream",
     "text": [
      "DEBUG:cachecontrol.controller:Looking up \"https://raw.githubusercontent.com/briandoconnor/dockstore-tool-md5sum/master/test.wdl.json\" in the cache\n",
      "DEBUG:cachecontrol.controller:Current age based on date: 211\n",
      "DEBUG:cachecontrol.controller:Freshness lifetime from max-age: 300\n",
      "DEBUG:cachecontrol.controller:The response is \"fresh\", returning cached response\n",
      "DEBUG:cachecontrol.controller:300 > 211\n",
      "DEBUG:urllib3.connectionpool:Starting new HTTPS connection (1): raw.githubusercontent.com\n",
      "DEBUG:urllib3.connectionpool:https://raw.githubusercontent.com:443 \"HEAD /briandoconnor/dockstore-tool-md5sum/master/md5sum.input HTTP/1.1\" 200 0\n"
     ]
    },
    {
     "data": {
      "text/plain": [
       "{'workflow_params': ordereddict([('ga4ghMd5.inputFile', 'gs://dockstore-tool-md5sum-data/md5sum.input.txt')]),\n",
       " 'workflow_type': 'WDL',\n",
       " 'workflow_type_version': 'v1.0',\n",
       " 'workflow_url': 'https://dockstore.org:8443/api/ga4gh/v2/tools/quay.io%2Fbriandoconnor%2Fdockstore-tool-md5sum/versions/master/plain-WDL/descriptor/%2FDockstore.wdl'}"
      ]
     },
     "execution_count": 339,
     "metadata": {},
     "output_type": "execute_result"
    }
   ],
   "source": [
    "tool_request = build_wes_request(\n",
    "    workflow_url='https://dockstore.org:8443/api/ga4gh/v2/tools/quay.io%2Fbriandoconnor%2Fdockstore-tool-md5sum/versions/master/plain-WDL/descriptor/%2FDockstore.wdl', \n",
    "    workflow_params='https://raw.githubusercontent.com/briandoconnor/dockstore-tool-md5sum/master/test.wdl.json',\n",
    "    workflow_type='WDL'\n",
    "    \n",
    ")\n",
    "tool_request['workflow_params']['ga4ghMd5.inputFile'] = 'gs://dockstore-tool-md5sum-data/md5sum.input.txt'\n",
    "tool_request"
   ]
  },
  {
   "cell_type": "code",
   "execution_count": 340,
   "metadata": {},
   "outputs": [
    {
     "name": "stderr",
     "output_type": "stream",
     "text": [
      "DEBUG:urllib3.connectionpool:Starting new HTTPS connection (1): g0n2qjnu94.execute-api.us-east-1.amazonaws.com\n",
      "DEBUG:urllib3.connectionpool:https://g0n2qjnu94.execute-api.us-east-1.amazonaws.com:443 \"POST /test//workflows HTTP/1.1\" 200 232\n"
     ]
    },
    {
     "data": {
      "text/plain": [
       "{u'errorMessage': u\"'workflow_descriptor'\",\n",
       " u'errorType': u'KeyError',\n",
       " u'stackTrace': [[u'/var/task/wes_to_cromwell.py',\n",
       "   93,\n",
       "   u'wes_workflows_post',\n",
       "   u'z = zipfile.ZipFile(io.BytesIO(base64.b64decode(event[\"workflow_descriptor\"])), \\'r\\')']]}"
      ]
     },
     "execution_count": 340,
     "metadata": {},
     "output_type": "execute_result"
    }
   ],
   "source": [
    "cromclient.run_workflow(tool_request)"
   ]
  },
  {
   "cell_type": "markdown",
   "metadata": {},
   "source": [
    "### CWL\n",
    "\n",
    "Testing with the CWL version of `quay.io/briandoconnor/dockstore-tool-md5sum`; fetch the descriptor content from Dockstore."
   ]
  },
  {
   "cell_type": "code",
   "execution_count": 309,
   "metadata": {},
   "outputs": [
    {
     "name": "stderr",
     "output_type": "stream",
     "text": [
      "DEBUG:urllib3.connectionpool:Starting new HTTPS connection (1): dockstore.org\n",
      "DEBUG:urllib3.connectionpool:https://dockstore.org:8443 \"GET /api/ga4gh/v2/tools/quay.io%2Fbriandoconnor%2Fdockstore-tool-md5sum/versions/master/CWL/descriptor HTTP/1.1\" 200 775\n"
     ]
    },
    {
     "data": {
      "text/plain": [
       "{u'descriptor': u'#!/usr/bin/env cwl-runner\\n\\nclass: CommandLineTool\\nid: Md5sum\\nlabel: Simple md5sum tool\\ncwlVersion: v1.0\\n\\n$namespaces:\\n  dct: http://purl.org/dc/terms/\\n  foaf: http://xmlns.com/foaf/0.1/\\n\\ndoc: |\\n  [![Docker Repository on Quay.io](https://quay.io/repository/briandoconnor/dockstore-tool-md5sum/status \"Docker Repository on Quay.io\")](https://quay.io/repository/briandoconnor/dockstore-tool-md5sum)\\n  [![Build Status](https://travis-ci.org/briandoconnor/dockstore-tool-md5sum.svg)](https://travis-ci.org/briandoconnor/dockstore-tool-md5sum)\\n  A very, very simple Docker container for the md5sum command. See the [README](https://github.com/briandoconnor/dockstore-tool-md5sum/blob/master/README.md) for more information.\\n\\n\\n#dct:creator:\\n#  \\'@id\\': http://orcid.org/0000-0002-7681-6415\\n#  foaf:name: Brian O\\'Connor\\n#  foaf:mbox: briandoconnor@gmail.com\\n\\nrequirements:\\n- class: DockerRequirement\\n  dockerPull: quay.io/briandoconnor/dockstore-tool-md5sum:1.0.4\\n- class: InlineJavascriptRequirement\\n\\nhints:\\n- class: ResourceRequirement\\n  # The command really requires very little resources.\\n  coresMin: 1\\n  ramMin: 1024\\n  outdirMin: 1024\\n\\ninputs:\\n  input_file:\\n    type: File\\n    inputBinding:\\n      position: 1\\n    doc: The file that will have its md5sum calculated.\\n\\noutputs:\\n  output_file:\\n    type: File\\n    format: http://edamontology.org/data_3671\\n    outputBinding:\\n      glob: md5sum.txt\\n    doc: A text file that contains a single line that is the md5sum of the input file.\\n\\nbaseCommand: [/bin/my_md5sum]\\n',\n",
       " u'type': u'CWL',\n",
       " u'url': u'https://raw.githubusercontent.com/briandoconnor/dockstore-tool-md5sum/master/Dockstore.cwl'}"
      ]
     },
     "execution_count": 309,
     "metadata": {},
     "output_type": "execute_result"
    }
   ],
   "source": [
    "cwl_tool_url = 'https://dockstore.org:8443/api/ga4gh/v2/tools/quay.io%2Fbriandoconnor%2Fdockstore-tool-md5sum/versions/master/CWL/descriptor'\n",
    "cwl_tool_descriptor = requests.get(cwl_tool_url).json()\n",
    "cwl_tool_descriptor"
   ]
  },
  {
   "cell_type": "markdown",
   "metadata": {},
   "source": [
    "#### Submitting with `workflow_descriptor`\n",
    "\n",
    "Retrieve the test parameters content from the JSON file in GitHub and format as an object for the WES request. Provide the contents of CWL descriptor file as string/blob in request."
   ]
  },
  {
   "cell_type": "code",
   "execution_count": 310,
   "metadata": {},
   "outputs": [
    {
     "name": "stderr",
     "output_type": "stream",
     "text": [
      "DEBUG:cachecontrol.controller:Looking up \"https://raw.githubusercontent.com/briandoconnor/dockstore-tool-md5sum/master/test.json\" in the cache\n",
      "DEBUG:cachecontrol.controller:Current age based on date: 545\n",
      "DEBUG:cachecontrol.controller:Freshness lifetime from max-age: 300\n",
      "DEBUG:urllib3.connectionpool:Starting new HTTPS connection (1): raw.githubusercontent.com\n",
      "DEBUG:urllib3.connectionpool:https://raw.githubusercontent.com:443 \"GET /briandoconnor/dockstore-tool-md5sum/master/test.json HTTP/1.1\" 304 0\n",
      "DEBUG:urllib3.connectionpool:https://raw.githubusercontent.com:443 \"HEAD /briandoconnor/dockstore-tool-md5sum/master/md5sum.input HTTP/1.1\" 200 0\n"
     ]
    },
    {
     "data": {
      "text/plain": [
       "{'workflow_descriptor': u'#!/usr/bin/env cwl-runner\\n\\nclass: CommandLineTool\\nid: Md5sum\\nlabel: Simple md5sum tool\\ncwlVersion: v1.0\\n\\n$namespaces:\\n  dct: http://purl.org/dc/terms/\\n  foaf: http://xmlns.com/foaf/0.1/\\n\\ndoc: |\\n  [![Docker Repository on Quay.io](https://quay.io/repository/briandoconnor/dockstore-tool-md5sum/status \"Docker Repository on Quay.io\")](https://quay.io/repository/briandoconnor/dockstore-tool-md5sum)\\n  [![Build Status](https://travis-ci.org/briandoconnor/dockstore-tool-md5sum.svg)](https://travis-ci.org/briandoconnor/dockstore-tool-md5sum)\\n  A very, very simple Docker container for the md5sum command. See the [README](https://github.com/briandoconnor/dockstore-tool-md5sum/blob/master/README.md) for more information.\\n\\n\\n#dct:creator:\\n#  \\'@id\\': http://orcid.org/0000-0002-7681-6415\\n#  foaf:name: Brian O\\'Connor\\n#  foaf:mbox: briandoconnor@gmail.com\\n\\nrequirements:\\n- class: DockerRequirement\\n  dockerPull: quay.io/briandoconnor/dockstore-tool-md5sum:1.0.4\\n- class: InlineJavascriptRequirement\\n\\nhints:\\n- class: ResourceRequirement\\n  # The command really requires very little resources.\\n  coresMin: 1\\n  ramMin: 1024\\n  outdirMin: 1024\\n\\ninputs:\\n  input_file:\\n    type: File\\n    inputBinding:\\n      position: 1\\n    doc: The file that will have its md5sum calculated.\\n\\noutputs:\\n  output_file:\\n    type: File\\n    format: http://edamontology.org/data_3671\\n    outputBinding:\\n      glob: md5sum.txt\\n    doc: A text file that contains a single line that is the md5sum of the input file.\\n\\nbaseCommand: [/bin/my_md5sum]\\n',\n",
       " 'workflow_params': ordereddict([('input_file', ordereddict([('class', 'File'), ('location', 'https://raw.githubusercontent.com/briandoconnor/dockstore-tool-md5sum/master/md5sum.input')]))]),\n",
       " 'workflow_type': 'CWL',\n",
       " 'workflow_type_version': 'v1.0'}"
      ]
     },
     "execution_count": 310,
     "metadata": {},
     "output_type": "execute_result"
    }
   ],
   "source": [
    "cwl_tool_request = build_wes_request(\n",
    "    workflow_descriptor=cwl_tool_descriptor['descriptor'], \n",
    "#     workflow_url=cwl_tool_descriptor['url'],\n",
    "    workflow_params='https://raw.githubusercontent.com/briandoconnor/dockstore-tool-md5sum/master/test.json',\n",
    "    workflow_type='CWL'\n",
    ")\n",
    "cwl_tool_request"
   ]
  },
  {
   "cell_type": "code",
   "execution_count": 311,
   "metadata": {},
   "outputs": [
    {
     "name": "stderr",
     "output_type": "stream",
     "text": [
      "DEBUG:urllib3.connectionpool:Starting new HTTPS connection (1): wes.qr1hi.arvadosapi.com\n",
      "DEBUG:urllib3.connectionpool:https://wes.qr1hi.arvadosapi.com:443 \"POST /ga4gh/wes/v1/workflows HTTP/1.1\" 200 51\n"
     ]
    },
    {
     "data": {
      "text/plain": [
       "{u'workflow_id': u'qr1hi-xvhdp-y88n0ox6fnvaswt'}"
      ]
     },
     "execution_count": 311,
     "metadata": {},
     "output_type": "execute_result"
    }
   ],
   "source": [
    "arvclient.run_workflow(cwl_tool_request)"
   ]
  },
  {
   "cell_type": "code",
   "execution_count": 12,
   "metadata": {},
   "outputs": [
    {
     "name": "stderr",
     "output_type": "stream",
     "text": [
      "DEBUG:urllib3.connectionpool:Starting new HTTPS connection (1): wes.qr1hi.arvadosapi.com\n",
      "DEBUG:urllib3.connectionpool:https://wes.qr1hi.arvadosapi.com:443 \"GET /ga4gh/wes/v1/workflows/qr1hi-xvhdp-y88n0ox6fnvaswt HTTP/1.1\" 200 254\n"
     ]
    },
    {
     "data": {
      "text/plain": [
       "{u'outputs': {},\n",
       " u'request': {},\n",
       " u'state': u'QUEUED',\n",
       " u'task_logs': [],\n",
       " u'workflow_id': u'qr1hi-xvhdp-y88n0ox6fnvaswt',\n",
       " u'workflow_log': {u'cmd': [u''],\n",
       "  u'endTime': u'',\n",
       "  u'startTime': u'',\n",
       "  u'stderr': u'',\n",
       "  u'stdout': u''}}"
      ]
     },
     "execution_count": 12,
     "metadata": {},
     "output_type": "execute_result"
    }
   ],
   "source": [
    "arvclient.get_workflow_run('qr1hi-xvhdp-y88n0ox6fnvaswt')"
   ]
  },
  {
   "cell_type": "markdown",
   "metadata": {},
   "source": [
    "## Working with TRS"
   ]
  },
  {
   "cell_type": "markdown",
   "metadata": {},
   "source": [
    "### Get checker workflow information"
   ]
  },
  {
   "cell_type": "code",
   "execution_count": 13,
   "metadata": {},
   "outputs": [
    {
     "data": {
      "text/plain": [
       "'github.com/dockstore-testing/md5sum-checker'"
      ]
     },
     "execution_count": 13,
     "metadata": {},
     "output_type": "execute_result"
    }
   ],
   "source": [
    "workflow_id = eval_config[0]['workflow_id']\n",
    "workflow_id"
   ]
  },
  {
   "cell_type": "markdown",
   "metadata": {},
   "source": [
    "#### Get checker for specified workflow"
   ]
  },
  {
   "cell_type": "code",
   "execution_count": 14,
   "metadata": {},
   "outputs": [
    {
     "name": "stderr",
     "output_type": "stream",
     "text": [
      "DEBUG:root:retrieving workflow entry from tools/%23workflow%2Fgithub.com%2Fdockstore-testing%2Fmd5sum-checker\n",
      "DEBUG:urllib3.connectionpool:Starting new HTTPS connection (1): dockstore.org\n",
      "DEBUG:urllib3.connectionpool:https://dockstore.org:8443 \"GET /api/ga4gh/v2/tools/%23workflow%2Fgithub.com%2Fdockstore-testing%2Fmd5sum-checker HTTP/1.1\" 200 418\n",
      "DEBUG:synorchestrator.trs_client.client:found checker workflow: github.com/dockstore-testing/md5sum-checker/_cwl_checker\n",
      "DEBUG:root:retrieving workflow entry from tools/%23workflow%2Fgithub.com%2Fdockstore-testing%2Fmd5sum-checker%2F_cwl_checker\n",
      "DEBUG:urllib3.connectionpool:Starting new HTTPS connection (1): dockstore.org\n",
      "DEBUG:urllib3.connectionpool:https://dockstore.org:8443 \"GET /api/ga4gh/v2/tools/%23workflow%2Fgithub.com%2Fdockstore-testing%2Fmd5sum-checker%2F_cwl_checker HTTP/1.1\" 200 496\n"
     ]
    },
    {
     "data": {
      "text/plain": [
       "u'#workflow/github.com/dockstore-testing/md5sum-checker/_cwl_checker'"
      ]
     },
     "execution_count": 14,
     "metadata": {},
     "output_type": "execute_result"
    }
   ],
   "source": [
    "checker_workflow = tclient.get_workflow_checker(workflow_id)\n",
    "checker_workflow['id']"
   ]
  },
  {
   "cell_type": "markdown",
   "metadata": {},
   "source": [
    "#### Get checker descriptor for specified version and workflow type"
   ]
  },
  {
   "cell_type": "code",
   "execution_count": 15,
   "metadata": {},
   "outputs": [
    {
     "name": "stderr",
     "output_type": "stream",
     "text": [
      "DEBUG:synorchestrator.trs_client.client:getting descriptor from tools/%23workflow%2Fgithub.com%2Fdockstore-testing%2Fmd5sum-checker%2F_cwl_checker/versions/develop/CWL/descriptor\n",
      "DEBUG:urllib3.connectionpool:Starting new HTTPS connection (1): dockstore.org\n",
      "DEBUG:urllib3.connectionpool:https://dockstore.org:8443 \"GET /api/ga4gh/v2/tools/%23workflow%2Fgithub.com%2Fdockstore-testing%2Fmd5sum-checker%2F_cwl_checker/versions/develop/CWL/descriptor HTTP/1.1\" 200 541\n"
     ]
    },
    {
     "data": {
      "text/plain": [
       "{u'descriptor': u'cwlVersion: v1.0\\nclass: Workflow\\n\\nrequirements:\\n  - class: SubworkflowFeatureRequirement\\n\\n#dct:creator:\\n#  \\'@id\\': http://orcid.org/0000-0002-7681-6415\\n#  foaf:name: Brian O\\'Connor\\n#  foaf:mbox: mailto:briandoconnor@gmail.com\\n\\n#dct:contributor:\\n#  foaf:name: Denis Yuen\\n#  foaf:mbox: mailto:denis.yuen@oicr.on.ca\\n\\ninputs:\\n  input_file: File\\n  expected_md5: string\\n\\noutputs:\\n  workflow_output_file:\\n    type: File\\n    outputSource: checker/results_file\\n\\nsteps:\\n  md5sum:\\n    run: md5sum/md5sum-workflow.cwl\\n    in:\\n      input_file: input_file\\n    out: [output_file]\\n  checker:\\n    run: checker/md5sum-checker.cwl\\n    in:\\n      input_file: md5sum/output_file\\n      expected_md5: expected_md5\\n    out: [results_file]\\n\\ndoc: |\\n  This demonstrates how to wrap a \"real\" tool with a checker workflow that runs both the tool and a tool that performs verification of results\\n',\n",
       " u'type': u'CWL',\n",
       " u'url': u'https://raw.githubusercontent.com/dockstore-testing/md5sum-checker/develop/checker-workflow-wrapping-workflow.cwl'}"
      ]
     },
     "execution_count": 15,
     "metadata": {},
     "output_type": "execute_result"
    }
   ],
   "source": [
    "checker_descriptor = tclient.get_workflow_descriptor(checker_workflow['id'], 'develop', 'CWL')\n",
    "checker_descriptor"
   ]
  },
  {
   "cell_type": "markdown",
   "metadata": {},
   "source": [
    "#### Get secondary descriptor(s) for checker workflow"
   ]
  },
  {
   "cell_type": "markdown",
   "metadata": {},
   "source": [
    "#### Get checker test params for specified version and workflow type"
   ]
  },
  {
   "cell_type": "code",
   "execution_count": 16,
   "metadata": {},
   "outputs": [
    {
     "name": "stderr",
     "output_type": "stream",
     "text": [
      "DEBUG:urllib3.connectionpool:Starting new HTTPS connection (1): dockstore.org\n",
      "DEBUG:urllib3.connectionpool:https://dockstore.org:8443 \"GET /api/ga4gh/v2/tools/%23workflow%2Fgithub.com%2Fdockstore-testing%2Fmd5sum-checker%2F_cwl_checker/versions/develop/CWL/tests HTTP/1.1\" 200 206\n",
      "DEBUG:synorchestrator.trs_client.client:getting descriptor from tools/%23workflow%2Fgithub.com%2Fdockstore-testing%2Fmd5sum-checker%2F_cwl_checker/versions/develop/CWL/descriptor\n",
      "DEBUG:urllib3.connectionpool:Starting new HTTPS connection (1): dockstore.org\n",
      "DEBUG:urllib3.connectionpool:https://dockstore.org:8443 \"GET /api/ga4gh/v2/tools/%23workflow%2Fgithub.com%2Fdockstore-testing%2Fmd5sum-checker%2F_cwl_checker/versions/develop/CWL/descriptor HTTP/1.1\" 200 541\n"
     ]
    },
    {
     "data": {
      "text/plain": [
       "[{u'test': u'{\\n  \"input_file\": {\\n        \"class\": \"File\",\\n        \"path\": \"md5sum.input\"\\n    },\\n    \"expected_md5\": \"00579a00e3e7fa0674428ac7049423e2\"\\n}\\n',\n",
       "  u'url': u'https://raw.githubusercontent.com/dockstore-testing/md5sum-checker/develop/checker-input-cwl.json'}]"
      ]
     },
     "execution_count": 16,
     "metadata": {},
     "output_type": "execute_result"
    }
   ],
   "source": [
    "checker_tests = tclient.get_workflow_tests(checker_workflow['id'], 'develop', 'CWL')\n",
    "checker_tests"
   ]
  },
  {
   "cell_type": "markdown",
   "metadata": {},
   "source": [
    "## Prepare workflow run request"
   ]
  },
  {
   "cell_type": "markdown",
   "metadata": {},
   "source": [
    "### Build request"
   ]
  },
  {
   "cell_type": "code",
   "execution_count": 17,
   "metadata": {},
   "outputs": [
    {
     "name": "stderr",
     "output_type": "stream",
     "text": [
      "DEBUG:cachecontrol.controller:Looking up \"https://raw.githubusercontent.com/dockstore-testing/md5sum-checker/develop/checker-workflow-wrapping-workflow.cwl\" in the cache\n",
      "DEBUG:cachecontrol.controller:Current age based on date: 165907\n",
      "DEBUG:cachecontrol.controller:Freshness lifetime from max-age: 300\n",
      "DEBUG:urllib3.connectionpool:Starting new HTTPS connection (1): raw.githubusercontent.com\n",
      "DEBUG:urllib3.connectionpool:https://raw.githubusercontent.com:443 \"GET /dockstore-testing/md5sum-checker/develop/checker-workflow-wrapping-workflow.cwl HTTP/1.1\" 304 0\n"
     ]
    },
    {
     "data": {
      "text/plain": [
       "{'workflow_descriptor': u'https://raw.githubusercontent.com/dockstore-testing/md5sum-checker/develop/checker-input-cwl.json',\n",
       " 'workflow_params': ordereddict([('cwlVersion', 'v1.0'), ('class', 'Workflow'), ('requirements', [ordereddict([('class', 'SubworkflowFeatureRequirement')])]), ('inputs', ordereddict([('input_file', 'File'), ('expected_md5', 'string')])), ('outputs', ordereddict([('workflow_output_file', ordereddict([('type', 'File'), ('outputSource', 'checker/results_file')]))])), ('steps', ordereddict([('md5sum', ordereddict([('run', 'md5sum/md5sum-workflow.cwl'), ('in', ordereddict([('input_file', 'input_file')])), ('out', ['output_file'])])), ('checker', ordereddict([('run', 'checker/md5sum-checker.cwl'), ('in', ordereddict([('input_file', 'md5sum/output_file'), ('expected_md5', 'expected_md5')])), ('out', ['results_file'])]))])), ('doc', u'This demonstrates how to wrap a \"real\" tool with a checker workflow that runs both the tool and a tool that performs verification of results\\n')]),\n",
       " 'workflow_type': 'CWL',\n",
       " 'workflow_type_version': 'v1.0'}"
      ]
     },
     "execution_count": 17,
     "metadata": {},
     "output_type": "execute_result"
    }
   ],
   "source": [
    "workflow_request = build_wes_request(\n",
    "    checker_descriptor['url'], checker_tests[0]['url']\n",
    ")\n",
    "workflow_request"
   ]
  },
  {
   "cell_type": "markdown",
   "metadata": {},
   "source": [
    "## Working with WES"
   ]
  },
  {
   "cell_type": "markdown",
   "metadata": {},
   "source": [
    "### Verify WES connections are working"
   ]
  },
  {
   "cell_type": "code",
   "execution_count": 19,
   "metadata": {},
   "outputs": [
    {
     "name": "stderr",
     "output_type": "stream",
     "text": [
      "DEBUG:urllib3.connectionpool:Starting new HTTPS connection (1): wes.qr1hi.arvadosapi.com\n",
      "DEBUG:urllib3.connectionpool:https://wes.qr1hi.arvadosapi.com:443 \"GET /ga4gh/wes/v1/service-info HTTP/1.1\" 200 325\n"
     ]
    },
    {
     "data": {
      "text/plain": [
       "{u'engine_versions': u'cwl-runner',\n",
       " u'key_values': {},\n",
       " u'supported_filesystem_protocols': [u'file', u'http', u'https', u'keep'],\n",
       " u'supported_wes_versions': u'0.2.1',\n",
       " u'system_state_counts': {},\n",
       " u'workflow_type_versions': {u'CWL': {u'workflow_type_version': [u'v1.0']}}}"
      ]
     },
     "execution_count": 19,
     "metadata": {},
     "output_type": "execute_result"
    }
   ],
   "source": [
    "arvclient.get_service_info()"
   ]
  },
  {
   "cell_type": "code",
   "execution_count": 103,
   "metadata": {},
   "outputs": [
    {
     "name": "stderr",
     "output_type": "stream",
     "text": [
      "DEBUG:urllib3.connectionpool:Starting new HTTPS connection (1): g0n2qjnu94.execute-api.us-east-1.amazonaws.com\n",
      "DEBUG:urllib3.connectionpool:https://g0n2qjnu94.execute-api.us-east-1.amazonaws.com:443 \"GET /test//service-info HTTP/1.1\" 200 337\n"
     ]
    },
    {
     "data": {
      "text/plain": [
       "{u'auth_instructions_url': u'',\n",
       " u'default_workflow_engine_parameters': [],\n",
       " u'supported_filesystem_protocols': [u'gs'],\n",
       " u'supported_wes_versions': [u'0.2.1'],\n",
       " u'system_state_counts': {u'zero': 0},\n",
       " u'tags': {},\n",
       " u'workflow_engine_versions': {u'cromwell': u'31'},\n",
       " u'workflow_type_versions': {u'huh': {u'worfklow_type_version': [u'wdl',\n",
       "    u'gzip',\n",
       "    u'main.wdl']}}}"
      ]
     },
     "execution_count": 103,
     "metadata": {},
     "output_type": "execute_result"
    }
   ],
   "source": [
    "cromclient.get_service_info()"
   ]
  },
  {
   "cell_type": "markdown",
   "metadata": {},
   "source": [
    "### Run a checker workflow"
   ]
  },
  {
   "cell_type": "markdown",
   "metadata": {},
   "source": [
    "#### Submit new workflow run"
   ]
  },
  {
   "cell_type": "code",
   "execution_count": 18,
   "metadata": {},
   "outputs": [
    {
     "name": "stderr",
     "output_type": "stream",
     "text": [
      "DEBUG:urllib3.connectionpool:Starting new HTTPS connection (1): wes.qr1hi.arvadosapi.com\n",
      "DEBUG:urllib3.connectionpool:https://wes.qr1hi.arvadosapi.com:443 \"POST /ga4gh/wes/v1/workflows HTTP/1.1\" 200 51\n"
     ]
    },
    {
     "data": {
      "text/plain": [
       "{u'workflow_id': u'qr1hi-xvhdp-9frmmblu8vo749f'}"
      ]
     },
     "execution_count": 18,
     "metadata": {},
     "output_type": "execute_result"
    }
   ],
   "source": [
    "r = arvclient.run_workflow(workflow_request)\n",
    "r"
   ]
  },
  {
   "cell_type": "markdown",
   "metadata": {},
   "source": [
    "#### Monitor workflow run status"
   ]
  },
  {
   "cell_type": "code",
   "execution_count": 22,
   "metadata": {},
   "outputs": [
    {
     "name": "stderr",
     "output_type": "stream",
     "text": [
      "DEBUG:urllib3.connectionpool:Starting new HTTPS connection (1): wes.qr1hi.arvadosapi.com\n",
      "DEBUG:urllib3.connectionpool:https://wes.qr1hi.arvadosapi.com:443 \"GET /ga4gh/wes/v1/workflows/qr1hi-xvhdp-9frmmblu8vo749f/status HTTP/1.1\" 200 72\n"
     ]
    },
    {
     "data": {
      "text/plain": [
       "{u'state': u'QUEUED', u'workflow_id': u'qr1hi-xvhdp-9frmmblu8vo749f'}"
      ]
     },
     "execution_count": 22,
     "metadata": {},
     "output_type": "execute_result"
    }
   ],
   "source": [
    "r = arvclient.get_workflow_run_status(r['workflow_id'])\n",
    "r\n",
    "# while r['state'] in ('QUEUED', 'INITIALIZING', 'RUNNING'):\n",
    "#     time.sleep(1)\n",
    "#     r = arvclient.get_workflow_run_status(r['workflow_id'])"
   ]
  },
  {
   "cell_type": "markdown",
   "metadata": {},
   "source": [
    "#### Check workflow run details"
   ]
  },
  {
   "cell_type": "code",
   "execution_count": 23,
   "metadata": {},
   "outputs": [
    {
     "name": "stderr",
     "output_type": "stream",
     "text": [
      "DEBUG:urllib3.connectionpool:Starting new HTTPS connection (1): wes.qr1hi.arvadosapi.com\n",
      "DEBUG:urllib3.connectionpool:https://wes.qr1hi.arvadosapi.com:443 \"GET /ga4gh/wes/v1/workflows/qr1hi-xvhdp-9frmmblu8vo749f HTTP/1.1\" 200 254\n"
     ]
    },
    {
     "data": {
      "text/plain": [
       "{u'outputs': {},\n",
       " u'request': {},\n",
       " u'state': u'QUEUED',\n",
       " u'task_logs': [],\n",
       " u'workflow_id': u'qr1hi-xvhdp-9frmmblu8vo749f',\n",
       " u'workflow_log': {u'cmd': [u''],\n",
       "  u'endTime': u'',\n",
       "  u'startTime': u'',\n",
       "  u'stderr': u'',\n",
       "  u'stdout': u''}}"
      ]
     },
     "execution_count": 23,
     "metadata": {},
     "output_type": "execute_result"
    }
   ],
   "source": [
    "arvclient.get_workflow_run(r['workflow_id'])"
   ]
  },
  {
   "cell_type": "code",
   "execution_count": null,
   "metadata": {},
   "outputs": [],
   "source": []
  }
 ],
 "metadata": {
  "kernelspec": {
   "display_name": "Python 2",
   "language": "python",
   "name": "python2"
  }
 },
 "nbformat": 4,
 "nbformat_minor": 2
}
