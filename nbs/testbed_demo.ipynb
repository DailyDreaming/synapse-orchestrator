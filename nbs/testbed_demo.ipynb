{
 "cells": [
  {
   "cell_type": "code",
   "execution_count": 57,
   "metadata": {},
   "outputs": [
    {
     "name": "stdout",
     "output_type": "stream",
     "text": [
      "The autoreload extension is already loaded. To reload it, use:\n",
      "  %reload_ext autoreload\n"
     ]
    }
   ],
   "source": [
    "%load_ext autoreload\n",
    "%autoreload 2"
   ]
  },
  {
   "cell_type": "code",
   "execution_count": 66,
   "metadata": {},
   "outputs": [],
   "source": [
    "import yaml\n",
    "import os\n",
    "import urlparse\n",
    "import requests\n",
    "import json\n",
    "import schema_salad.ref_resolver\n",
    "from wes_service.util import visit\n",
    "\n",
    "from synorchestrator.trs_client.client import TRSClient\n",
    "from synorchestrator.wes_client.client import WESClient\n",
    "from synorchestrator.util import params_url2object"
   ]
  },
  {
   "cell_type": "code",
   "execution_count": 59,
   "metadata": {},
   "outputs": [],
   "source": [
    "with open('../toolregistries.config', 'rb') as f:\n",
    "    trs_config = yaml.load(f)\n",
    "    \n",
    "with open('../workflowservices.config', 'rb') as f:\n",
    "    wes_config = yaml.load(f)"
   ]
  },
  {
   "cell_type": "code",
   "execution_count": 60,
   "metadata": {},
   "outputs": [],
   "source": [
    "tclient = TRSClient(**trs_config['dockstore'])\n",
    "wclient = WESClient(**wes_config['arvados-wes'])"
   ]
  },
  {
   "cell_type": "code",
   "execution_count": 61,
   "metadata": {},
   "outputs": [
    {
     "name": "stderr",
     "output_type": "stream",
     "text": [
      "DEBUG:root:retrieving workflow entry from tools/%23workflow%2Fgithub.com%2Fdockstore-testing%2Fmd5sum-checker\n",
      "DEBUG:urllib3.connectionpool:Starting new HTTPS connection (1): dockstore.org\n",
      "DEBUG:urllib3.connectionpool:https://dockstore.org:8443 \"GET /api/ga4gh/v2/tools/%23workflow%2Fgithub.com%2Fdockstore-testing%2Fmd5sum-checker HTTP/1.1\" 200 418\n",
      "DEBUG:synorchestrator.trs_client.client:found checker workflow: github.com/dockstore-testing/md5sum-checker/_cwl_checker\n",
      "DEBUG:root:retrieving workflow entry from tools/%23workflow%2Fgithub.com%2Fdockstore-testing%2Fmd5sum-checker%2F_cwl_checker\n",
      "DEBUG:urllib3.connectionpool:Starting new HTTPS connection (1): dockstore.org\n",
      "DEBUG:urllib3.connectionpool:https://dockstore.org:8443 \"GET /api/ga4gh/v2/tools/%23workflow%2Fgithub.com%2Fdockstore-testing%2Fmd5sum-checker%2F_cwl_checker HTTP/1.1\" 200 496\n"
     ]
    },
    {
     "data": {
      "text/plain": [
       "u'#workflow/github.com/dockstore-testing/md5sum-checker/_cwl_checker'"
      ]
     },
     "execution_count": 61,
     "metadata": {},
     "output_type": "execute_result"
    }
   ],
   "source": [
    "checker_workflow = tclient.get_workflow_checker('github.com/dockstore-testing/md5sum-checker')\n",
    "checker_workflow['id']"
   ]
  },
  {
   "cell_type": "code",
   "execution_count": 62,
   "metadata": {},
   "outputs": [
    {
     "name": "stderr",
     "output_type": "stream",
     "text": [
      "DEBUG:urllib3.connectionpool:Starting new HTTPS connection (1): dockstore.org\n",
      "DEBUG:urllib3.connectionpool:https://dockstore.org:8443 \"GET /api/ga4gh/v2/tools/%23workflow%2Fgithub.com%2Fdockstore-testing%2Fmd5sum-checker%2F_cwl_checker/versions/develop/CWL/descriptor HTTP/1.1\" 200 541\n"
     ]
    },
    {
     "data": {
      "text/plain": [
       "u'https://raw.githubusercontent.com/dockstore-testing/md5sum-checker/develop/checker-workflow-wrapping-workflow.cwl'"
      ]
     },
     "execution_count": 62,
     "metadata": {},
     "output_type": "execute_result"
    }
   ],
   "source": [
    "checker_descriptor = tclient.get_workflow_descriptor(checker_workflow['id'], 'develop', 'CWL')\n",
    "checker_descriptor['url']"
   ]
  },
  {
   "cell_type": "code",
   "execution_count": 63,
   "metadata": {},
   "outputs": [
    {
     "name": "stderr",
     "output_type": "stream",
     "text": [
      "DEBUG:urllib3.connectionpool:Starting new HTTPS connection (1): dockstore.org\n",
      "DEBUG:urllib3.connectionpool:https://dockstore.org:8443 \"GET /api/ga4gh/v2/tools/%23workflow%2Fgithub.com%2Fdockstore-testing%2Fmd5sum-checker%2F_cwl_checker/versions/develop/CWL/tests HTTP/1.1\" 200 206\n"
     ]
    },
    {
     "data": {
      "text/plain": [
       "{u'test': u'{\\n  \"input_file\": {\\n        \"class\": \"File\",\\n        \"path\": \"md5sum.input\"\\n    },\\n    \"expected_md5\": \"00579a00e3e7fa0674428ac7049423e2\"\\n}\\n',\n",
       " u'url': u'/checker-input-cwl.json'}"
      ]
     },
     "execution_count": 63,
     "metadata": {},
     "output_type": "execute_result"
    }
   ],
   "source": [
    "checker_tests = tclient.get_workflow_tests(checker_workflow['id'], 'develop', 'CWL')\n",
    "checker_tests[0]"
   ]
  },
  {
   "cell_type": "code",
   "execution_count": 64,
   "metadata": {},
   "outputs": [
    {
     "data": {
      "text/plain": [
       "u'https://raw.githubusercontent.com/dockstore-testing/md5sum-checker/develop/checker-input-cwl.json'"
      ]
     },
     "execution_count": 64,
     "metadata": {},
     "output_type": "execute_result"
    }
   ],
   "source": [
    "checker_test_url = os.path.join(\n",
    "    os.path.dirname(checker_descriptor['url']), \n",
    "    os.path.basename(checker_tests[0]['url'])\n",
    ")\n",
    "checker_test_url"
   ]
  },
  {
   "cell_type": "code",
   "execution_count": 68,
   "metadata": {},
   "outputs": [
    {
     "name": "stderr",
     "output_type": "stream",
     "text": [
      "DEBUG:cachecontrol.controller:Looking up \"https://raw.githubusercontent.com/dockstore-testing/md5sum-checker/develop/checker-input-cwl.json\" in the cache\n",
      "DEBUG:cachecontrol.controller:Current age based on date: 62\n",
      "DEBUG:cachecontrol.controller:Freshness lifetime from max-age: 300\n",
      "DEBUG:cachecontrol.controller:The response is \"fresh\", returning cached response\n",
      "DEBUG:cachecontrol.controller:300 > 62\n",
      "DEBUG:urllib3.connectionpool:Starting new HTTPS connection (1): raw.githubusercontent.com\n",
      "DEBUG:urllib3.connectionpool:https://raw.githubusercontent.com:443 \"HEAD /dockstore-testing/md5sum-checker/develop/md5sum.input HTTP/1.1\" 200 0\n"
     ]
    }
   ],
   "source": [
    "checker_test = params_url2object(checker_test_url)"
   ]
  },
  {
   "cell_type": "code",
   "execution_count": 69,
   "metadata": {},
   "outputs": [
    {
     "data": {
      "text/plain": [
       "{'workflow_params': ordereddict([('input_file', ordereddict([('class', 'File'), ('location', u'https://raw.githubusercontent.com/dockstore-testing/md5sum-checker/develop/md5sum.input')])), ('expected_md5', '00579a00e3e7fa0674428ac7049423e2')]),\n",
       " 'workflow_type': 'CWL',\n",
       " 'workflow_type_version': 'v1.0',\n",
       " 'workflow_url': u'https://raw.githubusercontent.com/dockstore-testing/md5sum-checker/develop/checker-workflow-wrapping-workflow.cwl'}"
      ]
     },
     "execution_count": 69,
     "metadata": {},
     "output_type": "execute_result"
    }
   ],
   "source": [
    "data = {\n",
    "    \"workflow_url\": checker_descriptor['url'],\n",
    "    \"workflow_params\": checker_test,\n",
    "    \"workflow_type\": \"CWL\",\n",
    "    \"workflow_type_version\": \"v1.0\"\n",
    "}\n",
    "data"
   ]
  },
  {
   "cell_type": "code",
   "execution_count": 70,
   "metadata": {},
   "outputs": [
    {
     "name": "stderr",
     "output_type": "stream",
     "text": [
      "DEBUG:urllib3.connectionpool:Starting new HTTPS connection (1): wes.qr1hi.arvadosapi.com\n",
      "DEBUG:urllib3.connectionpool:https://wes.qr1hi.arvadosapi.com:443 \"GET /ga4gh/wes/v1/service-info HTTP/1.1\" 200 325\n"
     ]
    },
    {
     "data": {
      "text/plain": [
       "{u'engine_versions': u'cwl-runner',\n",
       " u'key_values': {},\n",
       " u'supported_filesystem_protocols': [u'file', u'http', u'https', u'keep'],\n",
       " u'supported_wes_versions': u'0.2.1',\n",
       " u'system_state_counts': {},\n",
       " u'workflow_type_versions': {u'CWL': {u'workflow_type_version': [u'v1.0']}}}"
      ]
     },
     "execution_count": 70,
     "metadata": {},
     "output_type": "execute_result"
    }
   ],
   "source": [
    "wclient.get_service_info()"
   ]
  },
  {
   "cell_type": "code",
   "execution_count": 71,
   "metadata": {},
   "outputs": [
    {
     "name": "stderr",
     "output_type": "stream",
     "text": [
      "DEBUG:urllib3.connectionpool:Starting new HTTPS connection (1): wes.qr1hi.arvadosapi.com\n",
      "DEBUG:urllib3.connectionpool:https://wes.qr1hi.arvadosapi.com:443 \"GET /ga4gh/wes/v1/workflows HTTP/1.1\" 200 2231\n"
     ]
    },
    {
     "data": {
      "text/plain": [
       "{u'next_page_token': u'',\n",
       " u'workflows': [{u'state': u'COMPLETE',\n",
       "   u'workflow_id': u'qr1hi-xvhdp-3s6qt9v3p53agsu'},\n",
       "  {u'state': u'COMPLETE', u'workflow_id': u'qr1hi-xvhdp-57pef89pozypl2z'},\n",
       "  {u'state': u'COMPLETE', u'workflow_id': u'qr1hi-xvhdp-6qud0jj07rdnvx6'},\n",
       "  {u'state': u'COMPLETE', u'workflow_id': u'qr1hi-xvhdp-8zn3q04rkdg4x52'},\n",
       "  {u'state': u'COMPLETE', u'workflow_id': u'qr1hi-xvhdp-996c4y2xynso9qh'},\n",
       "  {u'state': u'COMPLETE', u'workflow_id': u'qr1hi-xvhdp-9thf0yjwnjh6h73'},\n",
       "  {u'state': u'COMPLETE', u'workflow_id': u'qr1hi-xvhdp-9vch6kqxifwbv45'},\n",
       "  {u'state': u'COMPLETE', u'workflow_id': u'qr1hi-xvhdp-ao0meq3szjq6bwz'},\n",
       "  {u'state': u'QUEUED', u'workflow_id': u'qr1hi-xvhdp-d9fubcd90k25fh3'},\n",
       "  {u'state': u'COMPLETE', u'workflow_id': u'qr1hi-xvhdp-ghv7l7mmvs6mifw'},\n",
       "  {u'state': u'COMPLETE', u'workflow_id': u'qr1hi-xvhdp-h04nggwn6vzt5oz'},\n",
       "  {u'state': u'COMPLETE', u'workflow_id': u'qr1hi-xvhdp-hwk8t8j8k7mgskw'},\n",
       "  {u'state': u'COMPLETE', u'workflow_id': u'qr1hi-xvhdp-i1xuvlc4w4n2meo'},\n",
       "  {u'state': u'CANCELED', u'workflow_id': u'qr1hi-xvhdp-ia25duj4d7kknyu'},\n",
       "  {u'state': u'COMPLETE', u'workflow_id': u'qr1hi-xvhdp-ip4bwv2mt09qecq'},\n",
       "  {u'state': u'COMPLETE', u'workflow_id': u'qr1hi-xvhdp-j10b0yribnprohf'},\n",
       "  {u'state': u'COMPLETE', u'workflow_id': u'qr1hi-xvhdp-jdevgqhy3dxbvhe'},\n",
       "  {u'state': u'COMPLETE', u'workflow_id': u'qr1hi-xvhdp-u47x5rlk27jnaug'},\n",
       "  {u'state': u'COMPLETE', u'workflow_id': u'qr1hi-xvhdp-ugwoi4ipmvhsoir'},\n",
       "  {u'state': u'COMPLETE', u'workflow_id': u'qr1hi-xvhdp-x6uri7rlojrlfa7'},\n",
       "  {u'state': u'COMPLETE', u'workflow_id': u'qr1hi-xvhdp-y14vfzugg79nx1h'},\n",
       "  {u'state': u'COMPLETE', u'workflow_id': u'qr1hi-xvhdp-y9u23mhuyqp3637'},\n",
       "  {u'state': u'COMPLETE', u'workflow_id': u'qr1hi-xvhdp-yku5l0lbe95e4nb'},\n",
       "  {u'state': u'CANCELED', u'workflow_id': u'qr1hi-xvhdp-ytl84ehihsdaiuj'}]}"
      ]
     },
     "execution_count": 71,
     "metadata": {},
     "output_type": "execute_result"
    }
   ],
   "source": [
    "wclient.list_workflow_runs()"
   ]
  },
  {
   "cell_type": "code",
   "execution_count": 89,
   "metadata": {},
   "outputs": [
    {
     "name": "stderr",
     "output_type": "stream",
     "text": [
      "DEBUG:urllib3.connectionpool:Starting new HTTPS connection (1): wes.qr1hi.arvadosapi.com\n",
      "DEBUG:urllib3.connectionpool:https://wes.qr1hi.arvadosapi.com:443 \"POST /ga4gh/wes/v1/workflows HTTP/1.1\" 200 51\n",
      "DEBUG:urllib3.connectionpool:Starting new HTTPS connection (1): wes.qr1hi.arvadosapi.com\n",
      "DEBUG:urllib3.connectionpool:https://wes.qr1hi.arvadosapi.com:443 \"GET /ga4gh/wes/v1/workflows/qr1hi-xvhdp-k9wpwxm9pifw30k/status HTTP/1.1\" 200 74\n"
     ]
    }
   ],
   "source": [
    "r = wclient.run_workflow(data)\n",
    "\n",
    "r = wclient.get_workflow_run_status(r['workflow_id'])\n",
    "while r['state'] in ('QUEUED', 'INITIALIZING', 'RUNNING'):\n",
    "    time.sleep(1)\n",
    "    r = wclient.get_workflow_run_status(r['workflow_id'])"
   ]
  },
  {
   "cell_type": "code",
   "execution_count": 90,
   "metadata": {},
   "outputs": [
    {
     "name": "stderr",
     "output_type": "stream",
     "text": [
      "DEBUG:urllib3.connectionpool:Starting new HTTPS connection (1): wes.qr1hi.arvadosapi.com\n",
      "DEBUG:urllib3.connectionpool:https://wes.qr1hi.arvadosapi.com:443 \"GET /ga4gh/wes/v1/workflows/qr1hi-xvhdp-k9wpwxm9pifw30k HTTP/1.1\" 200 2384\n"
     ]
    },
    {
     "data": {
      "text/plain": [
       "{u'outputs': {u'workflow_output_file': {u'basename': u'results.json',\n",
       "   u'class': u'File',\n",
       "   u'location': u'https://download.qr1hi.arvadosapi.com/c=51a1c8291787268318b8e84da2371019+117/_/results.json',\n",
       "   u'size': 57}},\n",
       " u'request': {},\n",
       " u'state': u'COMPLETE',\n",
       " u'task_logs': [],\n",
       " u'workflow_id': u'qr1hi-xvhdp-k9wpwxm9pifw30k',\n",
       " u'workflow_log': {u'cmd': [u''],\n",
       "  u'endTime': u'',\n",
       "  u'exit_code': 0,\n",
       "  u'startTime': u'',\n",
       "  u'stderr': u'2018-05-15T15:20:10.578578670Z cwltool INFO: /usr/local/bin/arvados-cwl-runner 1.1.4.20180511203654, arvados-python-client 1.1.4.20180510153813, cwltool 1.0.20180508202931\\n2018-05-15T15:20:10.580624270Z cwltool INFO: Resolved \\'/var/lib/cwl/workflow.json#main\\' to \\'file:///var/lib/cwl/workflow.json#main\\'\\n2018-05-15T15:20:12.682419170Z cwltool INFO: [workflow workflow.json#main] start\\n2018-05-15T15:20:12.683911770Z cwltool INFO: [step md5sum] start\\n2018-05-15T15:20:12.686741870Z cwltool INFO: [workflow md5sum] start\\n2018-05-15T15:20:12.688149770Z cwltool INFO: [step md5sum_2] start\\n2018-05-15T15:20:13.108565970Z arvados.cwl-runner INFO: [container md5sum] qr1hi-xvhdp-zj8mlm13o4nh7xc state is Committed\\n2018-05-15T15:23:00.712849970Z arvados.cwl-runner INFO: [container md5sum] qr1hi-xvhdp-zj8mlm13o4nh7xc is Final\\n2018-05-15T15:23:00.801120370Z cwltool INFO: [step md5sum_2] completed success\\n2018-05-15T15:23:00.801542770Z cwltool INFO: [workflow md5sum] completed success\\n2018-05-15T15:23:00.801883970Z cwltool INFO: [step md5sum] completed success\\n2018-05-15T15:23:00.830393670Z cwltool INFO: [step checker] start\\n2018-05-15T15:23:01.318480870Z arvados.cwl-runner INFO: [container checker] qr1hi-xvhdp-nqxmuxfmt3bnkgc state is Committed\\n2018-05-15T15:25:24.714873772Z arvados.cwl-runner INFO: [container checker] qr1hi-xvhdp-nqxmuxfmt3bnkgc is Final\\n2018-05-15T15:25:24.800488347Z cwltool INFO: [step checker] completed success\\n2018-05-15T15:25:24.800839462Z cwltool INFO: [workflow workflow.json#main] completed success\\n2018-05-15T15:25:24.801163077Z arvados.cwl-runner INFO: Overall process status is success\\n2018-05-15T15:25:25.173130677Z arvados.cwl-runner INFO: Final output collection 51a1c8291787268318b8e84da2371019+117 \"Output of main\" (qr1hi-4zz18-ge29wxxuzdyj9jp)\\n2018-05-15T15:25:25.619757569Z cwltool INFO: Final process status is success\\n',\n",
       "  u'stdout': u''}}"
      ]
     },
     "execution_count": 90,
     "metadata": {},
     "output_type": "execute_result"
    }
   ],
   "source": [
    "wclient.get_workflow_run(r['workflow_id'])"
   ]
  },
  {
   "cell_type": "code",
   "execution_count": null,
   "metadata": {},
   "outputs": [],
   "source": []
  }
 ],
 "metadata": {
  "kernelspec": {
   "display_name": "Python 2",
   "language": "python",
   "name": "python2"
  },
  "language_info": {
   "codemirror_mode": {
    "name": "ipython",
    "version": 2
   },
   "file_extension": ".py",
   "mimetype": "text/x-python",
   "name": "python",
   "nbconvert_exporter": "python",
   "pygments_lexer": "ipython2",
   "version": "2.7.15"
  }
 },
 "nbformat": 4,
 "nbformat_minor": 2
}
