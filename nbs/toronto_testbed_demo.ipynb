{
 "cells": [
  {
   "cell_type": "code",
   "execution_count": 1,
   "metadata": {},
   "outputs": [],
   "source": [
    "%load_ext autoreload\n",
    "%autoreload 2"
   ]
  },
  {
   "cell_type": "code",
   "execution_count": 2,
   "metadata": {},
   "outputs": [],
   "source": [
    "from synorchestrator import orchestrator\n",
    "from synorchestrator.trs.client import TRSClient\n",
    "from synorchestrator.wes.client import WESClient\n",
    "from synorchestrator import config"
   ]
  },
  {
   "cell_type": "code",
   "execution_count": 3,
   "metadata": {},
   "outputs": [
    {
     "name": "stdout",
     "output_type": "stream",
     "text": [
      "\n",
      "Orchestrator options:\n",
      "\n",
      "Evaluation Queues\n",
      "---------------------------------------------------------------------------\n",
      "wflow0: github.com/dockstore-testing/md5sum-checker [CWL]\n",
      "wflow1: github.com/dockstore-testing/md5sum-checker/wdl [WDL]\n",
      "wflow2: github.com/DataBiosphere/topmed-workflows/TopMed_Variant_Caller [WDL]\n",
      "wflow3: github.com/DataBiosphere/topmed-workflows/u_of_Michigan_alignment_pipeline [WDL]\n",
      "\n",
      "Tool Registries\n",
      "---------------------------------------------------------------------------\n",
      "dockstore: dockstore.org:8443\n",
      "\n",
      "Workflow Services\n",
      "---------------------------------------------------------------------------\n",
      "hca-cromwell: g0n2qjnu94.execute-api.us-east-1.amazonaws.com/test\n",
      "arvados-wes: wes.qr1hi.arvadosapi.com\n",
      "local: 0.0.0.0:8080\n"
     ]
    }
   ],
   "source": [
    "config.show()"
   ]
  },
  {
   "cell_type": "code",
   "execution_count": 4,
   "metadata": {},
   "outputs": [
    {
     "name": "stderr",
     "output_type": "stream",
     "text": [
      "INFO:synorchestrator.orchestrator:Preparing checker workflow run request for 'github.com/DataBiosphere/topmed-workflows/u_of_Michigan_alignment_pipeline' from  'dockstore''\n",
      "INFO:synorchestrator.eval:Created new job submission:\n",
      " - evaluation queue: wflow3 (github.com/DataBiosphere/topmed-workflows/u_of_Michigan_alignment_pipeline)\n",
      " - submission ID: '250525170506017965'\n",
      " - data:\n",
      "{\n",
      "  \"workflow_descriptor\": \"import \\\"https://raw.githubusercontent.com/DataBiosphere/topmed-workflows/1.13.0/aligner/u_of_michigan_aligner/u_of_michigan_aligner.wdl\\\" as TopMed_aligner\\nimport \\\"https://raw.githubusercontent.com/DataBiosphere/topmed-workflows/1.13.0/aligner/functional-equivalence-checker/topmed-alignment-checker.wdl\\\" as checker\\n\\nworkflow checkerWorkflow {\\n  Int expectedNumofReads\\n  String docker_image\\n\\n  File input_crai_file\\n  File input_cram_file\\n\\n  File ref_alt\\n  File ref_bwt\\n  File ref_sa\\n  File ref_amb\\n  File ref_ann\\n  File ref_pac\\n\\n  File ref_fasta\\n  File ref_fasta_index\\n\\n  File dbSNP_vcf\\n  File dbSNP_vcf_index\\n\\n\\n call TopMed_aligner.TopMedAligner as aligner { \\n   input:\\n\\n     input_crai_file = input_crai_file,\\n     input_cram_file = input_cram_file,\\n     \\n     docker_image = docker_image,\\n\\n     ref_fasta = ref_fasta,\\n     ref_fasta_index = ref_fasta_index,\\n     ref_alt = ref_alt,\\n     ref_bwt = ref_bwt,\\n     ref_sa = ref_sa,\\n     ref_amb = ref_amb,\\n     ref_ann = ref_ann,\\n     ref_pac = ref_pac,\\n\\n     dbSNP_vcf = dbSNP_vcf,\\n     dbSNP_vcf_index = dbSNP_vcf_index\\n\\n }\\n\\n\\n call checker.checkerTask { input: inputCRAMFile=aligner.aligner_output, expectedNumofReads=expectedNumofReads, docker_image=docker_image }\\n}\\n\", \n",
      "  \"workflow_params\": {\n",
      "    \"checkerWorkflow.expectedNumofReads\": 352552, \n",
      "    \"checkerWorkflow.input_cram_file\": \"gs://topmed_workflow_testing/topmed_aligner/input_files/NWD176325.0005.recab.cram\", \n",
      "    \"checkerWorkflow.input_crai_file\": \"gs://topmed_workflow_testing/topmed_aligner/input_files/NWD176325.0005.recab.cram.crai\", \n",
      "    \"checkerWorkflow.ref_alt\": \"gs://topmed_workflow_testing/topmed_variant_caller/reference_files/hg38/hs38DH.fa.alt\", \n",
      "    \"checkerWorkflow.ref_bwt\": \"gs://topmed_workflow_testing/topmed_variant_caller/reference_files/hg38/hs38DH.fa.bwt\", \n",
      "    \"checkerWorkflow.ref_pac\": \"gs://topmed_workflow_testing/topmed_variant_caller/reference_files/hg38/hs38DH.fa.pac\", \n",
      "    \"checkerWorkflow.ref_ann\": \"gs://topmed_workflow_testing/topmed_variant_caller/reference_files/hg38/hs38DH.fa.ann\", \n",
      "    \"checkerWorkflow.ref_amb\": \"gs://topmed_workflow_testing/topmed_variant_caller/reference_files/hg38/hs38DH.fa.amb\", \n",
      "    \"checkerWorkflow.ref_sa\": \"gs://topmed_workflow_testing/topmed_variant_caller/reference_files/hg38/hs38DH.fa.sa\", \n",
      "    \"checkerWorkflow.ref_fasta\": \"gs://topmed_workflow_testing/topmed_variant_caller/reference_files/hg38/hs38DH.fa\", \n",
      "    \"checkerWorkflow.ref_fasta_index\": \"gs://topmed_workflow_testing/topmed_variant_caller/reference_files/hg38/hs38DH.fa.fai\", \n",
      "    \"checkerWorkflow.dbSNP_vcf\": \"gs://topmed_workflow_testing/topmed_aligner/reference_files/hg38/Homo_sapiens_assembly38.dbsnp138.vcf.gz\", \n",
      "    \"checkerWorkflow.dbSNP_vcf_index\": \"gs://topmed_workflow_testing/topmed_aligner/reference_files/hg38/Homo_sapiens_assembly38.dbsnp138.vcf.gz.tbi\", \n",
      "    \"checkerWorkflow.docker_image\": \"statgen/alignment\"\n",
      "  }, \n",
      "  \"workflow_type_version\": \"v1.0\", \n",
      "  \"workflow_type\": \"WDL\"\n",
      "}\n",
      "INFO:synorchestrator.orchestrator:Preparing checker workflow run request for 'github.com/DataBiosphere/topmed-workflows/TopMed_Variant_Caller' from  'dockstore''\n",
      "INFO:synorchestrator.eval:Created new job submission:\n",
      " - evaluation queue: wflow2 (github.com/DataBiosphere/topmed-workflows/TopMed_Variant_Caller)\n",
      " - submission ID: '250525170508043137'\n",
      " - data:\n",
      "{\n",
      "  \"workflow_descriptor\": \"import \\\"https://raw.githubusercontent.com/DataBiosphere/topmed-workflows/1.11.0/variant-caller/variant-caller-wdl/topmed_freeze3_calling.wdl\\\" as TopMed_variantcaller\\nimport \\\"https://raw.githubusercontent.com/DataBiosphere/topmed-workflows/1.11.0/variant-caller/variant-caller-wdl-checker/topmed-variantcaller-checker.wdl\\\" as checker\\n\\nworkflow checkerWorkflow {\\n  File inputTruthVCFFile\\n\\n  # Deprecated: No need to input this anymore\\n  # Disk size requirements will be calculated internally\\n  # This will be removed in the next release\\n  Float? reference_files_size\\n\\n  String docker_image\\n\\n  Array[File] input_crai_files\\n  Array[File] input_cram_files\\n\\n  File ref_1000G_omni2_5_b38_sites_PASS_vcf_gz\\n  File ref_1000G_omni2_5_b38_sites_PASS_vcf_gz_tbi\\n  File chr10_vcf\\n  File chr11_KI270927v1_alt_vcf\\n  File chr11_vcf\\n  File chr12_vcf\\n  File chr13_vcf\\n  File chr14_GL000009v2_random_vcf\\n  File chr14_KI270846v1_alt_vcf\\n  File chr14_vcf\\n  File chr15_vcf\\n  File chr16_vcf\\n  File chr17_KI270857v1_alt_vcf\\n  File chr17_KI270862v1_alt_vcf\\n  File chr17_KI270909v1_alt_vcf\\n  File chr17_vcf\\n  File chr18_vcf\\n  File chr19_KI270938v1_alt_vcf\\n  File chr19_vcf\\n  File chr1_KI270706v1_random_vcf\\n  File chr1_KI270766v1_alt_vcf\\n  File chr1_vcf\\n  File chr20_vcf\\n  File chr21_vcf\\n  File chr22_KI270879v1_alt_vcf\\n  File chr22_KI270928v1_alt_vcf\\n  File chr22_vcf\\n  File chr2_KI270773v1_alt_vcf\\n  File chr2_KI270894v1_alt_vcf\\n  File chr2_vcf\\n  File chr3_vcf\\n  File chr4_GL000008v2_random_vcf\\n  File chr4_vcf\\n  File chr5_vcf\\n  File chr6_vcf\\n  File chr7_KI270803v1_alt_vcf\\n  File chr7_vcf\\n  File chr8_KI270821v1_alt_vcf\\n  File chr8_vcf\\n  File chr9_vcf\\n  File chrUn_KI270742v1_vcf\\n  File chrX_vcf\\n  File ref_dbsnp_142_b38_vcf_gz\\n  File ref_dbsnp_142_b38_vcf_gz_tbi\\n  File ref_dbsnp_All_vcf_gz\\n  File ref_dbsnp_All_vcf_gz_tbi\\n  File ref_hapmap_3_3_b38_sites_vcf_gz\\n  File ref_hapmap_3_3_b38_sites_vcf_gz_tbi\\n  File ref_hs38DH_bs_umfa\\n  File ref_hs38DH_dict\\n  File ref_hs38DH_fa\\n  File ref_hs38DH_fa_alt\\n  File ref_hs38DH_fa_amb\\n  File ref_hs38DH_fa_ann\\n  File ref_hs38DH_fa_bwt\\n  File ref_hs38DH_fa_fai\\n  File ref_hs38DH_fa_pac\\n  File ref_hs38DH_fa_sa\\n  File ref_hs38DH_winsize100_gc\\n\\n\\n  call TopMed_variantcaller.TopMedVariantCaller as variantcaller {\\n    input:\\n      input_crai_files = input_crai_files,\\n      input_cram_files = input_cram_files,\\n\\n      docker_image = docker_image,\\n\\n      ref_1000G_omni2_5_b38_sites_PASS_vcf_gz = ref_1000G_omni2_5_b38_sites_PASS_vcf_gz,\\n      ref_1000G_omni2_5_b38_sites_PASS_vcf_gz_tbi = ref_1000G_omni2_5_b38_sites_PASS_vcf_gz_tbi,\\n      chr10_vcf = chr10_vcf,\\n      chr11_KI270927v1_alt_vcf = chr11_KI270927v1_alt_vcf,\\n      chr11_vcf = chr11_vcf,\\n      chr12_vcf = chr12_vcf,\\n      chr13_vcf = chr13_vcf,\\n      chr14_GL000009v2_random_vcf = chr14_GL000009v2_random_vcf,\\n      chr14_KI270846v1_alt_vcf = chr14_KI270846v1_alt_vcf,\\n      chr14_vcf = chr14_vcf,\\n      chr15_vcf = chr15_vcf,\\n      chr16_vcf = chr16_vcf,\\n      chr17_KI270857v1_alt_vcf = chr17_KI270857v1_alt_vcf,\\n      chr17_KI270862v1_alt_vcf = chr17_KI270862v1_alt_vcf,\\n      chr17_KI270909v1_alt_vcf = chr17_KI270909v1_alt_vcf,\\n      chr17_vcf = chr17_vcf,\\n      chr18_vcf = chr18_vcf,\\n      chr19_KI270938v1_alt_vcf = chr19_KI270938v1_alt_vcf,\\n      chr19_vcf = chr19_vcf,\\n      chr1_KI270706v1_random_vcf = chr1_KI270706v1_random_vcf,\\n      chr1_KI270766v1_alt_vcf = chr1_KI270766v1_alt_vcf,\\n      chr1_vcf = chr1_vcf,\\n      chr20_vcf = chr20_vcf,\\n      chr21_vcf = chr21_vcf,\\n      chr22_KI270879v1_alt_vcf = chr22_KI270879v1_alt_vcf,\\n      chr22_KI270928v1_alt_vcf = chr22_KI270928v1_alt_vcf,\\n      chr22_vcf = chr22_vcf,\\n      chr2_KI270773v1_alt_vcf = chr2_KI270773v1_alt_vcf,\\n      chr2_KI270894v1_alt_vcf = chr2_KI270894v1_alt_vcf,\\n      chr2_vcf = chr2_vcf,\\n      chr3_vcf = chr3_vcf,\\n      chr4_GL000008v2_random_vcf = chr4_GL000008v2_random_vcf,\\n      chr4_vcf = chr4_vcf,\\n      chr5_vcf = chr5_vcf,\\n      chr6_vcf = chr6_vcf,\\n      chr7_KI270803v1_alt_vcf = chr7_KI270803v1_alt_vcf,\\n      chr7_vcf = chr7_vcf,\\n      chr8_KI270821v1_alt_vcf = chr8_KI270821v1_alt_vcf,\\n      chr8_vcf = chr8_vcf,\\n      chr9_vcf = chr9_vcf,\\n      chrUn_KI270742v1_vcf = chrUn_KI270742v1_vcf,\\n      chrX_vcf = chrX_vcf,\\n      ref_dbsnp_142_b38_vcf_gz = ref_dbsnp_142_b38_vcf_gz,\\n      ref_dbsnp_142_b38_vcf_gz_tbi = ref_dbsnp_142_b38_vcf_gz_tbi,\\n      ref_dbsnp_All_vcf_gz = ref_dbsnp_All_vcf_gz,\\n      ref_dbsnp_All_vcf_gz_tbi = ref_dbsnp_All_vcf_gz_tbi,\\n      ref_hapmap_3_3_b38_sites_vcf_gz = ref_hapmap_3_3_b38_sites_vcf_gz,\\n      ref_hapmap_3_3_b38_sites_vcf_gz_tbi = ref_hapmap_3_3_b38_sites_vcf_gz_tbi,\\n      ref_hs38DH_bs_umfa = ref_hs38DH_bs_umfa,\\n      ref_hs38DH_dict = ref_hs38DH_dict,\\n      ref_hs38DH_fa = ref_hs38DH_fa,\\n      ref_hs38DH_fa_alt = ref_hs38DH_fa_alt,\\n      ref_hs38DH_fa_amb = ref_hs38DH_fa_amb,\\n      ref_hs38DH_fa_ann = ref_hs38DH_fa_ann,\\n      ref_hs38DH_fa_bwt = ref_hs38DH_fa_bwt,\\n      ref_hs38DH_fa_fai = ref_hs38DH_fa_fai,\\n      ref_hs38DH_fa_pac = ref_hs38DH_fa_pac,\\n      ref_hs38DH_fa_sa = ref_hs38DH_fa_sa,\\n      ref_hs38DH_winsize100_gc = ref_hs38DH_winsize100_gc\\n  }\\n\\n  call checker.checkerTask { \\n      input: \\n          inputTruthVCFFile = inputTruthVCFFile,\\n          inputTestVCFFile = variantcaller.topmed_variant_caller_output, \\n          docker_image = docker_image\\n  }\\n}\\n\\n\", \n",
      "  \"workflow_params\": {\n",
      "    \"checkerWorkflow.inputTruthVCFFile\": \"gs://topmed_workflow_testing/topmed_variant_caller_checker/truth_topmed_variant_caller_NWD176325.0005_output.tar.gz\", \n",
      "    \"checkerWorkflow.input_cram_files\": [\n",
      "      \"gs://topmed_workflow_testing/topmed_aligner/input_files/NWD176325.0005.recab.cram\"\n",
      "    ], \n",
      "    \"checkerWorkflow.input_crai_files\": [\n",
      "      \"gs://topmed_workflow_testing/topmed_aligner/input_files/NWD176325.0005.recab.cram.crai\"\n",
      "    ], \n",
      "    \"checkerWorkflow.ref_1000G_omni2_5_b38_sites_PASS_vcf_gz\": \"gs://topmed_workflow_testing/topmed_variant_caller/reference_files/hg38/1000G_omni2.5.b38.sites.PASS.vcf.gz\", \n",
      "    \"checkerWorkflow.ref_1000G_omni2_5_b38_sites_PASS_vcf_gz_tbi\": \"gs://topmed_workflow_testing/topmed_variant_caller/reference_files/hg38/1000G_omni2.5.b38.sites.PASS.vcf.gz.tbi\", \n",
      "    \"checkerWorkflow.chr10_vcf\": \"gs://topmed_workflow_testing/topmed_variant_caller/reference_files/hg38/1kg.pilot_release.merged.indels.sites.hg38.chr10.vcf\", \n",
      "    \"checkerWorkflow.chr11_KI270927v1_alt_vcf\": \"gs://topmed_workflow_testing/topmed_variant_caller/reference_files/hg38/1kg.pilot_release.merged.indels.sites.hg38.chr11_KI270927v1_alt.vcf\", \n",
      "    \"checkerWorkflow.chr11_vcf\": \"gs://topmed_workflow_testing/topmed_variant_caller/reference_files/hg38/1kg.pilot_release.merged.indels.sites.hg38.chr11.vcf\", \n",
      "    \"checkerWorkflow.chr12_vcf\": \"gs://topmed_workflow_testing/topmed_variant_caller/reference_files/hg38/1kg.pilot_release.merged.indels.sites.hg38.chr12.vcf\", \n",
      "    \"checkerWorkflow.chr13_vcf\": \"gs://topmed_workflow_testing/topmed_variant_caller/reference_files/hg38/1kg.pilot_release.merged.indels.sites.hg38.chr13.vcf\", \n",
      "    \"checkerWorkflow.chr14_GL000009v2_random_vcf\": \"gs://topmed_workflow_testing/topmed_variant_caller/reference_files/hg38/1kg.pilot_release.merged.indels.sites.hg38.chr14_GL000009v2_random.vcf\", \n",
      "    \"checkerWorkflow.chr14_KI270846v1_alt_vcf\": \"gs://topmed_workflow_testing/topmed_variant_caller/reference_files/hg38/1kg.pilot_release.merged.indels.sites.hg38.chr14_KI270846v1_alt.vcf\", \n",
      "    \"checkerWorkflow.chr14_vcf\": \"gs://topmed_workflow_testing/topmed_variant_caller/reference_files/hg38/1kg.pilot_release.merged.indels.sites.hg38.chr14.vcf\", \n",
      "    \"checkerWorkflow.chr15_vcf\": \"gs://topmed_workflow_testing/topmed_variant_caller/reference_files/hg38/1kg.pilot_release.merged.indels.sites.hg38.chr15.vcf\", \n",
      "    \"checkerWorkflow.chr16_vcf\": \"gs://topmed_workflow_testing/topmed_variant_caller/reference_files/hg38/1kg.pilot_release.merged.indels.sites.hg38.chr16.vcf\", \n",
      "    \"checkerWorkflow.chr17_KI270857v1_alt_vcf\": \"gs://topmed_workflow_testing/topmed_variant_caller/reference_files/hg38/1kg.pilot_release.merged.indels.sites.hg38.chr17_KI270857v1_alt.vcf\", \n",
      "    \"checkerWorkflow.chr17_KI270862v1_alt_vcf\": \"gs://topmed_workflow_testing/topmed_variant_caller/reference_files/hg38/1kg.pilot_release.merged.indels.sites.hg38.chr17_KI270862v1_alt.vcf\", \n",
      "    \"checkerWorkflow.chr17_KI270909v1_alt_vcf\": \"gs://topmed_workflow_testing/topmed_variant_caller/reference_files/hg38/1kg.pilot_release.merged.indels.sites.hg38.chr17_KI270909v1_alt.vcf\", \n",
      "    \"checkerWorkflow.chr17_vcf\": \"gs://topmed_workflow_testing/topmed_variant_caller/reference_files/hg38/1kg.pilot_release.merged.indels.sites.hg38.chr17.vcf\", \n",
      "    \"checkerWorkflow.chr18_vcf\": \"gs://topmed_workflow_testing/topmed_variant_caller/reference_files/hg38/1kg.pilot_release.merged.indels.sites.hg38.chr18.vcf\", \n",
      "    \"checkerWorkflow.chr19_KI270938v1_alt_vcf\": \"gs://topmed_workflow_testing/topmed_variant_caller/reference_files/hg38/1kg.pilot_release.merged.indels.sites.hg38.chr19_KI270938v1_alt.vcf\", \n",
      "    \"checkerWorkflow.chr19_vcf\": \"gs://topmed_workflow_testing/topmed_variant_caller/reference_files/hg38/1kg.pilot_release.merged.indels.sites.hg38.chr19.vcf\", \n",
      "    \"checkerWorkflow.chr1_KI270706v1_random_vcf\": \"gs://topmed_workflow_testing/topmed_variant_caller/reference_files/hg38/1kg.pilot_release.merged.indels.sites.hg38.chr1_KI270706v1_random.vcf\", \n",
      "    \"checkerWorkflow.chr1_KI270766v1_alt_vcf\": \"gs://topmed_workflow_testing/topmed_variant_caller/reference_files/hg38/1kg.pilot_release.merged.indels.sites.hg38.chr1_KI270766v1_alt.vcf\", \n",
      "    \"checkerWorkflow.chr1_vcf\": \"gs://topmed_workflow_testing/topmed_variant_caller/reference_files/hg38/1kg.pilot_release.merged.indels.sites.hg38.chr1.vcf\", \n",
      "    \"checkerWorkflow.chr20_vcf\": \"gs://topmed_workflow_testing/topmed_variant_caller/reference_files/hg38/1kg.pilot_release.merged.indels.sites.hg38.chr20.vcf\", \n",
      "    \"checkerWorkflow.chr21_vcf\": \"gs://topmed_workflow_testing/topmed_variant_caller/reference_files/hg38/1kg.pilot_release.merged.indels.sites.hg38.chr21.vcf\", \n",
      "    \"checkerWorkflow.chr22_KI270879v1_alt_vcf\": \"gs://topmed_workflow_testing/topmed_variant_caller/reference_files/hg38/1kg.pilot_release.merged.indels.sites.hg38.chr22_KI270879v1_alt.vcf\", \n",
      "    \"checkerWorkflow.chr22_KI270928v1_alt_vcf\": \"gs://topmed_workflow_testing/topmed_variant_caller/reference_files/hg38/1kg.pilot_release.merged.indels.sites.hg38.chr22_KI270928v1_alt.vcf\", \n",
      "    \"checkerWorkflow.chr22_vcf\": \"gs://topmed_workflow_testing/topmed_variant_caller/reference_files/hg38/1kg.pilot_release.merged.indels.sites.hg38.chr22.vcf\", \n",
      "    \"checkerWorkflow.chr2_KI270773v1_alt_vcf\": \"gs://topmed_workflow_testing/topmed_variant_caller/reference_files/hg38/1kg.pilot_release.merged.indels.sites.hg38.chr2_KI270773v1_alt.vcf\", \n",
      "    \"checkerWorkflow.chr2_KI270894v1_alt_vcf\": \"gs://topmed_workflow_testing/topmed_variant_caller/reference_files/hg38/1kg.pilot_release.merged.indels.sites.hg38.chr2_KI270894v1_alt.vcf\", \n",
      "    \"checkerWorkflow.chr2_vcf\": \"gs://topmed_workflow_testing/topmed_variant_caller/reference_files/hg38/1kg.pilot_release.merged.indels.sites.hg38.chr2.vcf\", \n",
      "    \"checkerWorkflow.chr3_vcf\": \"gs://topmed_workflow_testing/topmed_variant_caller/reference_files/hg38/1kg.pilot_release.merged.indels.sites.hg38.chr3.vcf\", \n",
      "    \"checkerWorkflow.chr4_GL000008v2_random_vcf\": \"gs://topmed_workflow_testing/topmed_variant_caller/reference_files/hg38/1kg.pilot_release.merged.indels.sites.hg38.chr4_GL000008v2_random.vcf\", \n",
      "    \"checkerWorkflow.chr4_vcf\": \"gs://topmed_workflow_testing/topmed_variant_caller/reference_files/hg38/1kg.pilot_release.merged.indels.sites.hg38.chr4.vcf\", \n",
      "    \"checkerWorkflow.chr5_vcf\": \"gs://topmed_workflow_testing/topmed_variant_caller/reference_files/hg38/1kg.pilot_release.merged.indels.sites.hg38.chr5.vcf\", \n",
      "    \"checkerWorkflow.chr6_vcf\": \"gs://topmed_workflow_testing/topmed_variant_caller/reference_files/hg38/1kg.pilot_release.merged.indels.sites.hg38.chr6.vcf\", \n",
      "    \"checkerWorkflow.chr7_KI270803v1_alt_vcf\": \"gs://topmed_workflow_testing/topmed_variant_caller/reference_files/hg38/1kg.pilot_release.merged.indels.sites.hg38.chr7_KI270803v1_alt.vcf\", \n",
      "    \"checkerWorkflow.chr7_vcf\": \"gs://topmed_workflow_testing/topmed_variant_caller/reference_files/hg38/1kg.pilot_release.merged.indels.sites.hg38.chr7.vcf\", \n",
      "    \"checkerWorkflow.chr8_KI270821v1_alt_vcf\": \"gs://topmed_workflow_testing/topmed_variant_caller/reference_files/hg38/1kg.pilot_release.merged.indels.sites.hg38.chr8_KI270821v1_alt.vcf\", \n",
      "    \"checkerWorkflow.chr8_vcf\": \"gs://topmed_workflow_testing/topmed_variant_caller/reference_files/hg38/1kg.pilot_release.merged.indels.sites.hg38.chr8.vcf\", \n",
      "    \"checkerWorkflow.chr9_vcf\": \"gs://topmed_workflow_testing/topmed_variant_caller/reference_files/hg38/1kg.pilot_release.merged.indels.sites.hg38.chr9.vcf\", \n",
      "    \"checkerWorkflow.chrUn_KI270742v1_vcf\": \"gs://topmed_workflow_testing/topmed_variant_caller/reference_files/hg38/1kg.pilot_release.merged.indels.sites.hg38.chrUn_KI270742v1.vcf\", \n",
      "    \"checkerWorkflow.chrX_vcf\": \"gs://topmed_workflow_testing/topmed_variant_caller/reference_files/hg38/1kg.pilot_release.merged.indels.sites.hg38.chrX.vcf\", \n",
      "    \"checkerWorkflow.ref_dbsnp_142_b38_vcf_gz\": \"gs://topmed_workflow_testing/topmed_variant_caller/reference_files/hg38/dbsnp_142.b38.vcf.gz\", \n",
      "    \"checkerWorkflow.ref_dbsnp_142_b38_vcf_gz_tbi\": \"gs://topmed_workflow_testing/topmed_variant_caller/reference_files/hg38/dbsnp_142.b38.vcf.gz.tbi\", \n",
      "    \"checkerWorkflow.ref_dbsnp_All_vcf_gz\": \"gs://topmed_workflow_testing/topmed_variant_caller/reference_files/hg38/dbsnp.All.vcf.gz\", \n",
      "    \"checkerWorkflow.ref_dbsnp_All_vcf_gz_tbi\": \"gs://topmed_workflow_testing/topmed_variant_caller/reference_files/hg38/dbsnp.All.vcf.gz.tbi\", \n",
      "    \"checkerWorkflow.ref_hapmap_3_3_b38_sites_vcf_gz\": \"gs://topmed_workflow_testing/topmed_variant_caller/reference_files/hg38/hapmap_3.3.b38.sites.vcf.gz\", \n",
      "    \"checkerWorkflow.ref_hapmap_3_3_b38_sites_vcf_gz_tbi\": \"gs://topmed_workflow_testing/topmed_variant_caller/reference_files/hg38/hapmap_3.3.b38.sites.vcf.gz.tbi\", \n",
      "    \"checkerWorkflow.ref_hs38DH_bs_umfa\": \"gs://topmed_workflow_testing/topmed_variant_caller/reference_files/hg38/hs38DH-bs.umfa\", \n",
      "    \"checkerWorkflow.ref_hs38DH_dict\": \"gs://topmed_workflow_testing/topmed_variant_caller/reference_files/hg38/hs38DH.dict\", \n",
      "    \"checkerWorkflow.ref_hs38DH_fa\": \"gs://topmed_workflow_testing/topmed_variant_caller/reference_files/hg38/hs38DH.fa\", \n",
      "    \"checkerWorkflow.ref_hs38DH_fa_alt\": \"gs://topmed_workflow_testing/topmed_variant_caller/reference_files/hg38/hs38DH.fa.alt\", \n",
      "    \"checkerWorkflow.ref_hs38DH_fa_amb\": \"gs://topmed_workflow_testing/topmed_variant_caller/reference_files/hg38/hs38DH.fa.amb\", \n",
      "    \"checkerWorkflow.ref_hs38DH_fa_ann\": \"gs://topmed_workflow_testing/topmed_variant_caller/reference_files/hg38/hs38DH.fa.ann\", \n",
      "    \"checkerWorkflow.ref_hs38DH_fa_bwt\": \"gs://topmed_workflow_testing/topmed_variant_caller/reference_files/hg38/hs38DH.fa.bwt\", \n",
      "    \"checkerWorkflow.ref_hs38DH_fa_fai\": \"gs://topmed_workflow_testing/topmed_variant_caller/reference_files/hg38/hs38DH.fa.fai\", \n",
      "    \"checkerWorkflow.ref_hs38DH_fa_pac\": \"gs://topmed_workflow_testing/topmed_variant_caller/reference_files/hg38/hs38DH.fa.pac\", \n",
      "    \"checkerWorkflow.ref_hs38DH_fa_sa\": \"gs://topmed_workflow_testing/topmed_variant_caller/reference_files/hg38/hs38DH.fa.sa\", \n",
      "    \"checkerWorkflow.ref_hs38DH_winsize100_gc\": \"gs://topmed_workflow_testing/topmed_variant_caller/reference_files/hg38/hs38DH.winsize100.gc\", \n",
      "    \"checkerWorkflow.docker_image\": \"quay.io/ucsc_cgl/topmed_freeze3_calling:1.9.0\"\n",
      "  }, \n",
      "  \"workflow_type_version\": \"v1.0\", \n",
      "  \"workflow_type\": \"WDL\"\n",
      "}\n"
     ]
    },
    {
     "name": "stderr",
     "output_type": "stream",
     "text": [
      "INFO:synorchestrator.orchestrator:Submitting job '250525170506017965' for eval 'wflow3' to WES endpoint 'hca-cromwell'\n",
      "INFO:synorchestrator.orchestrator:Submitting job '250525170508043137' for eval 'wflow2' to WES endpoint 'hca-cromwell'\n"
     ]
    },
    {
     "ename": "KeyError",
     "evalue": "'workflow_id'",
     "output_type": "error",
     "traceback": [
      "\u001b[0;31m---------------------------------------------------------------------------\u001b[0m",
      "\u001b[0;31mKeyError\u001b[0m                                  Traceback (most recent call last)",
      "\u001b[0;32m<ipython-input-4-3d2b4533e808>\u001b[0m in \u001b[0;36m<module>\u001b[0;34m()\u001b[0m\n\u001b[1;32m      1\u001b[0m orchestrator.run_all({\n\u001b[1;32m      2\u001b[0m     \u001b[0;34m'wflow2'\u001b[0m\u001b[0;34m:\u001b[0m \u001b[0;34m[\u001b[0m\u001b[0;34m'hca-cromwell'\u001b[0m\u001b[0;34m]\u001b[0m\u001b[0;34m,\u001b[0m\u001b[0;34m\u001b[0m\u001b[0m\n\u001b[0;32m----> 3\u001b[0;31m     \u001b[0;34m'wflow3'\u001b[0m\u001b[0;34m:\u001b[0m \u001b[0;34m[\u001b[0m\u001b[0;34m'hca-cromwell'\u001b[0m\u001b[0;34m]\u001b[0m\u001b[0;34m\u001b[0m\u001b[0m\n\u001b[0m\u001b[1;32m      4\u001b[0m })\n",
      "\u001b[0;32m/Users/jaeddy/code/github/projects/synapse-orchestrator/synorchestrator/orchestrator.pyc\u001b[0m in \u001b[0;36mrun_all\u001b[0;34m(eval_wes_map, checker, monitor_jobs)\u001b[0m\n\u001b[1;32m    141\u001b[0m     \u001b[0;34m[\u001b[0m\u001b[0mrun_eval\u001b[0m\u001b[0;34m(\u001b[0m\u001b[0meval_id\u001b[0m\u001b[0;34m)\u001b[0m \u001b[0;32mfor\u001b[0m \u001b[0meval_id\u001b[0m \u001b[0;32min\u001b[0m \u001b[0meval_wes_map\u001b[0m\u001b[0;34m]\u001b[0m\u001b[0;34m\u001b[0m\u001b[0m\n\u001b[1;32m    142\u001b[0m     \u001b[0;32mif\u001b[0m \u001b[0mmonitor_jobs\u001b[0m\u001b[0;34m:\u001b[0m\u001b[0;34m\u001b[0m\u001b[0m\n\u001b[0;32m--> 143\u001b[0;31m         \u001b[0mmonitor\u001b[0m\u001b[0;34m(\u001b[0m\u001b[0meval_wes_map\u001b[0m\u001b[0;34m.\u001b[0m\u001b[0mkeys\u001b[0m\u001b[0;34m(\u001b[0m\u001b[0;34m)\u001b[0m\u001b[0;34m,\u001b[0m \u001b[0mstart\u001b[0m\u001b[0;34m=\u001b[0m\u001b[0mt0\u001b[0m\u001b[0;34m)\u001b[0m\u001b[0;34m\u001b[0m\u001b[0m\n\u001b[0m",
      "\u001b[0;32m/Users/jaeddy/code/github/projects/synapse-orchestrator/synorchestrator/orchestrator.pyc\u001b[0m in \u001b[0;36mmonitor\u001b[0;34m(eval_ids, submission_ids, start)\u001b[0m\n\u001b[1;32m    109\u001b[0m                 \u001b[0;34m'job'\u001b[0m\u001b[0;34m:\u001b[0m \u001b[0msubmission_type\u001b[0m\u001b[0;34m,\u001b[0m\u001b[0;34m\u001b[0m\u001b[0m\n\u001b[1;32m    110\u001b[0m                 \u001b[0;34m'wes'\u001b[0m\u001b[0;34m:\u001b[0m \u001b[0mbundle\u001b[0m\u001b[0;34m[\u001b[0m\u001b[0;34m'wes_id'\u001b[0m\u001b[0;34m]\u001b[0m\u001b[0;34m,\u001b[0m\u001b[0;34m\u001b[0m\u001b[0m\n\u001b[0;32m--> 111\u001b[0;31m                 \u001b[0;34m'run_id'\u001b[0m\u001b[0;34m:\u001b[0m \u001b[0mrun\u001b[0m\u001b[0;34m[\u001b[0m\u001b[0;34m'workflow_id'\u001b[0m\u001b[0;34m]\u001b[0m\u001b[0;34m,\u001b[0m\u001b[0;34m\u001b[0m\u001b[0m\n\u001b[0m\u001b[1;32m    112\u001b[0m                 \u001b[0;34m'run_status'\u001b[0m\u001b[0;34m:\u001b[0m \u001b[0mrun\u001b[0m\u001b[0;34m[\u001b[0m\u001b[0;34m'state'\u001b[0m\u001b[0;34m]\u001b[0m\u001b[0;34m\u001b[0m\u001b[0m\n\u001b[1;32m    113\u001b[0m             }\n",
      "\u001b[0;31mKeyError\u001b[0m: 'workflow_id'"
     ]
    }
   ],
   "source": [
    "orchestrator.run_all({\n",
    "    'wflow2': ['hca-cromwell'],\n",
    "    'wflow3': ['hca-cromwell']\n",
    "})"
   ]
  },
  {
   "cell_type": "code",
   "execution_count": null,
   "metadata": {},
   "outputs": [
    {
     "name": "stdout",
     "output_type": "stream",
     "text": [
      "Time elapsed: 0h:4m:56s\n",
      "\n"
     ]
    },
    {
     "data": {
      "text/html": [
       "<div>\n",
       "<style scoped>\n",
       "    .dataframe tbody tr th:only-of-type {\n",
       "        vertical-align: middle;\n",
       "    }\n",
       "\n",
       "    .dataframe tbody tr th {\n",
       "        vertical-align: top;\n",
       "    }\n",
       "\n",
       "    .dataframe thead th {\n",
       "        text-align: right;\n",
       "    }\n",
       "</style>\n",
       "<table border=\"1\" class=\"dataframe\">\n",
       "  <thead>\n",
       "    <tr style=\"text-align: right;\">\n",
       "      <th></th>\n",
       "      <th></th>\n",
       "      <th>wes</th>\n",
       "      <th>job</th>\n",
       "      <th>run_status</th>\n",
       "      <th>run_id</th>\n",
       "    </tr>\n",
       "  </thead>\n",
       "  <tbody>\n",
       "    <tr>\n",
       "      <th>TopMed_Variant_Caller</th>\n",
       "      <th>250525170508043137</th>\n",
       "      <td>hca-cromwell</td>\n",
       "      <td>checker</td>\n",
       "      <td>COMPLETE</td>\n",
       "      <td>48c766f4-3d83-45da-9ba3-8f1d5a6ab12f</td>\n",
       "    </tr>\n",
       "    <tr>\n",
       "      <th>u_of_Michigan_alignment_pipeline</th>\n",
       "      <th>250525170506017965</th>\n",
       "      <td>hca-cromwell</td>\n",
       "      <td>checker</td>\n",
       "      <td>RUNNING</td>\n",
       "      <td>2a655b12-3007-433c-b7a1-99a7d2d4e945</td>\n",
       "    </tr>\n",
       "  </tbody>\n",
       "</table>\n",
       "</div>"
      ],
      "text/plain": [
       "                                                              wes      job run_status  \\\n",
       "TopMed_Variant_Caller            250525170508043137  hca-cromwell  checker   COMPLETE   \n",
       "u_of_Michigan_alignment_pipeline 250525170506017965  hca-cromwell  checker    RUNNING   \n",
       "\n",
       "                                                                                   run_id  \n",
       "TopMed_Variant_Caller            250525170508043137  48c766f4-3d83-45da-9ba3-8f1d5a6ab12f  \n",
       "u_of_Michigan_alignment_pipeline 250525170506017965  2a655b12-3007-433c-b7a1-99a7d2d4e945  "
      ]
     },
     "metadata": {},
     "output_type": "display_data"
    }
   ],
   "source": [
    "orchestrator.monitor(['wflow2', 'wflow3'])"
   ]
  },
  {
   "cell_type": "code",
   "execution_count": null,
   "metadata": {},
   "outputs": [],
   "source": []
  }
 ],
 "metadata": {
  "kernelspec": {
   "display_name": "Python 2",
   "language": "python",
   "name": "python2"
  },
  "language_info": {
   "codemirror_mode": {
    "name": "ipython",
    "version": 2
   },
   "file_extension": ".py",
   "mimetype": "text/x-python",
   "name": "python",
   "nbconvert_exporter": "python",
   "pygments_lexer": "ipython2",
   "version": "2.7.15"
  }
 },
 "nbformat": 4,
 "nbformat_minor": 2
}
