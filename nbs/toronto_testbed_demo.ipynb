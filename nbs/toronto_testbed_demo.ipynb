{
 "cells": [
  {
   "cell_type": "code",
   "execution_count": 1,
   "metadata": {},
   "outputs": [],
   "source": [
    "%load_ext autoreload\n",
    "%autoreload 2"
   ]
  },
  {
   "cell_type": "code",
   "execution_count": 2,
   "metadata": {},
   "outputs": [],
   "source": [
    "from synorchestrator import orchestrator\n",
    "from synorchestrator.trs.client import TRSClient\n",
    "from synorchestrator.wes.client import WESClient\n",
    "from synorchestrator import config"
   ]
  },
  {
   "cell_type": "code",
   "execution_count": 3,
   "metadata": {},
   "outputs": [
    {
     "name": "stdout",
     "output_type": "stream",
     "text": [
      "\n",
      "Orchestrator options:\n",
      "\n",
      "Evaluation Queues\n",
      "---------------------------------------------------------------------------\n",
      "wflow0: github.com/dockstore-testing/md5sum-checker [CWL]\n",
      "wflow1: github.com/dockstore-testing/md5sum-checker/wdl [WDL]\n",
      "wflow2: github.com/DataBiosphere/topmed-workflows/TopMed_Variant_Caller [WDL]\n",
      "wflow3: github.com/DataBiosphere/topmed-workflows/u_of_Michigan_alignment_pipeline [WDL]\n",
      "\n",
      "Tool Registries\n",
      "---------------------------------------------------------------------------\n",
      "dockstore: dockstore.org:8443\n",
      "\n",
      "Workflow Services\n",
      "---------------------------------------------------------------------------\n",
      "hca-cromwell: g0n2qjnu94.execute-api.us-east-1.amazonaws.com/test\n",
      "arvados-wes: wes.qr1hi.arvadosapi.com\n",
      "local: 0.0.0.0:8080\n"
     ]
    }
   ],
   "source": [
    "config.show()"
   ]
  },
  {
   "cell_type": "code",
   "execution_count": 52,
   "metadata": {},
   "outputs": [
    {
     "name": "stderr",
     "output_type": "stream",
     "text": [
      "INFO:synorchestrator.orchestrator:Preparing checker workflow run request for 'github.com/dockstore-testing/md5sum-checker' from  'dockstore''\n",
      "INFO:synorchestrator.eval:Created new job submission:\n",
      " - evaluation queue: wflow0 (github.com/dockstore-testing/md5sum-checker)\n",
      " - submission ID: '250525203328505703'\n",
      " - data:\n",
      "{\n",
      "  \"workflow_descriptor\": \"cwlVersion: v1.0\\nclass: Workflow\\n\\nrequirements:\\n  - class: SubworkflowFeatureRequirement\\n\\n#dct:creator:\\n#  '@id': http://orcid.org/0000-0002-7681-6415\\n#  foaf:name: Brian O'Connor\\n#  foaf:mbox: mailto:briandoconnor@gmail.com\\n\\n#dct:contributor:\\n#  foaf:name: Denis Yuen\\n#  foaf:mbox: mailto:denis.yuen@oicr.on.ca\\n\\ninputs:\\n  input_file: File\\n  expected_md5: string\\n\\noutputs:\\n  workflow_output_file:\\n    type: File\\n    outputSource: checker/results_file\\n\\nsteps:\\n  md5sum:\\n    run: md5sum/md5sum-workflow.cwl\\n    in:\\n      input_file: input_file\\n    out: [output_file]\\n  checker:\\n    run: checker/md5sum-checker.cwl\\n    in:\\n      input_file: md5sum/output_file\\n      expected_md5: expected_md5\\n    out: [results_file]\\n\\ndoc: |\\n  This demonstrates how to wrap a \\\"real\\\" tool with a checker workflow that runs both the tool and a tool that performs verification of results\\n\", \n",
      "  \"workflow_params\": {\n",
      "    \"input_file\": {\n",
      "      \"class\": \"File\", \n",
      "      \"location\": \"https://raw.githubusercontent.com/dockstore-testing/md5sum-checker/develop/md5sum.input\"\n",
      "    }, \n",
      "    \"expected_md5\": \"00579a00e3e7fa0674428ac7049423e2\"\n",
      "  }, \n",
      "  \"workflow_type_version\": \"v1.0\", \n",
      "  \"workflow_type\": \"CWL\"\n",
      "}\n",
      "INFO:synorchestrator.orchestrator:Submitting job '250525203328505703' for eval 'wflow0' to WES endpoint 'arvados-wes'\n"
     ]
    }
   ],
   "source": [
    "# orchestrator.run_all({\n",
    "#     'wflow2': ['hca-cromwell'],\n",
    "#     'wflow3': ['hca-cromwell']\n",
    "# })\n",
    "submissions = orchestrator.run_all({\n",
    "    'wflow0': ['arvados-wes']\n",
    "})"
   ]
  },
  {
   "cell_type": "code",
   "execution_count": 53,
   "metadata": {},
   "outputs": [
    {
     "data": {
      "text/html": [
       "<div>\n",
       "<style scoped>\n",
       "    .dataframe tbody tr th:only-of-type {\n",
       "        vertical-align: middle;\n",
       "    }\n",
       "\n",
       "    .dataframe tbody tr th {\n",
       "        vertical-align: top;\n",
       "    }\n",
       "\n",
       "    .dataframe thead th {\n",
       "        text-align: right;\n",
       "    }\n",
       "</style>\n",
       "<table border=\"1\" class=\"dataframe\">\n",
       "  <thead>\n",
       "    <tr style=\"text-align: right;\">\n",
       "      <th></th>\n",
       "      <th></th>\n",
       "      <th>submission_status</th>\n",
       "      <th>elapsed_time</th>\n",
       "      <th>job</th>\n",
       "      <th>wes_id</th>\n",
       "      <th>queue_id</th>\n",
       "      <th>run_status</th>\n",
       "      <th>run_id</th>\n",
       "      <th>start_time</th>\n",
       "    </tr>\n",
       "  </thead>\n",
       "  <tbody>\n",
       "    <tr>\n",
       "      <th>md5sum-checker</th>\n",
       "      <th>250525203328505703</th>\n",
       "      <td>SUBMITTED</td>\n",
       "      <td>0h:0m:8s</td>\n",
       "      <td>checker</td>\n",
       "      <td>arvados-wes</td>\n",
       "      <td>md5sum-checker</td>\n",
       "      <td>CANCELED</td>\n",
       "      <td>qr1hi-xvhdp-yi4vt14cdrb0y3i</td>\n",
       "      <td>Fri May 25 20:33:29 2018</td>\n",
       "    </tr>\n",
       "  </tbody>\n",
       "</table>\n",
       "</div>"
      ],
      "text/plain": [
       "                                  submission_status elapsed_time      job       wes_id  \\\n",
       "md5sum-checker 250525203328505703         SUBMITTED     0h:0m:8s  checker  arvados-wes   \n",
       "\n",
       "                                         queue_id run_status                       run_id  \\\n",
       "md5sum-checker 250525203328505703  md5sum-checker   CANCELED  qr1hi-xvhdp-yi4vt14cdrb0y3i   \n",
       "\n",
       "                                                 start_time  \n",
       "md5sum-checker 250525203328505703  Fri May 25 20:33:29 2018  "
      ]
     },
     "metadata": {},
     "output_type": "display_data"
    },
    {
     "name": "stdout",
     "output_type": "stream",
     "text": [
      "Done\n"
     ]
    }
   ],
   "source": [
    "orchestrator.monitor(submissions)"
   ]
  },
  {
   "cell_type": "code",
   "execution_count": null,
   "metadata": {},
   "outputs": [],
   "source": []
  }
 ],
 "metadata": {
  "kernelspec": {
   "display_name": "Python 2",
   "language": "python",
   "name": "python2"
  },
  "language_info": {
   "codemirror_mode": {
    "name": "ipython",
    "version": 2
   },
   "file_extension": ".py",
   "mimetype": "text/x-python",
   "name": "python",
   "nbconvert_exporter": "python",
   "pygments_lexer": "ipython2",
   "version": "2.7.15"
  }
 },
 "nbformat": 4,
 "nbformat_minor": 2
}
