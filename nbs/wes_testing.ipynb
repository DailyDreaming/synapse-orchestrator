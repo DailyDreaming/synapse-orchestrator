{
 "cells": [
  {
   "cell_type": "code",
   "execution_count": 1,
   "metadata": {},
   "outputs": [],
   "source": [
    "import urlparse\n",
    "import requests\n",
    "import os\n",
    "import json"
   ]
  },
  {
   "cell_type": "markdown",
   "metadata": {},
   "source": [
    "## Configuration"
   ]
  },
  {
   "cell_type": "markdown",
   "metadata": {},
   "source": [
    "Get endpoint and authentication info from environment variables (**note:** provided by Abraham via email)."
   ]
  },
  {
   "cell_type": "code",
   "execution_count": 2,
   "metadata": {},
   "outputs": [],
   "source": [
    "proto = os.environ.get('WES_API_PROTO')\n",
    "host = os.environ.get('WES_API_HOST')\n",
    "auth = os.environ.get('WES_API_AUTH')"
   ]
  },
  {
   "cell_type": "code",
   "execution_count": 3,
   "metadata": {},
   "outputs": [],
   "source": [
    "headers = {'Authorization': auth}\n",
    "endpoint = '{}://{}/ga4gh/wes/v1'.format(proto, host)"
   ]
  },
  {
   "cell_type": "markdown",
   "metadata": {},
   "source": [
    "Create a simple object to store session/connection info."
   ]
  },
  {
   "cell_type": "code",
   "execution_count": 4,
   "metadata": {},
   "outputs": [],
   "source": [
    "class WorkflowServiceSession(object):\n",
    "    \"\"\"\n",
    "    API session with workflow execution service endpoint.\n",
    "    \"\"\"\n",
    "    def __init__(self, host, auth, proto='http'):\n",
    "        self.endpoint = '{}://{}/ga4gh/wes/v1'.format(proto, host)\n",
    "        self.headers = headers = {'Authorization': auth}\n"
   ]
  },
  {
   "cell_type": "code",
   "execution_count": 5,
   "metadata": {},
   "outputs": [],
   "source": [
    "wes = WorkflowServiceSession(host=host, auth=auth, proto=proto)"
   ]
  },
  {
   "cell_type": "markdown",
   "metadata": {},
   "source": [
    "## Getting info from WES"
   ]
  },
  {
   "cell_type": "markdown",
   "metadata": {},
   "source": [
    "Create a generic `GET` request function (to minimize repeated code)."
   ]
  },
  {
   "cell_type": "code",
   "execution_count": 6,
   "metadata": {},
   "outputs": [],
   "source": [
    "def wes_get_request(wes, target):\n",
    "    \"\"\"\n",
    "    Generic workflow execution service API 'GET' request.\n",
    "    \"\"\"\n",
    "    res = requests.get(\n",
    "        '{}{}'.format(wes.endpoint, target),\n",
    "        headers=wes.headers\n",
    "    )\n",
    "    # TODO: add some exception handling for different responses\n",
    "    return res.json()"
   ]
  },
  {
   "cell_type": "markdown",
   "metadata": {},
   "source": [
    "Use `get_info` to retrieve summary information about the WES endpoint."
   ]
  },
  {
   "cell_type": "code",
   "execution_count": 7,
   "metadata": {},
   "outputs": [],
   "source": [
    "def get_info(wes):\n",
    "    \"\"\"\n",
    "    Collect properties of a workflow execution service server endpoint.\n",
    "    \"\"\"\n",
    "    target = '/service-info'\n",
    "    return wes_get_request(wes, target)"
   ]
  },
  {
   "cell_type": "code",
   "execution_count": 8,
   "metadata": {},
   "outputs": [
    {
     "data": {
      "text/plain": [
       "{u'engine_versions': {u'cwltool': u'1.0.20171107133715',\n",
       "  u'dockstore': u'1.3.0'},\n",
       " u'key_values': {u'flavour': u'e.g. (r2.medium), instance type descriptor for AWS'},\n",
       " u'supported_filesystem_protocols': [u'http',\n",
       "  u'https',\n",
       "  u'sftp',\n",
       "  u's3',\n",
       "  u'gs',\n",
       "  u'synapse'],\n",
       " u'supported_wes_versions': [u'v1.0'],\n",
       " u'system_state_counts': {u'Complete': 46},\n",
       " u'workflow_type_versions': {u'cwl': {u'workflow_type_version': [u'1.0']},\n",
       "  u'wdl': {u'workflow_type_version': [u'1.0']}}}"
      ]
     },
     "execution_count": 8,
     "metadata": {},
     "output_type": "execute_result"
    }
   ],
   "source": [
    "get_info(wes)"
   ]
  },
  {
   "cell_type": "markdown",
   "metadata": {},
   "source": [
    "Use `list_workflow_runs` to list all workflow instances/runs/jobs (completed, initialized, or running) that have been recorded in the history of the WES endpoint."
   ]
  },
  {
   "cell_type": "code",
   "execution_count": 9,
   "metadata": {},
   "outputs": [],
   "source": [
    "def list_workflow_runs(wes, page_size=100, page_token=0):\n",
    "    \"\"\"\n",
    "    List all workflow runs in workflow execution service server endpoint.\n",
    "    \"\"\"\n",
    "    target = '/workflows'\n",
    "    return wes_get_request(wes, target)\n",
    "    "
   ]
  },
  {
   "cell_type": "code",
   "execution_count": 10,
   "metadata": {},
   "outputs": [
    {
     "data": {
      "text/plain": [
       "{u'next_page_token': None,\n",
       " u'workflows': [{u'state': u'Complete', u'workflow_id': u'1'},\n",
       "  {u'state': u'Complete', u'workflow_id': u'2'},\n",
       "  {u'state': u'Complete', u'workflow_id': u'3'},\n",
       "  {u'state': u'Complete', u'workflow_id': u'4'},\n",
       "  {u'state': u'Complete', u'workflow_id': u'5'},\n",
       "  {u'state': u'Complete', u'workflow_id': u'6'},\n",
       "  {u'state': u'Complete', u'workflow_id': u'7'},\n",
       "  {u'state': u'Complete', u'workflow_id': u'8'},\n",
       "  {u'state': u'Complete', u'workflow_id': u'9'},\n",
       "  {u'state': u'Complete', u'workflow_id': u'10'},\n",
       "  {u'state': u'Complete', u'workflow_id': u'11'},\n",
       "  {u'state': u'Complete', u'workflow_id': u'12'},\n",
       "  {u'state': u'Complete', u'workflow_id': u'13'},\n",
       "  {u'state': u'Complete', u'workflow_id': u'14'},\n",
       "  {u'state': u'Complete', u'workflow_id': u'15'},\n",
       "  {u'state': u'Complete', u'workflow_id': u'16'},\n",
       "  {u'state': u'Complete', u'workflow_id': u'17'},\n",
       "  {u'state': u'Complete', u'workflow_id': u'18'},\n",
       "  {u'state': u'Complete', u'workflow_id': u'19'},\n",
       "  {u'state': u'Complete', u'workflow_id': u'20'},\n",
       "  {u'state': u'Complete', u'workflow_id': u'21'},\n",
       "  {u'state': u'Complete', u'workflow_id': u'22'},\n",
       "  {u'state': u'Complete', u'workflow_id': u'23'},\n",
       "  {u'state': u'Complete', u'workflow_id': u'24'},\n",
       "  {u'state': u'Complete', u'workflow_id': u'25'},\n",
       "  {u'state': u'Complete', u'workflow_id': u'26'},\n",
       "  {u'state': u'Complete', u'workflow_id': u'27'},\n",
       "  {u'state': u'Complete', u'workflow_id': u'28'},\n",
       "  {u'state': u'Complete', u'workflow_id': u'29'},\n",
       "  {u'state': u'Complete', u'workflow_id': u'30'},\n",
       "  {u'state': u'Complete', u'workflow_id': u'31'},\n",
       "  {u'state': u'Complete', u'workflow_id': u'32'},\n",
       "  {u'state': u'Complete', u'workflow_id': u'33'},\n",
       "  {u'state': u'Complete', u'workflow_id': u'34'},\n",
       "  {u'state': u'Complete', u'workflow_id': u'35'},\n",
       "  {u'state': u'Complete', u'workflow_id': u'36'},\n",
       "  {u'state': u'Complete', u'workflow_id': u'37'},\n",
       "  {u'state': u'Complete', u'workflow_id': u'38'},\n",
       "  {u'state': u'Complete', u'workflow_id': u'39'},\n",
       "  {u'state': u'Complete', u'workflow_id': u'40'},\n",
       "  {u'state': u'Complete', u'workflow_id': u'41'},\n",
       "  {u'state': u'Complete', u'workflow_id': u'42'},\n",
       "  {u'state': u'Complete', u'workflow_id': u'43'},\n",
       "  {u'state': u'Complete', u'workflow_id': u'44'},\n",
       "  {u'state': u'Complete', u'workflow_id': u'45'},\n",
       "  {u'state': u'Complete', u'workflow_id': u'46'}]}"
      ]
     },
     "execution_count": 10,
     "metadata": {},
     "output_type": "execute_result"
    }
   ],
   "source": [
    "list_workflow_runs(wes)"
   ]
  },
  {
   "cell_type": "markdown",
   "metadata": {},
   "source": [
    "Use `get_workflow_run` to retrieve details about a specific workflow run by its ID."
   ]
  },
  {
   "cell_type": "code",
   "execution_count": 11,
   "metadata": {},
   "outputs": [],
   "source": [
    "def get_workflow_run(wes, workflow_run_id):\n",
    "    target = '/workflows/{}'.format(workflow_run_id)\n",
    "    return wes_get_request(wes, target)"
   ]
  },
  {
   "cell_type": "code",
   "execution_count": 12,
   "metadata": {},
   "outputs": [
    {
     "data": {
      "text/plain": [
       "{u'outputs': [{u'location': None,\n",
       "   u'name': None,\n",
       "   u'type': None,\n",
       "   u'value': None}],\n",
       " u'request': {u'key_values': None,\n",
       "  u'workflow_descriptor': u'#!/usr/bin/env cwl-runner\\n\\nclass: CommandLineTool\\nid: \"BAMStats\"\\nlabel: \"BAMStats tool\"\\ncwlVersion: v1.0 \\ndescription: |\\n    ![build_status](https://quay.io/repository/collaboratory/dockstore-tool-bamstats/status)\\n    A Docker container for the BAMStats command. See the [BAMStats](http://bamstats.sourceforge.net/) website for more information.\\n\\ndct:creator:\\n  \"@id\": \"http://orcid.org/0000-0002-7681-6415\"\\n  foaf:name: Brian O\\'Connor\\n  foaf:mbox: \"mailto:briandoconnor@gmail.com\"\\n\\nrequirements:\\n  - class: DockerRequirement\\n    dockerPull: \"quay.io/collaboratory/dockstore-tool-bamstats:1.25-6_1.0\"\\n\\nhints:\\n  - class: ResourceRequirement\\n    coresMin: 1\\n    ramMin: 4092\\n    outdirMin: 512000\\n    doc: \"the process requires at least 4G of RAM\"\\n\\ninputs:\\n  mem_gb:\\n    type: int\\n    default: 4\\n    doc: \"The memory, in GB, for the reporting tool\"\\n    inputBinding:\\n      position: 1\\n\\n  bam_input:\\n    type: File\\n    doc: \"The BAM file used as input, it must be sorted.\"\\n    format: \"http://edamontology.org/format_2572\" \\n    inputBinding:\\n      position: 2\\n\\noutputs:\\n  bamstats_report:\\n    type: File\\n    format: \"http://edamontology.org/format_3615\"\\n    outputBinding:\\n      glob: bamstats_report.zip\\n    doc: \"A zip file that contains the HTML report and various graphics.\"\\n\\nbaseCommand: [\"bash\", \"/usr/local/bin/bamstats\"]\\n',\n",
       "  u'workflow_params': u'{\"bam_input\": {\"path\": \"https://s3-us-west-2.amazonaws.com/achave11-redwood-storage/consonance-outputs/rna.SRR948778.bam\", \"class\": \"File\", \"format\": \"http://edamontology.org/format_2572\"}, \"bamstats_report\": {\"path\": \"/tmp/bamstats_report.zip\", \"class\": \"File\"}, \"track_id\": \"test1_4\"}',\n",
       "  u'workflow_type': u'cwl',\n",
       "  u'workflow_type_version': u'1.0'},\n",
       " u'state': u'Complete',\n",
       " u'task_logs': [{u'cmd': None,\n",
       "   u'endTime': u'2018-05-03 03:58:01.732188',\n",
       "   u'exitCode': None,\n",
       "   u'name': u'cwl',\n",
       "   u'startTime': u'2018-05-03 03:56:24.367',\n",
       "   u'stderr': u\"/usr/local/bin/cwltool 1.0.20160712154127\\n['docker', 'pull', 'quay.io/collaboratory/dockstore-tool-bamstats:1.25-6_1.0']\\n1.25-6_1.0: Pulling from collaboratory/dockstore-tool-bamstats\\n3f992ab3df53: Pulling fs layer\\n0aa0bd28396f: Pulling fs layer\\ndb7bb15088de: Pulling fs layer\\n1b6d2bb5ddaa: Pulling fs layer\\na2bc8c956e6b: Pulling fs layer\\na3ed95caeb02: Pulling fs layer\\n8490c37475e2: Pulling fs layer\\n1cb104d5dc15: Pulling fs layer\\n145feb45c0fa: Pulling fs layer\\n0b48f67a56f8: Pulling fs layer\\n0afaeb20bbb7: Pulling fs layer\\n7da63344ae10: Pulling fs layer\\na2bc8c956e6b: Waiting\\na3ed95caeb02: Waiting\\n8490c37475e2: Waiting\\n1cb104d5dc15: Waiting\\n145feb45c0fa: Waiting\\n0b48f67a56f8: Waiting\\n0afaeb20bbb7: Waiting\\n7da63344ae10: Waiting\\n1b6d2bb5ddaa: Waiting\\n0aa0bd28396f: Verifying Checksum\\n0aa0bd28396f: Download complete\\ndb7bb15088de: Verifying Checksum\\ndb7bb15088de: Download complete\\n1b6d2bb5ddaa: Verifying Checksum\\n1b6d2bb5ddaa: Download complete\\na2bc8c956e6b: Download complete\\na3ed95caeb02: Verifying Checksum\\na3ed95caeb02: Download complete\\n1cb104d5dc15: Download complete\\n145feb45c0fa: Verifying Checksum\\n145feb45c0fa: Download complete\\n0b48f67a56f8: Verifying Checksum\\n0b48f67a56f8: Download complete\\n0afaeb20bbb7: Verifying Checksum\\n0afaeb20bbb7: Download complete\\n7da63344ae10: Verifying Checksum\\n7da63344ae10: Download complete\\n3f992ab3df53: Verifying Checksum\\n3f992ab3df53: Download complete\\n3f992ab3df53: Pull complete\\n0aa0bd28396f: Pull complete\\ndb7bb15088de: Pull complete\\n1b6d2bb5ddaa: Pull complete\\na2bc8c956e6b: Pull complete\\na3ed95caeb02: Pull complete\\n8490c37475e2: Verifying Checksum\\n8490c37475e2: Download complete\\n8490c37475e2: Pull complete\\n1cb104d5dc15: Pull complete\\n145feb45c0fa: Pull complete\\n0b48f67a56f8: Pull complete\\n0afaeb20bbb7: Pull complete\\n7da63344ae10: Pull complete\\nDigest: sha256:8472101666cda2a29be9abe8184ec2c7cae4360b75e712706921476b6b537679\\nStatus: Downloaded newer image for quay.io/collaboratory/dockstore-tool-bamstats:1.25-6_1.0\\n[job image-descriptor.cwl] /datastore$ docker \\\\\\n    run \\\\\\n    -i \\\\\\n    --volume=/var/run/docker.sock:/var/run/docker.sock:rw \\\\\\n    --volume=/datastore:/datastore:rw \\\\\\n    --volume=/datastore/./datastore/launcher-70566a2b-53a5-4536-9c73-51bb145abf34/inputs/633bd5c0-e5ad-443c-8654-0842c6895fef/rna.SRR948778.bam:/var/lib/cwl/stga690dbb7-b70d-4cc2-9612-10151b3206e7/rna.SRR948778.bam:ro \\\\\\n    --volume=/datastore/datastore/launcher-70566a2b-53a5-4536-9c73-51bb145abf34:/tmp:rw \\\\\\n    --workdir=/datastore \\\\\\n    --read-only=true \\\\\\n    --user=0 \\\\\\n    --rm \\\\\\n    --env=TMPDIR=/datastore/datastore/launcher-70566a2b-53a5-4536-9c73-51bb145abf34 \\\\\\n    --env=HOME=/datastore \\\\\\n    quay.io/collaboratory/dockstore-tool-bamstats:1.25-6_1.0 \\\\\\n    bash \\\\\\n    /usr/local/bin/bamstats \\\\\\n    4 \\\\\\n    /var/lib/cwl/stga690dbb7-b70d-4cc2-9612-10151b3206e7/rna.SRR948778.bam\\nTotal time: 1 minute 20 seconds\\n  adding: bamstats_report.html (deflated 83%)\\n  adding: bamstats_report.html.data/ (stored 0%)\\n  adding: bamstats_report.html.data/chr9_Coverage_histogram.png (deflated 22%)\\n  adding: bamstats_report.html.data/chr5_Coverage_histogram.png (deflated 22%)\\n  adding: bamstats_report.html.data/chr16_Coverage_boxAndWhisker.png (deflated 18%)\\n  adding: bamstats_report.html.data/chr2_Coverage.html (deflated 61%)\\n  adding: bamstats_report.html.data/chr17_Coverage.html (deflated 61%)\\n  adding: bamstats_report.html.data/chr10_Coverage.html (deflated 61%)\\n  adding: bamstats_report.html.data/chr2_Coverage_histogram.png (deflated 21%)\\n  adding: bamstats_report.html.data/chr2_Coverage_boxAndWhisker.png (deflated 18%)\\n  adding: bamstats_report.html.data/chr12_Coverage_histogram.png (deflated 21%)\\n  adding: bamstats_report.html.data/chr1_Coverage_boxAndWhisker.png (deflated 18%)\\n  adding: bamstats_report.html.data/chr14_Coverage_cumulativeHistogram.png (deflated 24%)\\n  adding: bamstats_report.html.data/chr18_Coverage.html (deflated 61%)\\n  adding: bamstats_report.html.data/chr13_Coverage.html (deflated 61%)\\n  adding: bamstats_report.html.data/chr6_Coverage_histogram.png (deflated 22%)\\n  adding: bamstats_report.html.data/chr16_Coverage.html (deflated 61%)\\n  adding: bamstats_report.html.data/chr5_Coverage_cumulativeHistogram.png (deflated 24%)\\n  adding: bamstats_report.html.data/chr4_Coverage_boxAndWhisker.png (deflated 18%)\\n  adding: bamstats_report.html.data/chr15_Coverage_boxAndWhisker.png (deflated 18%)\\n  adding: bamstats_report.html.data/chr1_Coverage_histogram.png (deflated 20%)\\n  adding: bamstats_report.html.data/chrM_Coverage_boxAndWhisker.png (deflated 14%)\\n  adding: bamstats_report.html.data/chrX_Coverage.html (deflated 59%)\\n  adding: bamstats_report.html.data/chr4_Coverage_histogram.png (deflated 21%)\\n  adding: bamstats_report.html.data/chr11_Coverage_boxAndWhisker.png (deflated 17%)\\n  adding: bamstats_report.html.data/chr13_Coverage_histogram.png (deflated 22%)\\n  adding: bamstats_report.html.data/chr7_Coverage_histogram.png (deflated 21%)\\n  adding: bamstats_report.html.data/chr3_Coverage.html (deflated 59%)\\n  adding: bamstats_report.html.data/chr13_Coverage_cumulativeHistogram.png (deflated 25%)\\n  adding: bamstats_report.html.data/chr7_Coverage_cumulativeHistogram.png (deflated 23%)\\n  adding: bamstats_report.html.data/chr11_Coverage.html (deflated 61%)\\n  adding: bamstats_report.html.data/chr1_Coverage_cumulativeHistogram.png (deflated 24%)\\n  adding: bamstats_report.html.data/chr11_Coverage_histogram.png (deflated 21%)\\n  adding: bamstats_report.html.data/chr11_Coverage_cumulativeHistogram.png (deflated 24%)\\n  adding: bamstats_report.html.data/chr13_Coverage_boxAndWhisker.png (deflated 19%)\\n  adding: bamstats_report.html.data/chr1_Coverage.html (deflated 61%)\\n  adding: bamstats_report.html.data/chr7_Coverage_boxAndWhisker.png (deflated 18%)\\n  adding: bamstats_report.html.data/chrM_Coverage_cumulativeHistogram.png (deflated 15%)\\n  adding: bamstats_report.html.data/Coverage_boxAndWhisker.png (deflated 39%)\\n  adding: bamstats_report.html.data/chr19_Coverage_histogram.png (deflated 21%)\\n  adding: bamstats_report.html.data/chrM_Coverage_histogram.png (deflated 16%)\\n  adding: bamstats_report.html.data/chr12_Coverage_boxAndWhisker.png (deflated 18%)\\n  adding: bamstats_report.html.data/chr9_Coverage_boxAndWhisker.png (deflated 17%)\\n  adding: bamstats_report.html.data/chr8_Coverage.html (deflated 61%)\\n  adding: bamstats_report.html.data/chr12_Coverage_cumulativeHistogram.png (deflated 24%)\\n  adding: bamstats_report.html.data/chr16_Coverage_cumulativeHistogram.png (deflated 24%)\\n  adding: bamstats_report.html.data/chr18_Coverage_cumulativeHistogram.png (deflated 24%)\\n  adding: bamstats_report.html.data/chr18_Coverage_boxAndWhisker.png (deflated 17%)\\n  adding: bamstats_report.html.data/chr5_Coverage_boxAndWhisker.png (deflated 17%)\\n  adding: bamstats_report.html.data/chr8_Coverage_boxAndWhisker.png (deflated 18%)\\n  adding: bamstats_report.html.data/chr10_Coverage_histogram.png (deflated 21%)\\n  adding: bamstats_report.html.data/chrY_Coverage.html (deflated 60%)\\n  adding: bamstats_report.html.data/chr14_Coverage.html (deflated 61%)\\n  adding: bamstats_report.html.data/chr14_Coverage_histogram.png (deflated 22%)\\n  adding: bamstats_report.html.data/chr8_Coverage_cumulativeHistogram.png (deflated 24%)\\n  adding: bamstats_report.html.data/chr19_Coverage_cumulativeHistogram.png (deflated 25%)\\n  adding: bamstats_report.html.data/chr17_Coverage_cumulativeHistogram.png (deflated 23%)\\n  adding: bamstats_report.html.data/chr17_Coverage_boxAndWhisker.png (deflated 17%)\\n  adding: bamstats_report.html.data/chr9_Coverage_cumulativeHistogram.png (deflated 23%)\\n  adding: bamstats_report.html.data/chr10_Coverage_boxAndWhisker.png (deflated 17%)\\n  adding: bamstats_report.html.data/chr17_Coverage_histogram.png (deflated 20%)\\n  adding: bamstats_report.html.data/chr19_Coverage_boxAndWhisker.png (deflated 18%)\\n  adding: bamstats_report.html.data/chr4_Coverage.html (deflated 61%)\\n  adding: bamstats_report.html.data/chr16_Coverage_histogram.png (deflated 22%)\\n  adding: bamstats_report.html.data/chr6_Coverage_boxAndWhisker.png (deflated 18%)\\n  adding: bamstats_report.html.data/chr15_Coverage_cumulativeHistogram.png (deflated 24%)\\n  adding: bamstats_report.html.data/chr8_Coverage_histogram.png (deflated 22%)\\n  adding: bamstats_report.html.data/chr9_Coverage.html (deflated 61%)\\n  adding: bamstats_report.html.data/chr15_Coverage.html (deflated 61%)\\n  adding: bamstats_report.html.data/chr14_Coverage_boxAndWhisker.png (deflated 18%)\\n  adding: bamstats_report.html.data/chr6_Coverage_cumulativeHistogram.png (deflated 24%)\\n  adding: bamstats_report.html.data/chr19_Coverage.html (deflated 61%)\\n  adding: bamstats_report.html.data/chr12_Coverage.html (deflated 61%)\\n  adding: bamstats_report.html.data/chr10_Coverage_cumulativeHistogram.png (deflated 24%)\\n  adding: bamstats_report.html.data/chr2_Coverage_cumulativeHistogram.png (deflated 24%)\\n  adding: bamstats_report.html.data/chrM_Coverage.html (deflated 59%)\\n  adding: bamstats_report.html.data/chr7_Coverage.html (deflated 61%)\\n  adding: bamstats_report.html.data/chr15_Coverage_histogram.png (deflated 22%)\\n  adding: bamstats_report.html.data/chr4_Coverage_cumulativeHistogram.png (deflated 24%)\\n  adding: bamstats_report.html.data/chr6_Coverage.html (deflated 61%)\\n  adding: bamstats_report.html.data/chr5_Coverage.html (deflated 61%)\\n  adding: bamstats_report.html.data/chr18_Coverage_histogram.png (deflated 22%)\\nFinal process status is success\",\n",
       "   u'stdout': None}],\n",
       " u'workflow_id': u'46',\n",
       " u'workflow_log': None}"
      ]
     },
     "execution_count": 12,
     "metadata": {},
     "output_type": "execute_result"
    }
   ],
   "source": [
    "# get details of the most recent workflow run\n",
    "get_workflow_run(wes, list_workflow_runs(wes)['workflows'][-1]['workflow_id'])"
   ]
  },
  {
   "cell_type": "markdown",
   "metadata": {},
   "source": [
    "Use `get_workflow_run_status` to retrieve the status of a workflow run (this is the same as the `state` property of a workflow run object). "
   ]
  },
  {
   "cell_type": "code",
   "execution_count": 13,
   "metadata": {},
   "outputs": [],
   "source": [
    "def get_workflow_run_status(wes, workflow_run_id):\n",
    "    target = '/workflows/{}/status'.format(workflow_run_id)\n",
    "    return wes_get_request(wes, target)"
   ]
  },
  {
   "cell_type": "code",
   "execution_count": 14,
   "metadata": {},
   "outputs": [
    {
     "data": {
      "text/plain": [
       "{u'state': u'Complete', u'workflow_id': u'46'}"
      ]
     },
     "execution_count": 14,
     "metadata": {},
     "output_type": "execute_result"
    }
   ],
   "source": [
    "get_workflow_run_status(wes, list_workflow_runs(wes)['workflows'][-1]['workflow_id'])"
   ]
  },
  {
   "cell_type": "markdown",
   "metadata": {},
   "source": [
    "## Submitting workflows"
   ]
  },
  {
   "cell_type": "markdown",
   "metadata": {},
   "source": [
    "Use `build_workflow_run_packet` to collect and format parameters/instructions for a new workflow run."
   ]
  },
  {
   "cell_type": "code",
   "execution_count": 15,
   "metadata": {},
   "outputs": [],
   "source": [
    "def build_workflow_run_packet(\n",
    "    workflow_params, workflow_type, workflow_type_version, workflow_descriptor=None, \n",
    "    tags=None, workflow_engine_parameters=None, workflow_url=None, key_values=None\n",
    "):\n",
    "    \"\"\"\n",
    "    Build JSON request packet for submitting a workflow run.\n",
    "    \n",
    "    Fields from http://ga4gh.github.io/workflow-execution-service-schemas/definitions/ga4gh_wes_WorkflowRequest\n",
    "    \"\"\"\n",
    "    packet = {\n",
    "        'workflow_descriptor': workflow_descriptor, \n",
    "        'workflow_params' : workflow_params, \n",
    "        'workflow_type': workflow_type,\n",
    "        'workflow_type_version': workflow_type_version,\n",
    "        'tags': tags,\n",
    "        'workflow_engine_parameters': workflow_engine_parameters,\n",
    "        'workflow_url': workflow_url,\n",
    "        'key_values' : key_values\n",
    "    }\n",
    "    return {k: v for k, v in packet.items()\n",
    "            if v is not None}\n",
    "    "
   ]
  },
  {
   "cell_type": "markdown",
   "metadata": {},
   "source": [
    "`read_file` is a small helper function from Abraham (used here to read in JSON parameters file)."
   ]
  },
  {
   "cell_type": "code",
   "execution_count": 16,
   "metadata": {},
   "outputs": [],
   "source": [
    "def read_file(file_name):\n",
    "    file_r = open(file_name,'r')\n",
    "    return file_r.read()"
   ]
  },
  {
   "cell_type": "markdown",
   "metadata": {},
   "source": [
    "### 1. Testing with `dockstore-tool-bamstats`"
   ]
  },
  {
   "cell_type": "markdown",
   "metadata": {},
   "source": [
    "Example workflow from Abraham's gist/notebook. Check out his notebook for the contents of `bams.json` (I just copied and pasted into a local file)."
   ]
  },
  {
   "cell_type": "code",
   "execution_count": 17,
   "metadata": {},
   "outputs": [],
   "source": [
    "# File in local path\n",
    "params = json.dumps(json.loads(read_file('bams.json')))\n",
    "\n",
    "workflow_type = 'cwl'\n",
    "workflow_type_version = '1.0'\n",
    "key_values = {'flavour' : 'c4.xlarge', 'tracker_id': 'test1'} # Consonance specific key value"
   ]
  },
  {
   "cell_type": "markdown",
   "metadata": {},
   "source": [
    "Create a generic `POST` request function (to minimize repeated code). Returns the response of the request."
   ]
  },
  {
   "cell_type": "code",
   "execution_count": 18,
   "metadata": {},
   "outputs": [],
   "source": [
    "def wes_post_request(wes, target, json):\n",
    "    \"\"\"\n",
    "    Generic workflow execution service API 'POST' request.\n",
    "    \"\"\"\n",
    "    res = requests.post(\n",
    "        '{}{}'.format(wes.endpoint, target),\n",
    "        headers=wes.headers,\n",
    "        json=json\n",
    "    )\n",
    "    # TODO: add some exception handling for different responses\n",
    "    return res.json()"
   ]
  },
  {
   "cell_type": "markdown",
   "metadata": {},
   "source": [
    "Use `submit_workflow_run` to initiate a new workflow run with the specified parameters. The response for this request will give the ID of the submitted workflow run."
   ]
  },
  {
   "cell_type": "code",
   "execution_count": 19,
   "metadata": {},
   "outputs": [],
   "source": [
    "def submit_workflow_run(wes, workflow_run_packet, tags=None):\n",
    "    target = '/workflows'\n",
    "    params = json.loads(workflow_run_packet['workflow_params'])\n",
    "    params.update(tags)\n",
    "    workflow_run_packet['workflow_params'] = json.dumps(params)\n",
    "    # print request data for testing\n",
    "    print(workflow_run_packet)\n",
    "    return wes_post_request(wes, target, json=workflow_run_packet)"
   ]
  },
  {
   "cell_type": "markdown",
   "metadata": {},
   "source": [
    "#### 1.1. Using Dockstore ID"
   ]
  },
  {
   "cell_type": "markdown",
   "metadata": {},
   "source": [
    "This test follows Abraham's example, using a Dockstore tool ID for the `workflow_descriptor` field. "
   ]
  },
  {
   "cell_type": "markdown",
   "metadata": {},
   "source": [
    "> I don't think this technically conforms with the WES spec (?) — my understanding is that `_descriptor` should be the actual descriptor object, and `_url` should be a URL path to the descriptor."
   ]
  },
  {
   "cell_type": "code",
   "execution_count": 20,
   "metadata": {},
   "outputs": [],
   "source": [
    "# Dockstore tool id.\n",
    "descriptor = \"quay.io/collaboratory/dockstore-tool-bamstats:1.25-6_1.0\" "
   ]
  },
  {
   "cell_type": "code",
   "execution_count": 21,
   "metadata": {},
   "outputs": [
    {
     "name": "stdout",
     "output_type": "stream",
     "text": [
      "{'key_values': {'flavour': 'c4.xlarge', 'tracker_id': 'test1'}, 'workflow_type_version': '1.0', 'workflow_params': '{\"bam_input\": {\"path\": \"https://s3-us-west-2.amazonaws.com/achave11-redwood-storage/consonance-outputs/rna.SRR948778.bam\", \"class\": \"File\", \"format\": \"http://edamontology.org/format_2572\"}, \"bamstats_report\": {\"path\": \"/tmp/bamstats_report.zip\", \"class\": \"File\"}, \"track_id\": \"test1_1\"}', 'workflow_descriptor': 'quay.io/collaboratory/dockstore-tool-bamstats:1.25-6_1.0', 'workflow_type': 'cwl'}\n"
     ]
    },
    {
     "data": {
      "text/plain": [
       "{u'workflow_id': u'33'}"
      ]
     },
     "execution_count": 21,
     "metadata": {},
     "output_type": "execute_result"
    }
   ],
   "source": [
    "test1_1 = submit_workflow_run(\n",
    "    wes, \n",
    "    workflow_run_packet = build_workflow_run_packet(\n",
    "        workflow_descriptor=descriptor,\n",
    "        workflow_params=params,\n",
    "        workflow_type=workflow_type,\n",
    "        workflow_type_version=workflow_type_version,\n",
    "        key_values=key_values\n",
    "    ),\n",
    "    tags={'track_id': 'test1_1'}\n",
    ")\n",
    "test1_1"
   ]
  },
  {
   "cell_type": "markdown",
   "metadata": {},
   "source": [
    "> I think there's a bug with the Consonance workflow run counter (or the `POST` endpoint in WES) — we saw above that there were over 40 workflow runs, so the new run should have an ID corresponding to a larger number. Can double check:"
   ]
  },
  {
   "cell_type": "code",
   "execution_count": 22,
   "metadata": {},
   "outputs": [
    {
     "data": {
      "text/plain": [
       "{u'next_page_token': None,\n",
       " u'workflows': [{u'state': u'Complete', u'workflow_id': u'1'},\n",
       "  {u'state': u'Complete', u'workflow_id': u'2'},\n",
       "  {u'state': u'Complete', u'workflow_id': u'3'},\n",
       "  {u'state': u'Complete', u'workflow_id': u'4'},\n",
       "  {u'state': u'Complete', u'workflow_id': u'5'},\n",
       "  {u'state': u'Complete', u'workflow_id': u'6'},\n",
       "  {u'state': u'Complete', u'workflow_id': u'7'},\n",
       "  {u'state': u'Complete', u'workflow_id': u'8'},\n",
       "  {u'state': u'Complete', u'workflow_id': u'9'},\n",
       "  {u'state': u'Complete', u'workflow_id': u'10'},\n",
       "  {u'state': u'Complete', u'workflow_id': u'11'},\n",
       "  {u'state': u'Complete', u'workflow_id': u'12'},\n",
       "  {u'state': u'Complete', u'workflow_id': u'13'},\n",
       "  {u'state': u'Complete', u'workflow_id': u'14'},\n",
       "  {u'state': u'Complete', u'workflow_id': u'15'},\n",
       "  {u'state': u'Complete', u'workflow_id': u'16'},\n",
       "  {u'state': u'Complete', u'workflow_id': u'17'},\n",
       "  {u'state': u'Complete', u'workflow_id': u'18'},\n",
       "  {u'state': u'Complete', u'workflow_id': u'19'},\n",
       "  {u'state': u'Complete', u'workflow_id': u'20'},\n",
       "  {u'state': u'Complete', u'workflow_id': u'21'},\n",
       "  {u'state': u'Complete', u'workflow_id': u'22'},\n",
       "  {u'state': u'Complete', u'workflow_id': u'23'},\n",
       "  {u'state': u'Complete', u'workflow_id': u'24'},\n",
       "  {u'state': u'Complete', u'workflow_id': u'25'},\n",
       "  {u'state': u'Complete', u'workflow_id': u'26'},\n",
       "  {u'state': u'Complete', u'workflow_id': u'27'},\n",
       "  {u'state': u'Complete', u'workflow_id': u'28'},\n",
       "  {u'state': u'Complete', u'workflow_id': u'29'},\n",
       "  {u'state': u'Complete', u'workflow_id': u'30'},\n",
       "  {u'state': u'Complete', u'workflow_id': u'31'},\n",
       "  {u'state': u'Complete', u'workflow_id': u'32'},\n",
       "  {u'state': u'Complete', u'workflow_id': u'33'},\n",
       "  {u'state': u'Complete', u'workflow_id': u'34'},\n",
       "  {u'state': u'Complete', u'workflow_id': u'35'},\n",
       "  {u'state': u'Complete', u'workflow_id': u'36'},\n",
       "  {u'state': u'Complete', u'workflow_id': u'37'},\n",
       "  {u'state': u'Complete', u'workflow_id': u'38'},\n",
       "  {u'state': u'Complete', u'workflow_id': u'39'},\n",
       "  {u'state': u'Complete', u'workflow_id': u'40'},\n",
       "  {u'state': u'Complete', u'workflow_id': u'41'},\n",
       "  {u'state': u'Complete', u'workflow_id': u'42'},\n",
       "  {u'state': u'Complete', u'workflow_id': u'43'},\n",
       "  {u'state': u'Complete', u'workflow_id': u'44'},\n",
       "  {u'state': u'Complete', u'workflow_id': u'45'},\n",
       "  {u'state': u'Complete', u'workflow_id': u'46'},\n",
       "  {u'state': u'Running', u'workflow_id': u'47'}]}"
      ]
     },
     "execution_count": 22,
     "metadata": {},
     "output_type": "execute_result"
    }
   ],
   "source": [
    "list_workflow_runs(wes)"
   ]
  },
  {
   "cell_type": "markdown",
   "metadata": {},
   "source": [
    "Add a little function to find the actual ID of the workflow run."
   ]
  },
  {
   "cell_type": "code",
   "execution_count": 23,
   "metadata": {},
   "outputs": [],
   "source": [
    "def find_workflow_run(wes, tag_key, tag_val, n=5):\n",
    "    wr_list = []\n",
    "    for wr in list_workflow_runs(wes)['workflows'][-n:]:\n",
    "        params = json.loads(\n",
    "            get_workflow_run(wes, wr['workflow_id'])['request']['workflow_params']\n",
    "        )\n",
    "        wr_tag_val = params.get(tag_key, None)\n",
    "        if wr_tag_val == tag_val:\n",
    "            wr_list.append(wr['workflow_id'])\n",
    "    return wr_list[-1]"
   ]
  },
  {
   "cell_type": "code",
   "execution_count": 24,
   "metadata": {},
   "outputs": [
    {
     "data": {
      "text/plain": [
       "u'47'"
      ]
     },
     "execution_count": 24,
     "metadata": {},
     "output_type": "execute_result"
    }
   ],
   "source": [
    "test1_1_id = find_workflow_run(wes, 'track_id', 'test1_1')\n",
    "test1_1_id"
   ]
  },
  {
   "cell_type": "markdown",
   "metadata": {},
   "source": [
    "OK, so the now that I have the actual workflow run ID, I can check status and details using the same functions as above."
   ]
  },
  {
   "cell_type": "code",
   "execution_count": 27,
   "metadata": {},
   "outputs": [
    {
     "data": {
      "text/plain": [
       "{u'state': u'Complete', u'workflow_id': u'47'}"
      ]
     },
     "execution_count": 27,
     "metadata": {},
     "output_type": "execute_result"
    }
   ],
   "source": [
    "get_workflow_run_status(wes, test1_1_id)"
   ]
  },
  {
   "cell_type": "markdown",
   "metadata": {},
   "source": [
    "> Assume I re-ran the above cell until the `state` was `Complete`."
   ]
  },
  {
   "cell_type": "code",
   "execution_count": 28,
   "metadata": {},
   "outputs": [
    {
     "data": {
      "text/plain": [
       "{u'outputs': [{u'location': None,\n",
       "   u'name': None,\n",
       "   u'type': None,\n",
       "   u'value': None}],\n",
       " u'request': {u'key_values': None,\n",
       "  u'workflow_descriptor': u'#!/usr/bin/env cwl-runner\\n\\nclass: CommandLineTool\\nid: \"BAMStats\"\\nlabel: \"BAMStats tool\"\\ncwlVersion: v1.0 \\ndescription: |\\n    ![build_status](https://quay.io/repository/collaboratory/dockstore-tool-bamstats/status)\\n    A Docker container for the BAMStats command. See the [BAMStats](http://bamstats.sourceforge.net/) website for more information.\\n\\ndct:creator:\\n  \"@id\": \"http://orcid.org/0000-0002-7681-6415\"\\n  foaf:name: Brian O\\'Connor\\n  foaf:mbox: \"mailto:briandoconnor@gmail.com\"\\n\\nrequirements:\\n  - class: DockerRequirement\\n    dockerPull: \"quay.io/collaboratory/dockstore-tool-bamstats:1.25-6_1.0\"\\n\\nhints:\\n  - class: ResourceRequirement\\n    coresMin: 1\\n    ramMin: 4092\\n    outdirMin: 512000\\n    doc: \"the process requires at least 4G of RAM\"\\n\\ninputs:\\n  mem_gb:\\n    type: int\\n    default: 4\\n    doc: \"The memory, in GB, for the reporting tool\"\\n    inputBinding:\\n      position: 1\\n\\n  bam_input:\\n    type: File\\n    doc: \"The BAM file used as input, it must be sorted.\"\\n    format: \"http://edamontology.org/format_2572\" \\n    inputBinding:\\n      position: 2\\n\\noutputs:\\n  bamstats_report:\\n    type: File\\n    format: \"http://edamontology.org/format_3615\"\\n    outputBinding:\\n      glob: bamstats_report.zip\\n    doc: \"A zip file that contains the HTML report and various graphics.\"\\n\\nbaseCommand: [\"bash\", \"/usr/local/bin/bamstats\"]\\n',\n",
       "  u'workflow_params': u'{\"bam_input\": {\"path\": \"https://s3-us-west-2.amazonaws.com/achave11-redwood-storage/consonance-outputs/rna.SRR948778.bam\", \"class\": \"File\", \"format\": \"http://edamontology.org/format_2572\"}, \"bamstats_report\": {\"path\": \"/tmp/bamstats_report.zip\", \"class\": \"File\"}, \"track_id\": \"test1_1\"}',\n",
       "  u'workflow_type': u'cwl',\n",
       "  u'workflow_type_version': u'1.0'},\n",
       " u'state': u'Complete',\n",
       " u'task_logs': [{u'cmd': None,\n",
       "   u'endTime': u'2018-05-03 03:43:24.720232',\n",
       "   u'exitCode': None,\n",
       "   u'name': u'cwl',\n",
       "   u'startTime': u'2018-05-03 04:18:24.607',\n",
       "   u'stderr': u\"/usr/local/bin/cwltool 1.0.20160712154127\\n['docker', 'pull', 'quay.io/collaboratory/dockstore-tool-bamstats:1.25-6_1.0']\\n1.25-6_1.0: Pulling from collaboratory/dockstore-tool-bamstats\\n3f992ab3df53: Pulling fs layer\\n0aa0bd28396f: Pulling fs layer\\ndb7bb15088de: Pulling fs layer\\n1b6d2bb5ddaa: Pulling fs layer\\na2bc8c956e6b: Pulling fs layer\\na3ed95caeb02: Pulling fs layer\\n8490c37475e2: Pulling fs layer\\n1cb104d5dc15: Pulling fs layer\\n145feb45c0fa: Pulling fs layer\\n0b48f67a56f8: Pulling fs layer\\n0afaeb20bbb7: Pulling fs layer\\n7da63344ae10: Pulling fs layer\\na2bc8c956e6b: Waiting\\na3ed95caeb02: Waiting\\n8490c37475e2: Waiting\\n1cb104d5dc15: Waiting\\n145feb45c0fa: Waiting\\n0b48f67a56f8: Waiting\\n0afaeb20bbb7: Waiting\\n7da63344ae10: Waiting\\n1b6d2bb5ddaa: Waiting\\n0aa0bd28396f: Verifying Checksum\\n0aa0bd28396f: Download complete\\ndb7bb15088de: Verifying Checksum\\ndb7bb15088de: Download complete\\n1b6d2bb5ddaa: Verifying Checksum\\n1b6d2bb5ddaa: Download complete\\na2bc8c956e6b: Download complete\\na3ed95caeb02: Verifying Checksum\\na3ed95caeb02: Download complete\\n1cb104d5dc15: Download complete\\n145feb45c0fa: Verifying Checksum\\n145feb45c0fa: Download complete\\n0b48f67a56f8: Verifying Checksum\\n0b48f67a56f8: Download complete\\n0afaeb20bbb7: Verifying Checksum\\n0afaeb20bbb7: Download complete\\n7da63344ae10: Verifying Checksum\\n7da63344ae10: Download complete\\n3f992ab3df53: Verifying Checksum\\n3f992ab3df53: Download complete\\n3f992ab3df53: Pull complete\\n0aa0bd28396f: Pull complete\\ndb7bb15088de: Pull complete\\n1b6d2bb5ddaa: Pull complete\\na2bc8c956e6b: Pull complete\\na3ed95caeb02: Pull complete\\n8490c37475e2: Verifying Checksum\\n8490c37475e2: Download complete\\n8490c37475e2: Pull complete\\n1cb104d5dc15: Pull complete\\n145feb45c0fa: Pull complete\\n0b48f67a56f8: Pull complete\\n0afaeb20bbb7: Pull complete\\n7da63344ae10: Pull complete\\nDigest: sha256:8472101666cda2a29be9abe8184ec2c7cae4360b75e712706921476b6b537679\\nStatus: Downloaded newer image for quay.io/collaboratory/dockstore-tool-bamstats:1.25-6_1.0\\n[job image-descriptor.cwl] /datastore$ docker \\\\\\n    run \\\\\\n    -i \\\\\\n    --volume=/var/run/docker.sock:/var/run/docker.sock:rw \\\\\\n    --volume=/datastore:/datastore:rw \\\\\\n    --volume=/datastore/./datastore/launcher-70566a2b-53a5-4536-9c73-51bb145abf34/inputs/633bd5c0-e5ad-443c-8654-0842c6895fef/rna.SRR948778.bam:/var/lib/cwl/stga690dbb7-b70d-4cc2-9612-10151b3206e7/rna.SRR948778.bam:ro \\\\\\n    --volume=/datastore/datastore/launcher-70566a2b-53a5-4536-9c73-51bb145abf34:/tmp:rw \\\\\\n    --workdir=/datastore \\\\\\n    --read-only=true \\\\\\n    --user=0 \\\\\\n    --rm \\\\\\n    --env=TMPDIR=/datastore/datastore/launcher-70566a2b-53a5-4536-9c73-51bb145abf34 \\\\\\n    --env=HOME=/datastore \\\\\\n    quay.io/collaboratory/dockstore-tool-bamstats:1.25-6_1.0 \\\\\\n    bash \\\\\\n    /usr/local/bin/bamstats \\\\\\n    4 \\\\\\n    /var/lib/cwl/stga690dbb7-b70d-4cc2-9612-10151b3206e7/rna.SRR948778.bam\\nTotal time: 1 minute 20 seconds\\n  adding: bamstats_report.html (deflated 83%)\\n  adding: bamstats_report.html.data/ (stored 0%)\\n  adding: bamstats_report.html.data/chr9_Coverage_histogram.png (deflated 22%)\\n  adding: bamstats_report.html.data/chr5_Coverage_histogram.png (deflated 22%)\\n  adding: bamstats_report.html.data/chr16_Coverage_boxAndWhisker.png (deflated 18%)\\n  adding: bamstats_report.html.data/chr2_Coverage.html (deflated 61%)\\n  adding: bamstats_report.html.data/chr17_Coverage.html (deflated 61%)\\n  adding: bamstats_report.html.data/chr10_Coverage.html (deflated 61%)\\n  adding: bamstats_report.html.data/chr2_Coverage_histogram.png (deflated 21%)\\n  adding: bamstats_report.html.data/chr2_Coverage_boxAndWhisker.png (deflated 18%)\\n  adding: bamstats_report.html.data/chr12_Coverage_histogram.png (deflated 21%)\\n  adding: bamstats_report.html.data/chr1_Coverage_boxAndWhisker.png (deflated 18%)\\n  adding: bamstats_report.html.data/chr14_Coverage_cumulativeHistogram.png (deflated 24%)\\n  adding: bamstats_report.html.data/chr18_Coverage.html (deflated 61%)\\n  adding: bamstats_report.html.data/chr13_Coverage.html (deflated 61%)\\n  adding: bamstats_report.html.data/chr6_Coverage_histogram.png (deflated 22%)\\n  adding: bamstats_report.html.data/chr16_Coverage.html (deflated 61%)\\n  adding: bamstats_report.html.data/chr5_Coverage_cumulativeHistogram.png (deflated 24%)\\n  adding: bamstats_report.html.data/chr4_Coverage_boxAndWhisker.png (deflated 18%)\\n  adding: bamstats_report.html.data/chr15_Coverage_boxAndWhisker.png (deflated 18%)\\n  adding: bamstats_report.html.data/chr1_Coverage_histogram.png (deflated 20%)\\n  adding: bamstats_report.html.data/chrM_Coverage_boxAndWhisker.png (deflated 14%)\\n  adding: bamstats_report.html.data/chrX_Coverage.html (deflated 59%)\\n  adding: bamstats_report.html.data/chr4_Coverage_histogram.png (deflated 21%)\\n  adding: bamstats_report.html.data/chr11_Coverage_boxAndWhisker.png (deflated 17%)\\n  adding: bamstats_report.html.data/chr13_Coverage_histogram.png (deflated 22%)\\n  adding: bamstats_report.html.data/chr7_Coverage_histogram.png (deflated 21%)\\n  adding: bamstats_report.html.data/chr3_Coverage.html (deflated 59%)\\n  adding: bamstats_report.html.data/chr13_Coverage_cumulativeHistogram.png (deflated 25%)\\n  adding: bamstats_report.html.data/chr7_Coverage_cumulativeHistogram.png (deflated 23%)\\n  adding: bamstats_report.html.data/chr11_Coverage.html (deflated 61%)\\n  adding: bamstats_report.html.data/chr1_Coverage_cumulativeHistogram.png (deflated 24%)\\n  adding: bamstats_report.html.data/chr11_Coverage_histogram.png (deflated 21%)\\n  adding: bamstats_report.html.data/chr11_Coverage_cumulativeHistogram.png (deflated 24%)\\n  adding: bamstats_report.html.data/chr13_Coverage_boxAndWhisker.png (deflated 19%)\\n  adding: bamstats_report.html.data/chr1_Coverage.html (deflated 61%)\\n  adding: bamstats_report.html.data/chr7_Coverage_boxAndWhisker.png (deflated 18%)\\n  adding: bamstats_report.html.data/chrM_Coverage_cumulativeHistogram.png (deflated 15%)\\n  adding: bamstats_report.html.data/Coverage_boxAndWhisker.png (deflated 39%)\\n  adding: bamstats_report.html.data/chr19_Coverage_histogram.png (deflated 21%)\\n  adding: bamstats_report.html.data/chrM_Coverage_histogram.png (deflated 16%)\\n  adding: bamstats_report.html.data/chr12_Coverage_boxAndWhisker.png (deflated 18%)\\n  adding: bamstats_report.html.data/chr9_Coverage_boxAndWhisker.png (deflated 17%)\\n  adding: bamstats_report.html.data/chr8_Coverage.html (deflated 61%)\\n  adding: bamstats_report.html.data/chr12_Coverage_cumulativeHistogram.png (deflated 24%)\\n  adding: bamstats_report.html.data/chr16_Coverage_cumulativeHistogram.png (deflated 24%)\\n  adding: bamstats_report.html.data/chr18_Coverage_cumulativeHistogram.png (deflated 24%)\\n  adding: bamstats_report.html.data/chr18_Coverage_boxAndWhisker.png (deflated 17%)\\n  adding: bamstats_report.html.data/chr5_Coverage_boxAndWhisker.png (deflated 17%)\\n  adding: bamstats_report.html.data/chr8_Coverage_boxAndWhisker.png (deflated 18%)\\n  adding: bamstats_report.html.data/chr10_Coverage_histogram.png (deflated 21%)\\n  adding: bamstats_report.html.data/chrY_Coverage.html (deflated 60%)\\n  adding: bamstats_report.html.data/chr14_Coverage.html (deflated 61%)\\n  adding: bamstats_report.html.data/chr14_Coverage_histogram.png (deflated 22%)\\n  adding: bamstats_report.html.data/chr8_Coverage_cumulativeHistogram.png (deflated 24%)\\n  adding: bamstats_report.html.data/chr19_Coverage_cumulativeHistogram.png (deflated 25%)\\n  adding: bamstats_report.html.data/chr17_Coverage_cumulativeHistogram.png (deflated 23%)\\n  adding: bamstats_report.html.data/chr17_Coverage_boxAndWhisker.png (deflated 17%)\\n  adding: bamstats_report.html.data/chr9_Coverage_cumulativeHistogram.png (deflated 23%)\\n  adding: bamstats_report.html.data/chr10_Coverage_boxAndWhisker.png (deflated 17%)\\n  adding: bamstats_report.html.data/chr17_Coverage_histogram.png (deflated 20%)\\n  adding: bamstats_report.html.data/chr19_Coverage_boxAndWhisker.png (deflated 18%)\\n  adding: bamstats_report.html.data/chr4_Coverage.html (deflated 61%)\\n  adding: bamstats_report.html.data/chr16_Coverage_histogram.png (deflated 22%)\\n  adding: bamstats_report.html.data/chr6_Coverage_boxAndWhisker.png (deflated 18%)\\n  adding: bamstats_report.html.data/chr15_Coverage_cumulativeHistogram.png (deflated 24%)\\n  adding: bamstats_report.html.data/chr8_Coverage_histogram.png (deflated 22%)\\n  adding: bamstats_report.html.data/chr9_Coverage.html (deflated 61%)\\n  adding: bamstats_report.html.data/chr15_Coverage.html (deflated 61%)\\n  adding: bamstats_report.html.data/chr14_Coverage_boxAndWhisker.png (deflated 18%)\\n  adding: bamstats_report.html.data/chr6_Coverage_cumulativeHistogram.png (deflated 24%)\\n  adding: bamstats_report.html.data/chr19_Coverage.html (deflated 61%)\\n  adding: bamstats_report.html.data/chr12_Coverage.html (deflated 61%)\\n  adding: bamstats_report.html.data/chr10_Coverage_cumulativeHistogram.png (deflated 24%)\\n  adding: bamstats_report.html.data/chr2_Coverage_cumulativeHistogram.png (deflated 24%)\\n  adding: bamstats_report.html.data/chrM_Coverage.html (deflated 59%)\\n  adding: bamstats_report.html.data/chr7_Coverage.html (deflated 61%)\\n  adding: bamstats_report.html.data/chr15_Coverage_histogram.png (deflated 22%)\\n  adding: bamstats_report.html.data/chr4_Coverage_cumulativeHistogram.png (deflated 24%)\\n  adding: bamstats_report.html.data/chr6_Coverage.html (deflated 61%)\\n  adding: bamstats_report.html.data/chr5_Coverage.html (deflated 61%)\\n  adding: bamstats_report.html.data/chr18_Coverage_histogram.png (deflated 22%)\\nFinal process status is success\",\n",
       "   u'stdout': None}],\n",
       " u'workflow_id': u'47',\n",
       " u'workflow_log': None}"
      ]
     },
     "execution_count": 28,
     "metadata": {},
     "output_type": "execute_result"
    }
   ],
   "source": [
    "get_workflow_run(wes, test1_1_id)"
   ]
  },
  {
   "cell_type": "markdown",
   "metadata": {},
   "source": [
    "#### Test 1.1 Results\n",
    "\n",
    "> Aside from the fact that my `key_values` don't appear to have been correctly parsed/set from the request, everything else seems to have worked fine."
   ]
  },
  {
   "cell_type": "markdown",
   "metadata": {},
   "source": [
    "#### Using CWL content"
   ]
  },
  {
   "cell_type": "markdown",
   "metadata": {},
   "source": [
    "Next attempt is to use the actual CWL content/document for the `workflow_descriptor` field. First, I'll grab the content from the descriptor URL."
   ]
  },
  {
   "cell_type": "code",
   "execution_count": 29,
   "metadata": {},
   "outputs": [],
   "source": [
    "# Dockstore tool URL\n",
    "descriptor_url = 'https://dockstore.org:8443/api/ga4gh/v2/tools/quay.io%2Fcollaboratory%2Fdockstore-tool-bamstats/versions/1.25-6_1.0/plain-CWL/descriptor/%2FDockstore.cwl'\n",
    "\n",
    "# Get descriptor from URL\n",
    "descriptor_content = requests.get(descriptor_url).content"
   ]
  },
  {
   "cell_type": "markdown",
   "metadata": {},
   "source": [
    "Descriptor content looks like:"
   ]
  },
  {
   "cell_type": "code",
   "execution_count": 30,
   "metadata": {},
   "outputs": [
    {
     "data": {
      "text/plain": [
       "'#!/usr/bin/env cwl-runner\\n\\nclass: CommandLineTool\\nid: \"BAMStats\"\\nlabel: \"BAMStats tool\"\\ncwlVersion: v1.0 \\ndescription: |\\n    ![build_status](https://quay.io/repository/collaboratory/dockstore-tool-bamstats/status)\\n    A Docker container for the BAMStats command. See the [BAMStats](http://bamstats.sourceforge.net/) website for more information.\\n\\ndct:creator:\\n  \"@id\": \"http://orcid.org/0000-0002-7681-6415\"\\n  foaf:name: Brian O\\'Connor\\n  foaf:mbox: \"mailto:briandoconnor@gmail.com\"\\n\\nrequirements:\\n  - class: DockerRequirement\\n    dockerPull: \"quay.io/collaboratory/dockstore-tool-bamstats:1.25-6_1.0\"\\n\\nhints:\\n  - class: ResourceRequirement\\n    coresMin: 1\\n    ramMin: 4092\\n    outdirMin: 512000\\n    doc: \"the process requires at least 4G of RAM\"\\n\\ninputs:\\n  mem_gb:\\n    type: int\\n    default: 4\\n    doc: \"The memory, in GB, for the reporting tool\"\\n    inputBinding:\\n      position: 1\\n\\n  bam_input:\\n    type: File\\n    doc: \"The BAM file used as input, it must be sorted.\"\\n    format: \"http://edamontology.org/format_2572\" \\n    inputBinding:\\n      position: 2\\n\\noutputs:\\n  bamstats_report:\\n    type: File\\n    format: \"http://edamontology.org/format_3615\"\\n    outputBinding:\\n      glob: bamstats_report.zip\\n    doc: \"A zip file that contains the HTML report and various graphics.\"\\n\\nbaseCommand: [\"bash\", \"/usr/local/bin/bamstats\"]\\n'"
      ]
     },
     "execution_count": 30,
     "metadata": {},
     "output_type": "execute_result"
    }
   ],
   "source": [
    "descriptor_content"
   ]
  },
  {
   "cell_type": "code",
   "execution_count": 31,
   "metadata": {},
   "outputs": [
    {
     "name": "stdout",
     "output_type": "stream",
     "text": [
      "{'key_values': {'flavour': 'c4.xlarge', 'tracker_id': 'test1'}, 'workflow_type_version': '1.0', 'workflow_params': '{\"bam_input\": {\"path\": \"https://s3-us-west-2.amazonaws.com/achave11-redwood-storage/consonance-outputs/rna.SRR948778.bam\", \"class\": \"File\", \"format\": \"http://edamontology.org/format_2572\"}, \"bamstats_report\": {\"path\": \"/tmp/bamstats_report.zip\", \"class\": \"File\"}, \"track_id\": \"test1_2\"}', 'workflow_descriptor': '#!/usr/bin/env cwl-runner\\n\\nclass: CommandLineTool\\nid: \"BAMStats\"\\nlabel: \"BAMStats tool\"\\ncwlVersion: v1.0 \\ndescription: |\\n    ![build_status](https://quay.io/repository/collaboratory/dockstore-tool-bamstats/status)\\n    A Docker container for the BAMStats command. See the [BAMStats](http://bamstats.sourceforge.net/) website for more information.\\n\\ndct:creator:\\n  \"@id\": \"http://orcid.org/0000-0002-7681-6415\"\\n  foaf:name: Brian O\\'Connor\\n  foaf:mbox: \"mailto:briandoconnor@gmail.com\"\\n\\nrequirements:\\n  - class: DockerRequirement\\n    dockerPull: \"quay.io/collaboratory/dockstore-tool-bamstats:1.25-6_1.0\"\\n\\nhints:\\n  - class: ResourceRequirement\\n    coresMin: 1\\n    ramMin: 4092\\n    outdirMin: 512000\\n    doc: \"the process requires at least 4G of RAM\"\\n\\ninputs:\\n  mem_gb:\\n    type: int\\n    default: 4\\n    doc: \"The memory, in GB, for the reporting tool\"\\n    inputBinding:\\n      position: 1\\n\\n  bam_input:\\n    type: File\\n    doc: \"The BAM file used as input, it must be sorted.\"\\n    format: \"http://edamontology.org/format_2572\" \\n    inputBinding:\\n      position: 2\\n\\noutputs:\\n  bamstats_report:\\n    type: File\\n    format: \"http://edamontology.org/format_3615\"\\n    outputBinding:\\n      glob: bamstats_report.zip\\n    doc: \"A zip file that contains the HTML report and various graphics.\"\\n\\nbaseCommand: [\"bash\", \"/usr/local/bin/bamstats\"]\\n', 'workflow_type': 'cwl'}\n"
     ]
    },
    {
     "data": {
      "text/plain": [
       "{u'workflow_id': u'33'}"
      ]
     },
     "execution_count": 31,
     "metadata": {},
     "output_type": "execute_result"
    }
   ],
   "source": [
    "test1_2 = submit_workflow_run(\n",
    "    wes, \n",
    "    build_workflow_run_packet(\n",
    "        workflow_descriptor=descriptor_content,\n",
    "        workflow_params=params,\n",
    "        workflow_type=workflow_type,\n",
    "        workflow_type_version=workflow_type_version,\n",
    "        key_values=key_values\n",
    "    ),\n",
    "    tags={'track_id': 'test1_2'}\n",
    ")\n",
    "test1_2"
   ]
  },
  {
   "cell_type": "code",
   "execution_count": 32,
   "metadata": {},
   "outputs": [
    {
     "data": {
      "text/plain": [
       "u'48'"
      ]
     },
     "execution_count": 32,
     "metadata": {},
     "output_type": "execute_result"
    }
   ],
   "source": [
    "test1_2_id = find_workflow_run(wes, 'track_id', 'test1_2')\n",
    "test1_2_id"
   ]
  },
  {
   "cell_type": "code",
   "execution_count": 41,
   "metadata": {},
   "outputs": [
    {
     "data": {
      "text/plain": [
       "{u'state': u'Complete', u'workflow_id': u'48'}"
      ]
     },
     "execution_count": 41,
     "metadata": {},
     "output_type": "execute_result"
    }
   ],
   "source": [
    "get_workflow_run_status(wes, test1_2_id)"
   ]
  },
  {
   "cell_type": "code",
   "execution_count": 42,
   "metadata": {},
   "outputs": [
    {
     "data": {
      "text/plain": [
       "{u'outputs': [{u'location': None,\n",
       "   u'name': None,\n",
       "   u'type': None,\n",
       "   u'value': None}],\n",
       " u'request': {u'key_values': None,\n",
       "  u'workflow_descriptor': None,\n",
       "  u'workflow_params': u'{\"bam_input\": {\"path\": \"https://s3-us-west-2.amazonaws.com/achave11-redwood-storage/consonance-outputs/rna.SRR948778.bam\", \"class\": \"File\", \"format\": \"http://edamontology.org/format_2572\"}, \"bamstats_report\": {\"path\": \"/tmp/bamstats_report.zip\", \"class\": \"File\"}, \"track_id\": \"test1_2\"}',\n",
       "  u'workflow_type': u'cwl',\n",
       "  u'workflow_type_version': u'1.0'},\n",
       " u'state': u'Complete',\n",
       " u'task_logs': [{u'cmd': None,\n",
       "   u'endTime': u'2018-05-03 04:22:01.895187',\n",
       "   u'exitCode': None,\n",
       "   u'name': u'cwl',\n",
       "   u'startTime': u'2018-05-03 04:20:07.436',\n",
       "   u'stderr': u\"/usr/local/bin/cwltool 1.0.20160712154127\\n['docker', 'pull', 'quay.io/collaboratory/dockstore-tool-bamstats:1.25-6_1.0']\\n1.25-6_1.0: Pulling from collaboratory/dockstore-tool-bamstats\\n3f992ab3df53: Pulling fs layer\\n0aa0bd28396f: Pulling fs layer\\ndb7bb15088de: Pulling fs layer\\n1b6d2bb5ddaa: Pulling fs layer\\na2bc8c956e6b: Pulling fs layer\\na3ed95caeb02: Pulling fs layer\\n8490c37475e2: Pulling fs layer\\n1cb104d5dc15: Pulling fs layer\\n145feb45c0fa: Pulling fs layer\\n0b48f67a56f8: Pulling fs layer\\n0afaeb20bbb7: Pulling fs layer\\n7da63344ae10: Pulling fs layer\\na2bc8c956e6b: Waiting\\na3ed95caeb02: Waiting\\n8490c37475e2: Waiting\\n1cb104d5dc15: Waiting\\n145feb45c0fa: Waiting\\n0b48f67a56f8: Waiting\\n0afaeb20bbb7: Waiting\\n7da63344ae10: Waiting\\n1b6d2bb5ddaa: Waiting\\n0aa0bd28396f: Verifying Checksum\\n0aa0bd28396f: Download complete\\ndb7bb15088de: Verifying Checksum\\ndb7bb15088de: Download complete\\n1b6d2bb5ddaa: Verifying Checksum\\n1b6d2bb5ddaa: Download complete\\na2bc8c956e6b: Download complete\\na3ed95caeb02: Verifying Checksum\\na3ed95caeb02: Download complete\\n1cb104d5dc15: Download complete\\n145feb45c0fa: Verifying Checksum\\n145feb45c0fa: Download complete\\n0b48f67a56f8: Verifying Checksum\\n0b48f67a56f8: Download complete\\n0afaeb20bbb7: Verifying Checksum\\n0afaeb20bbb7: Download complete\\n7da63344ae10: Verifying Checksum\\n7da63344ae10: Download complete\\n3f992ab3df53: Verifying Checksum\\n3f992ab3df53: Download complete\\n3f992ab3df53: Pull complete\\n0aa0bd28396f: Pull complete\\ndb7bb15088de: Pull complete\\n1b6d2bb5ddaa: Pull complete\\na2bc8c956e6b: Pull complete\\na3ed95caeb02: Pull complete\\n8490c37475e2: Verifying Checksum\\n8490c37475e2: Download complete\\n8490c37475e2: Pull complete\\n1cb104d5dc15: Pull complete\\n145feb45c0fa: Pull complete\\n0b48f67a56f8: Pull complete\\n0afaeb20bbb7: Pull complete\\n7da63344ae10: Pull complete\\nDigest: sha256:8472101666cda2a29be9abe8184ec2c7cae4360b75e712706921476b6b537679\\nStatus: Downloaded newer image for quay.io/collaboratory/dockstore-tool-bamstats:1.25-6_1.0\\n[job image-descriptor.cwl] /datastore$ docker \\\\\\n    run \\\\\\n    -i \\\\\\n    --volume=/var/run/docker.sock:/var/run/docker.sock:rw \\\\\\n    --volume=/datastore:/datastore:rw \\\\\\n    --volume=/datastore/./datastore/launcher-70566a2b-53a5-4536-9c73-51bb145abf34/inputs/633bd5c0-e5ad-443c-8654-0842c6895fef/rna.SRR948778.bam:/var/lib/cwl/stga690dbb7-b70d-4cc2-9612-10151b3206e7/rna.SRR948778.bam:ro \\\\\\n    --volume=/datastore/datastore/launcher-70566a2b-53a5-4536-9c73-51bb145abf34:/tmp:rw \\\\\\n    --workdir=/datastore \\\\\\n    --read-only=true \\\\\\n    --user=0 \\\\\\n    --rm \\\\\\n    --env=TMPDIR=/datastore/datastore/launcher-70566a2b-53a5-4536-9c73-51bb145abf34 \\\\\\n    --env=HOME=/datastore \\\\\\n    quay.io/collaboratory/dockstore-tool-bamstats:1.25-6_1.0 \\\\\\n    bash \\\\\\n    /usr/local/bin/bamstats \\\\\\n    4 \\\\\\n    /var/lib/cwl/stga690dbb7-b70d-4cc2-9612-10151b3206e7/rna.SRR948778.bam\\nTotal time: 1 minute 20 seconds\\n  adding: bamstats_report.html (deflated 83%)\\n  adding: bamstats_report.html.data/ (stored 0%)\\n  adding: bamstats_report.html.data/chr9_Coverage_histogram.png (deflated 22%)\\n  adding: bamstats_report.html.data/chr5_Coverage_histogram.png (deflated 22%)\\n  adding: bamstats_report.html.data/chr16_Coverage_boxAndWhisker.png (deflated 18%)\\n  adding: bamstats_report.html.data/chr2_Coverage.html (deflated 61%)\\n  adding: bamstats_report.html.data/chr17_Coverage.html (deflated 61%)\\n  adding: bamstats_report.html.data/chr10_Coverage.html (deflated 61%)\\n  adding: bamstats_report.html.data/chr2_Coverage_histogram.png (deflated 21%)\\n  adding: bamstats_report.html.data/chr2_Coverage_boxAndWhisker.png (deflated 18%)\\n  adding: bamstats_report.html.data/chr12_Coverage_histogram.png (deflated 21%)\\n  adding: bamstats_report.html.data/chr1_Coverage_boxAndWhisker.png (deflated 18%)\\n  adding: bamstats_report.html.data/chr14_Coverage_cumulativeHistogram.png (deflated 24%)\\n  adding: bamstats_report.html.data/chr18_Coverage.html (deflated 61%)\\n  adding: bamstats_report.html.data/chr13_Coverage.html (deflated 61%)\\n  adding: bamstats_report.html.data/chr6_Coverage_histogram.png (deflated 22%)\\n  adding: bamstats_report.html.data/chr16_Coverage.html (deflated 61%)\\n  adding: bamstats_report.html.data/chr5_Coverage_cumulativeHistogram.png (deflated 24%)\\n  adding: bamstats_report.html.data/chr4_Coverage_boxAndWhisker.png (deflated 18%)\\n  adding: bamstats_report.html.data/chr15_Coverage_boxAndWhisker.png (deflated 18%)\\n  adding: bamstats_report.html.data/chr1_Coverage_histogram.png (deflated 20%)\\n  adding: bamstats_report.html.data/chrM_Coverage_boxAndWhisker.png (deflated 14%)\\n  adding: bamstats_report.html.data/chrX_Coverage.html (deflated 59%)\\n  adding: bamstats_report.html.data/chr4_Coverage_histogram.png (deflated 21%)\\n  adding: bamstats_report.html.data/chr11_Coverage_boxAndWhisker.png (deflated 17%)\\n  adding: bamstats_report.html.data/chr13_Coverage_histogram.png (deflated 22%)\\n  adding: bamstats_report.html.data/chr7_Coverage_histogram.png (deflated 21%)\\n  adding: bamstats_report.html.data/chr3_Coverage.html (deflated 59%)\\n  adding: bamstats_report.html.data/chr13_Coverage_cumulativeHistogram.png (deflated 25%)\\n  adding: bamstats_report.html.data/chr7_Coverage_cumulativeHistogram.png (deflated 23%)\\n  adding: bamstats_report.html.data/chr11_Coverage.html (deflated 61%)\\n  adding: bamstats_report.html.data/chr1_Coverage_cumulativeHistogram.png (deflated 24%)\\n  adding: bamstats_report.html.data/chr11_Coverage_histogram.png (deflated 21%)\\n  adding: bamstats_report.html.data/chr11_Coverage_cumulativeHistogram.png (deflated 24%)\\n  adding: bamstats_report.html.data/chr13_Coverage_boxAndWhisker.png (deflated 19%)\\n  adding: bamstats_report.html.data/chr1_Coverage.html (deflated 61%)\\n  adding: bamstats_report.html.data/chr7_Coverage_boxAndWhisker.png (deflated 18%)\\n  adding: bamstats_report.html.data/chrM_Coverage_cumulativeHistogram.png (deflated 15%)\\n  adding: bamstats_report.html.data/Coverage_boxAndWhisker.png (deflated 39%)\\n  adding: bamstats_report.html.data/chr19_Coverage_histogram.png (deflated 21%)\\n  adding: bamstats_report.html.data/chrM_Coverage_histogram.png (deflated 16%)\\n  adding: bamstats_report.html.data/chr12_Coverage_boxAndWhisker.png (deflated 18%)\\n  adding: bamstats_report.html.data/chr9_Coverage_boxAndWhisker.png (deflated 17%)\\n  adding: bamstats_report.html.data/chr8_Coverage.html (deflated 61%)\\n  adding: bamstats_report.html.data/chr12_Coverage_cumulativeHistogram.png (deflated 24%)\\n  adding: bamstats_report.html.data/chr16_Coverage_cumulativeHistogram.png (deflated 24%)\\n  adding: bamstats_report.html.data/chr18_Coverage_cumulativeHistogram.png (deflated 24%)\\n  adding: bamstats_report.html.data/chr18_Coverage_boxAndWhisker.png (deflated 17%)\\n  adding: bamstats_report.html.data/chr5_Coverage_boxAndWhisker.png (deflated 17%)\\n  adding: bamstats_report.html.data/chr8_Coverage_boxAndWhisker.png (deflated 18%)\\n  adding: bamstats_report.html.data/chr10_Coverage_histogram.png (deflated 21%)\\n  adding: bamstats_report.html.data/chrY_Coverage.html (deflated 60%)\\n  adding: bamstats_report.html.data/chr14_Coverage.html (deflated 61%)\\n  adding: bamstats_report.html.data/chr14_Coverage_histogram.png (deflated 22%)\\n  adding: bamstats_report.html.data/chr8_Coverage_cumulativeHistogram.png (deflated 24%)\\n  adding: bamstats_report.html.data/chr19_Coverage_cumulativeHistogram.png (deflated 25%)\\n  adding: bamstats_report.html.data/chr17_Coverage_cumulativeHistogram.png (deflated 23%)\\n  adding: bamstats_report.html.data/chr17_Coverage_boxAndWhisker.png (deflated 17%)\\n  adding: bamstats_report.html.data/chr9_Coverage_cumulativeHistogram.png (deflated 23%)\\n  adding: bamstats_report.html.data/chr10_Coverage_boxAndWhisker.png (deflated 17%)\\n  adding: bamstats_report.html.data/chr17_Coverage_histogram.png (deflated 20%)\\n  adding: bamstats_report.html.data/chr19_Coverage_boxAndWhisker.png (deflated 18%)\\n  adding: bamstats_report.html.data/chr4_Coverage.html (deflated 61%)\\n  adding: bamstats_report.html.data/chr16_Coverage_histogram.png (deflated 22%)\\n  adding: bamstats_report.html.data/chr6_Coverage_boxAndWhisker.png (deflated 18%)\\n  adding: bamstats_report.html.data/chr15_Coverage_cumulativeHistogram.png (deflated 24%)\\n  adding: bamstats_report.html.data/chr8_Coverage_histogram.png (deflated 22%)\\n  adding: bamstats_report.html.data/chr9_Coverage.html (deflated 61%)\\n  adding: bamstats_report.html.data/chr15_Coverage.html (deflated 61%)\\n  adding: bamstats_report.html.data/chr14_Coverage_boxAndWhisker.png (deflated 18%)\\n  adding: bamstats_report.html.data/chr6_Coverage_cumulativeHistogram.png (deflated 24%)\\n  adding: bamstats_report.html.data/chr19_Coverage.html (deflated 61%)\\n  adding: bamstats_report.html.data/chr12_Coverage.html (deflated 61%)\\n  adding: bamstats_report.html.data/chr10_Coverage_cumulativeHistogram.png (deflated 24%)\\n  adding: bamstats_report.html.data/chr2_Coverage_cumulativeHistogram.png (deflated 24%)\\n  adding: bamstats_report.html.data/chrM_Coverage.html (deflated 59%)\\n  adding: bamstats_report.html.data/chr7_Coverage.html (deflated 61%)\\n  adding: bamstats_report.html.data/chr15_Coverage_histogram.png (deflated 22%)\\n  adding: bamstats_report.html.data/chr4_Coverage_cumulativeHistogram.png (deflated 24%)\\n  adding: bamstats_report.html.data/chr6_Coverage.html (deflated 61%)\\n  adding: bamstats_report.html.data/chr5_Coverage.html (deflated 61%)\\n  adding: bamstats_report.html.data/chr18_Coverage_histogram.png (deflated 22%)\\nFinal process status is success\",\n",
       "   u'stdout': None}],\n",
       " u'workflow_id': u'48',\n",
       " u'workflow_log': None}"
      ]
     },
     "execution_count": 42,
     "metadata": {},
     "output_type": "execute_result"
    }
   ],
   "source": [
    "get_workflow_run(wes, test1_2_id)"
   ]
  },
  {
   "cell_type": "markdown",
   "metadata": {},
   "source": [
    "#### Test 1.2 Results\n",
    "\n",
    "> `workflow_descriptor` appears to be unset (failed to parse?); however, there's no other indication that the job failed. I assume that the `stderr` is held over from a previous job? Or maybe not. Hard to tell what's happening..."
   ]
  },
  {
   "cell_type": "markdown",
   "metadata": {},
   "source": [
    "#### 1.3 Using descriptor URL"
   ]
  },
  {
   "cell_type": "markdown",
   "metadata": {},
   "source": [
    "Now I'll provide the descriptor URL in the `workflow_url` field — which, based on my understanding of the WES spec, is a valid option."
   ]
  },
  {
   "cell_type": "code",
   "execution_count": 43,
   "metadata": {},
   "outputs": [
    {
     "name": "stdout",
     "output_type": "stream",
     "text": [
      "{'key_values': {'flavour': 'c4.xlarge', 'tracker_id': 'test1'}, 'workflow_url': 'https://dockstore.org:8443/api/ga4gh/v2/tools/quay.io%2Fcollaboratory%2Fdockstore-tool-bamstats/versions/1.25-6_1.0/plain-CWL/descriptor/%2FDockstore.cwl', 'workflow_type_version': '1.0', 'workflow_params': '{\"bam_input\": {\"path\": \"https://s3-us-west-2.amazonaws.com/achave11-redwood-storage/consonance-outputs/rna.SRR948778.bam\", \"class\": \"File\", \"format\": \"http://edamontology.org/format_2572\"}, \"bamstats_report\": {\"path\": \"/tmp/bamstats_report.zip\", \"class\": \"File\"}, \"track_id\": \"test1_3\"}', 'workflow_type': 'cwl'}\n"
     ]
    },
    {
     "data": {
      "text/plain": [
       "{u'code': 400, u'message': u'Unable to process JSON'}"
      ]
     },
     "execution_count": 43,
     "metadata": {},
     "output_type": "execute_result"
    }
   ],
   "source": [
    "test1_3 = submit_workflow_run(\n",
    "    wes, \n",
    "    build_workflow_run_packet(\n",
    "        workflow_url=descriptor_url,\n",
    "        workflow_params=params,\n",
    "        workflow_type=workflow_type,\n",
    "        workflow_type_version=workflow_type_version,\n",
    "        key_values=key_values\n",
    "    ),\n",
    "    tags={'track_id': 'test1_3'}\n",
    ")\n",
    "test1_3"
   ]
  },
  {
   "cell_type": "markdown",
   "metadata": {},
   "source": [
    "#### Test1.3 Results\n",
    "\n",
    "> Fail. :("
   ]
  },
  {
   "cell_type": "markdown",
   "metadata": {},
   "source": [
    "#### 1.4 Using descriptor URL, part 2"
   ]
  },
  {
   "cell_type": "markdown",
   "metadata": {},
   "source": [
    "Maybe if I provide the descriptor URL as the `workflow_descriptor`..."
   ]
  },
  {
   "cell_type": "code",
   "execution_count": 44,
   "metadata": {},
   "outputs": [
    {
     "name": "stdout",
     "output_type": "stream",
     "text": [
      "{'key_values': {'flavour': 'c4.xlarge', 'tracker_id': 'test1'}, 'workflow_type_version': '1.0', 'workflow_params': '{\"bam_input\": {\"path\": \"https://s3-us-west-2.amazonaws.com/achave11-redwood-storage/consonance-outputs/rna.SRR948778.bam\", \"class\": \"File\", \"format\": \"http://edamontology.org/format_2572\"}, \"bamstats_report\": {\"path\": \"/tmp/bamstats_report.zip\", \"class\": \"File\"}, \"track_id\": \"test1_4\"}', 'workflow_descriptor': 'https://dockstore.org:8443/api/ga4gh/v2/tools/quay.io%2Fcollaboratory%2Fdockstore-tool-bamstats/versions/1.25-6_1.0/plain-CWL/descriptor/%2FDockstore.cwl', 'workflow_type': 'cwl'}\n"
     ]
    },
    {
     "data": {
      "text/plain": [
       "{u'workflow_id': u'33'}"
      ]
     },
     "execution_count": 44,
     "metadata": {},
     "output_type": "execute_result"
    }
   ],
   "source": [
    "test1_4 = submit_workflow_run(\n",
    "    wes, \n",
    "    build_workflow_run_packet(\n",
    "        workflow_descriptor=descriptor_url,\n",
    "        workflow_params=params,\n",
    "        workflow_type=workflow_type,\n",
    "        workflow_type_version=workflow_type_version,\n",
    "        key_values=key_values\n",
    "    ),\n",
    "    tags={'track_id': 'test1_4'}\n",
    ")\n",
    "test1_4"
   ]
  },
  {
   "cell_type": "code",
   "execution_count": 45,
   "metadata": {},
   "outputs": [
    {
     "data": {
      "text/plain": [
       "u'49'"
      ]
     },
     "execution_count": 45,
     "metadata": {},
     "output_type": "execute_result"
    }
   ],
   "source": [
    "test1_4_id = find_workflow_run(wes, 'track_id', 'test1_4')\n",
    "test1_4_id"
   ]
  },
  {
   "cell_type": "code",
   "execution_count": 47,
   "metadata": {},
   "outputs": [
    {
     "data": {
      "text/plain": [
       "{u'state': u'Complete', u'workflow_id': u'49'}"
      ]
     },
     "execution_count": 47,
     "metadata": {},
     "output_type": "execute_result"
    }
   ],
   "source": [
    "get_workflow_run_status(wes, test1_4_id)"
   ]
  },
  {
   "cell_type": "code",
   "execution_count": 48,
   "metadata": {},
   "outputs": [
    {
     "data": {
      "text/plain": [
       "{u'outputs': [{u'location': None,\n",
       "   u'name': None,\n",
       "   u'type': None,\n",
       "   u'value': None}],\n",
       " u'request': {u'key_values': None,\n",
       "  u'workflow_descriptor': u'#!/usr/bin/env cwl-runner\\n\\nclass: CommandLineTool\\nid: \"BAMStats\"\\nlabel: \"BAMStats tool\"\\ncwlVersion: v1.0 \\ndescription: |\\n    ![build_status](https://quay.io/repository/collaboratory/dockstore-tool-bamstats/status)\\n    A Docker container for the BAMStats command. See the [BAMStats](http://bamstats.sourceforge.net/) website for more information.\\n\\ndct:creator:\\n  \"@id\": \"http://orcid.org/0000-0002-7681-6415\"\\n  foaf:name: Brian O\\'Connor\\n  foaf:mbox: \"mailto:briandoconnor@gmail.com\"\\n\\nrequirements:\\n  - class: DockerRequirement\\n    dockerPull: \"quay.io/collaboratory/dockstore-tool-bamstats:1.25-6_1.0\"\\n\\nhints:\\n  - class: ResourceRequirement\\n    coresMin: 1\\n    ramMin: 4092\\n    outdirMin: 512000\\n    doc: \"the process requires at least 4G of RAM\"\\n\\ninputs:\\n  mem_gb:\\n    type: int\\n    default: 4\\n    doc: \"The memory, in GB, for the reporting tool\"\\n    inputBinding:\\n      position: 1\\n\\n  bam_input:\\n    type: File\\n    doc: \"The BAM file used as input, it must be sorted.\"\\n    format: \"http://edamontology.org/format_2572\" \\n    inputBinding:\\n      position: 2\\n\\noutputs:\\n  bamstats_report:\\n    type: File\\n    format: \"http://edamontology.org/format_3615\"\\n    outputBinding:\\n      glob: bamstats_report.zip\\n    doc: \"A zip file that contains the HTML report and various graphics.\"\\n\\nbaseCommand: [\"bash\", \"/usr/local/bin/bamstats\"]\\n',\n",
       "  u'workflow_params': u'{\"bam_input\": {\"path\": \"https://s3-us-west-2.amazonaws.com/achave11-redwood-storage/consonance-outputs/rna.SRR948778.bam\", \"class\": \"File\", \"format\": \"http://edamontology.org/format_2572\"}, \"bamstats_report\": {\"path\": \"/tmp/bamstats_report.zip\", \"class\": \"File\"}, \"track_id\": \"test1_4\"}',\n",
       "  u'workflow_type': u'cwl',\n",
       "  u'workflow_type_version': u'1.0'},\n",
       " u'state': u'Complete',\n",
       " u'task_logs': [{u'cmd': None,\n",
       "   u'endTime': u'2018-05-03 04:25:01.224414',\n",
       "   u'exitCode': None,\n",
       "   u'name': u'cwl',\n",
       "   u'startTime': u'2018-05-03 04:23:45.858',\n",
       "   u'stderr': u\"/usr/local/bin/cwltool 1.0.20160712154127\\n['docker', 'pull', 'quay.io/collaboratory/dockstore-tool-bamstats:1.25-6_1.0']\\n1.25-6_1.0: Pulling from collaboratory/dockstore-tool-bamstats\\n3f992ab3df53: Pulling fs layer\\n0aa0bd28396f: Pulling fs layer\\ndb7bb15088de: Pulling fs layer\\n1b6d2bb5ddaa: Pulling fs layer\\na2bc8c956e6b: Pulling fs layer\\na3ed95caeb02: Pulling fs layer\\n8490c37475e2: Pulling fs layer\\n1cb104d5dc15: Pulling fs layer\\n145feb45c0fa: Pulling fs layer\\n0b48f67a56f8: Pulling fs layer\\n0afaeb20bbb7: Pulling fs layer\\n7da63344ae10: Pulling fs layer\\na2bc8c956e6b: Waiting\\na3ed95caeb02: Waiting\\n8490c37475e2: Waiting\\n1cb104d5dc15: Waiting\\n145feb45c0fa: Waiting\\n0b48f67a56f8: Waiting\\n0afaeb20bbb7: Waiting\\n7da63344ae10: Waiting\\n1b6d2bb5ddaa: Waiting\\n0aa0bd28396f: Verifying Checksum\\n0aa0bd28396f: Download complete\\ndb7bb15088de: Verifying Checksum\\ndb7bb15088de: Download complete\\n1b6d2bb5ddaa: Verifying Checksum\\n1b6d2bb5ddaa: Download complete\\na2bc8c956e6b: Download complete\\na3ed95caeb02: Verifying Checksum\\na3ed95caeb02: Download complete\\n1cb104d5dc15: Download complete\\n145feb45c0fa: Verifying Checksum\\n145feb45c0fa: Download complete\\n0b48f67a56f8: Verifying Checksum\\n0b48f67a56f8: Download complete\\n0afaeb20bbb7: Verifying Checksum\\n0afaeb20bbb7: Download complete\\n7da63344ae10: Verifying Checksum\\n7da63344ae10: Download complete\\n3f992ab3df53: Verifying Checksum\\n3f992ab3df53: Download complete\\n3f992ab3df53: Pull complete\\n0aa0bd28396f: Pull complete\\ndb7bb15088de: Pull complete\\n1b6d2bb5ddaa: Pull complete\\na2bc8c956e6b: Pull complete\\na3ed95caeb02: Pull complete\\n8490c37475e2: Verifying Checksum\\n8490c37475e2: Download complete\\n8490c37475e2: Pull complete\\n1cb104d5dc15: Pull complete\\n145feb45c0fa: Pull complete\\n0b48f67a56f8: Pull complete\\n0afaeb20bbb7: Pull complete\\n7da63344ae10: Pull complete\\nDigest: sha256:8472101666cda2a29be9abe8184ec2c7cae4360b75e712706921476b6b537679\\nStatus: Downloaded newer image for quay.io/collaboratory/dockstore-tool-bamstats:1.25-6_1.0\\n[job image-descriptor.cwl] /datastore$ docker \\\\\\n    run \\\\\\n    -i \\\\\\n    --volume=/var/run/docker.sock:/var/run/docker.sock:rw \\\\\\n    --volume=/datastore:/datastore:rw \\\\\\n    --volume=/datastore/./datastore/launcher-70566a2b-53a5-4536-9c73-51bb145abf34/inputs/633bd5c0-e5ad-443c-8654-0842c6895fef/rna.SRR948778.bam:/var/lib/cwl/stga690dbb7-b70d-4cc2-9612-10151b3206e7/rna.SRR948778.bam:ro \\\\\\n    --volume=/datastore/datastore/launcher-70566a2b-53a5-4536-9c73-51bb145abf34:/tmp:rw \\\\\\n    --workdir=/datastore \\\\\\n    --read-only=true \\\\\\n    --user=0 \\\\\\n    --rm \\\\\\n    --env=TMPDIR=/datastore/datastore/launcher-70566a2b-53a5-4536-9c73-51bb145abf34 \\\\\\n    --env=HOME=/datastore \\\\\\n    quay.io/collaboratory/dockstore-tool-bamstats:1.25-6_1.0 \\\\\\n    bash \\\\\\n    /usr/local/bin/bamstats \\\\\\n    4 \\\\\\n    /var/lib/cwl/stga690dbb7-b70d-4cc2-9612-10151b3206e7/rna.SRR948778.bam\\nTotal time: 1 minute 20 seconds\\n  adding: bamstats_report.html (deflated 83%)\\n  adding: bamstats_report.html.data/ (stored 0%)\\n  adding: bamstats_report.html.data/chr9_Coverage_histogram.png (deflated 22%)\\n  adding: bamstats_report.html.data/chr5_Coverage_histogram.png (deflated 22%)\\n  adding: bamstats_report.html.data/chr16_Coverage_boxAndWhisker.png (deflated 18%)\\n  adding: bamstats_report.html.data/chr2_Coverage.html (deflated 61%)\\n  adding: bamstats_report.html.data/chr17_Coverage.html (deflated 61%)\\n  adding: bamstats_report.html.data/chr10_Coverage.html (deflated 61%)\\n  adding: bamstats_report.html.data/chr2_Coverage_histogram.png (deflated 21%)\\n  adding: bamstats_report.html.data/chr2_Coverage_boxAndWhisker.png (deflated 18%)\\n  adding: bamstats_report.html.data/chr12_Coverage_histogram.png (deflated 21%)\\n  adding: bamstats_report.html.data/chr1_Coverage_boxAndWhisker.png (deflated 18%)\\n  adding: bamstats_report.html.data/chr14_Coverage_cumulativeHistogram.png (deflated 24%)\\n  adding: bamstats_report.html.data/chr18_Coverage.html (deflated 61%)\\n  adding: bamstats_report.html.data/chr13_Coverage.html (deflated 61%)\\n  adding: bamstats_report.html.data/chr6_Coverage_histogram.png (deflated 22%)\\n  adding: bamstats_report.html.data/chr16_Coverage.html (deflated 61%)\\n  adding: bamstats_report.html.data/chr5_Coverage_cumulativeHistogram.png (deflated 24%)\\n  adding: bamstats_report.html.data/chr4_Coverage_boxAndWhisker.png (deflated 18%)\\n  adding: bamstats_report.html.data/chr15_Coverage_boxAndWhisker.png (deflated 18%)\\n  adding: bamstats_report.html.data/chr1_Coverage_histogram.png (deflated 20%)\\n  adding: bamstats_report.html.data/chrM_Coverage_boxAndWhisker.png (deflated 14%)\\n  adding: bamstats_report.html.data/chrX_Coverage.html (deflated 59%)\\n  adding: bamstats_report.html.data/chr4_Coverage_histogram.png (deflated 21%)\\n  adding: bamstats_report.html.data/chr11_Coverage_boxAndWhisker.png (deflated 17%)\\n  adding: bamstats_report.html.data/chr13_Coverage_histogram.png (deflated 22%)\\n  adding: bamstats_report.html.data/chr7_Coverage_histogram.png (deflated 21%)\\n  adding: bamstats_report.html.data/chr3_Coverage.html (deflated 59%)\\n  adding: bamstats_report.html.data/chr13_Coverage_cumulativeHistogram.png (deflated 25%)\\n  adding: bamstats_report.html.data/chr7_Coverage_cumulativeHistogram.png (deflated 23%)\\n  adding: bamstats_report.html.data/chr11_Coverage.html (deflated 61%)\\n  adding: bamstats_report.html.data/chr1_Coverage_cumulativeHistogram.png (deflated 24%)\\n  adding: bamstats_report.html.data/chr11_Coverage_histogram.png (deflated 21%)\\n  adding: bamstats_report.html.data/chr11_Coverage_cumulativeHistogram.png (deflated 24%)\\n  adding: bamstats_report.html.data/chr13_Coverage_boxAndWhisker.png (deflated 19%)\\n  adding: bamstats_report.html.data/chr1_Coverage.html (deflated 61%)\\n  adding: bamstats_report.html.data/chr7_Coverage_boxAndWhisker.png (deflated 18%)\\n  adding: bamstats_report.html.data/chrM_Coverage_cumulativeHistogram.png (deflated 15%)\\n  adding: bamstats_report.html.data/Coverage_boxAndWhisker.png (deflated 39%)\\n  adding: bamstats_report.html.data/chr19_Coverage_histogram.png (deflated 21%)\\n  adding: bamstats_report.html.data/chrM_Coverage_histogram.png (deflated 16%)\\n  adding: bamstats_report.html.data/chr12_Coverage_boxAndWhisker.png (deflated 18%)\\n  adding: bamstats_report.html.data/chr9_Coverage_boxAndWhisker.png (deflated 17%)\\n  adding: bamstats_report.html.data/chr8_Coverage.html (deflated 61%)\\n  adding: bamstats_report.html.data/chr12_Coverage_cumulativeHistogram.png (deflated 24%)\\n  adding: bamstats_report.html.data/chr16_Coverage_cumulativeHistogram.png (deflated 24%)\\n  adding: bamstats_report.html.data/chr18_Coverage_cumulativeHistogram.png (deflated 24%)\\n  adding: bamstats_report.html.data/chr18_Coverage_boxAndWhisker.png (deflated 17%)\\n  adding: bamstats_report.html.data/chr5_Coverage_boxAndWhisker.png (deflated 17%)\\n  adding: bamstats_report.html.data/chr8_Coverage_boxAndWhisker.png (deflated 18%)\\n  adding: bamstats_report.html.data/chr10_Coverage_histogram.png (deflated 21%)\\n  adding: bamstats_report.html.data/chrY_Coverage.html (deflated 60%)\\n  adding: bamstats_report.html.data/chr14_Coverage.html (deflated 61%)\\n  adding: bamstats_report.html.data/chr14_Coverage_histogram.png (deflated 22%)\\n  adding: bamstats_report.html.data/chr8_Coverage_cumulativeHistogram.png (deflated 24%)\\n  adding: bamstats_report.html.data/chr19_Coverage_cumulativeHistogram.png (deflated 25%)\\n  adding: bamstats_report.html.data/chr17_Coverage_cumulativeHistogram.png (deflated 23%)\\n  adding: bamstats_report.html.data/chr17_Coverage_boxAndWhisker.png (deflated 17%)\\n  adding: bamstats_report.html.data/chr9_Coverage_cumulativeHistogram.png (deflated 23%)\\n  adding: bamstats_report.html.data/chr10_Coverage_boxAndWhisker.png (deflated 17%)\\n  adding: bamstats_report.html.data/chr17_Coverage_histogram.png (deflated 20%)\\n  adding: bamstats_report.html.data/chr19_Coverage_boxAndWhisker.png (deflated 18%)\\n  adding: bamstats_report.html.data/chr4_Coverage.html (deflated 61%)\\n  adding: bamstats_report.html.data/chr16_Coverage_histogram.png (deflated 22%)\\n  adding: bamstats_report.html.data/chr6_Coverage_boxAndWhisker.png (deflated 18%)\\n  adding: bamstats_report.html.data/chr15_Coverage_cumulativeHistogram.png (deflated 24%)\\n  adding: bamstats_report.html.data/chr8_Coverage_histogram.png (deflated 22%)\\n  adding: bamstats_report.html.data/chr9_Coverage.html (deflated 61%)\\n  adding: bamstats_report.html.data/chr15_Coverage.html (deflated 61%)\\n  adding: bamstats_report.html.data/chr14_Coverage_boxAndWhisker.png (deflated 18%)\\n  adding: bamstats_report.html.data/chr6_Coverage_cumulativeHistogram.png (deflated 24%)\\n  adding: bamstats_report.html.data/chr19_Coverage.html (deflated 61%)\\n  adding: bamstats_report.html.data/chr12_Coverage.html (deflated 61%)\\n  adding: bamstats_report.html.data/chr10_Coverage_cumulativeHistogram.png (deflated 24%)\\n  adding: bamstats_report.html.data/chr2_Coverage_cumulativeHistogram.png (deflated 24%)\\n  adding: bamstats_report.html.data/chrM_Coverage.html (deflated 59%)\\n  adding: bamstats_report.html.data/chr7_Coverage.html (deflated 61%)\\n  adding: bamstats_report.html.data/chr15_Coverage_histogram.png (deflated 22%)\\n  adding: bamstats_report.html.data/chr4_Coverage_cumulativeHistogram.png (deflated 24%)\\n  adding: bamstats_report.html.data/chr6_Coverage.html (deflated 61%)\\n  adding: bamstats_report.html.data/chr5_Coverage.html (deflated 61%)\\n  adding: bamstats_report.html.data/chr18_Coverage_histogram.png (deflated 22%)\\nFinal process status is success\",\n",
       "   u'stdout': None}],\n",
       " u'workflow_id': u'49',\n",
       " u'workflow_log': None}"
      ]
     },
     "execution_count": 48,
     "metadata": {},
     "output_type": "execute_result"
    }
   ],
   "source": [
    "get_workflow_run(wes, test1_4_id)"
   ]
  },
  {
   "cell_type": "markdown",
   "metadata": {},
   "source": [
    "#### Test 1.4 Results\n",
    "\n",
    "> Inconclusive. The descriptor document seems to have been correctly retrieved and set, but I'm still unsure if I can trust the `stderr`. I probably need to test sequentially with different workflows."
   ]
  },
  {
   "cell_type": "code",
   "execution_count": null,
   "metadata": {},
   "outputs": [],
   "source": []
  }
 ],
 "metadata": {
  "kernelspec": {
   "display_name": "Python 2",
   "language": "python",
   "name": "python2"
  },
  "language_info": {
   "codemirror_mode": {
    "name": "ipython",
    "version": 2
   },
   "file_extension": ".py",
   "mimetype": "text/x-python",
   "name": "python",
   "nbconvert_exporter": "python",
   "pygments_lexer": "ipython2",
   "version": "2.7.14"
  }
 },
 "nbformat": 4,
 "nbformat_minor": 2
}
